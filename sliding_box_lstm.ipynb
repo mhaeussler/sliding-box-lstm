{
 "cells": [
  {
   "cell_type": "markdown",
   "metadata": {},
   "source": [
    "# Sliding Box LSTMs for churn prediction"
   ]
  },
  {
   "cell_type": "markdown",
   "metadata": {},
   "source": [
    "This notebook explores the concepts of event forecasting events or churn. This is accomplished by training a reccurent LSTM network which uses slices of time series as features and the occurence of events within these windows as labels. These sliding slices are called sliding boxes.\n",
    "\n",
    "The notebook is structured as follows:\n",
    "- exploring the problem\n",
    "- generating artificial data\n",
    "- defining the basic model\n",
    "- training the sliding-box-LSTM"
   ]
  },
  {
   "cell_type": "code",
   "execution_count": 1,
   "metadata": {},
   "outputs": [
    {
     "name": "stderr",
     "output_type": "stream",
     "text": [
      "C:\\Users\\Mo\\Anaconda3\\lib\\site-packages\\h5py\\__init__.py:36: FutureWarning: Conversion of the second argument of issubdtype from `float` to `np.floating` is deprecated. In future, it will be treated as `np.float64 == np.dtype(float).type`.\n",
      "  from ._conv import register_converters as _register_converters\n"
     ]
    }
   ],
   "source": [
    "import numpy as np\n",
    "import matplotlib.pyplot as plt\n",
    "from tensorflow.keras.layers import Dense, LSTM\n",
    "from tensorflow.keras.models import Sequential"
   ]
  },
  {
   "cell_type": "markdown",
   "metadata": {},
   "source": [
    "# Introduction"
   ]
  },
  {
   "cell_type": "markdown",
   "metadata": {},
   "source": [
    "At first, let's setup some data that helps to understand the problem. Lets assume that we have a timeseries consisting of 20 timesteps and 4 binary features. This might look like this:"
   ]
  },
  {
   "cell_type": "code",
   "execution_count": 83,
   "metadata": {},
   "outputs": [
    {
     "name": "stdout",
     "output_type": "stream",
     "text": [
      "[[0 0 0 0 0 0 0 0 0 1 0 0 1 0 0 0 1 0 0 1]\n",
      " [1 0 1 0 1 1 0 1 0 1 0 1 0 0 0 0 1 1 1 0]\n",
      " [1 1 1 0 0 0 0 1 0 0 0 1 1 1 0 0 1 1 1 1]\n",
      " [0 1 1 1 0 0 0 1 1 1 1 0 1 0 0 1 0 1 1 1]]\n"
     ]
    },
    {
     "data": {
      "text/plain": [
       "<matplotlib.image.AxesImage at 0x167c25e7198>"
      ]
     },
     "execution_count": 83,
     "metadata": {},
     "output_type": "execute_result"
    },
    {
     "data": {
      "image/png": "[encoded data removed]",
      "text/plain": [
       "<Figure size 432x288 with 1 Axes>"
      ]
     },
     "metadata": {},
     "output_type": "display_data"
    }
   ],
   "source": [
    "X = np.random.randint(0, 2, size=80).reshape(4,20)\n",
    "print(X)\n",
    "plt.imshow(X, cmap=\"binary\")"
   ]
  },
  {
   "cell_type": "markdown",
   "metadata": {},
   "source": [
    "Out feature vector $y$ is a binary vector that indicates at which timesteps, there is an event of out interest happening. We do not want the event to occur that often so we reduce it's probability like this:"
   ]
  },
  {
   "cell_type": "code",
   "execution_count": 84,
   "metadata": {},
   "outputs": [
    {
     "name": "stdout",
     "output_type": "stream",
     "text": [
      "[[0 0 0 0 0 0 0 0 0 0 0 0 1 0 0 0 0 0 1 0]]\n"
     ]
    },
    {
     "data": {
      "text/plain": [
       "<matplotlib.image.AxesImage at 0x167c3ed0908>"
      ]
     },
     "execution_count": 84,
     "metadata": {},
     "output_type": "execute_result"
    },
    {
     "data": {
      "image/png": "[encoded data removed]",
      "text/plain": [
       "<Figure size 432x288 with 1 Axes>"
      ]
     },
     "metadata": {},
     "output_type": "display_data"
    }
   ],
   "source": [
    "y = np.random.binomial(1, 0.1, size=X.shape[1]).reshape(1,-1)\n",
    "print(y)\n",
    "plt.imshow(y, cmap=\"binary\")"
   ]
  },
  {
   "cell_type": "markdown",
   "metadata": {},
   "source": [
    "## Goal\n",
    "What we want is to predict the occurence of events (indicated by $y_i=1$) before they happen. The concept is shown below:"
   ]
  },
  {
   "cell_type": "code",
   "execution_count": 26,
   "metadata": {},
   "outputs": [],
   "source": [
    "from matplotlib import patches as patches"
   ]
  },
  {
   "cell_type": "code",
   "execution_count": 94,
   "metadata": {},
   "outputs": [],
   "source": [
    "def show_sliding(X, y, tau):\n",
    "    \n",
    "    for i in range(X.shape[1]):\n",
    "\n",
    "        X_window = X.T[i:i+tau].T\n",
    "        y_window = y.T[i:i+tau].T\n",
    "        indicator = 1 if np.sum(y_window) > 0 else 0\n",
    "        print(\"X\", X_window, \"y\", y_window, \"I\", indicator)\n",
    "\n",
    "        boxcolor = \"r\" if indicator else \"b\"\n",
    "\n",
    "        fig, axes = plt.subplots(2, sharex=True)\n",
    "        axes[0].imshow(X, cmap=\"Greys\")\n",
    "        window = patches.Rectangle((-.55 + i, -.55), tau, X.shape[0], alpha=0.4, color=boxcolor)\n",
    "        axes[0].add_patch(window)\n",
    "\n",
    "        axes[1].imshow(y, cmap=\"binary\")\n",
    "        window = patches.Rectangle((-.55 + i, -.55), tau, X.shape[0], alpha=0.4, color=boxcolor)\n",
    "        axes[1].add_patch(window)\n",
    "\n",
    "        plt.show()"
   ]
  },
  {
   "cell_type": "code",
   "execution_count": 96,
   "metadata": {},
   "outputs": [
    {
     "name": "stdout",
     "output_type": "stream",
     "text": [
      "X [[0 0 0]\n",
      " [1 0 1]\n",
      " [1 1 1]\n",
      " [0 1 1]] y [[0 0 0]] I 0\n"
     ]
    },
    {
     "data": {
      "image/png": "[encoded data removed]",
      "text/plain": [
       "<Figure size 432x288 with 2 Axes>"
      ]
     },
     "metadata": {},
     "output_type": "display_data"
    },
    {
     "name": "stdout",
     "output_type": "stream",
     "text": [
      "X [[0 0 0]\n",
      " [0 1 0]\n",
      " [1 1 0]\n",
      " [1 1 1]] y [[0 0 0]] I 0\n"
     ]
    },
    {
     "data": {
      "image/png": "[encoded data removed]",
      "text/plain": [
       "<Figure size 432x288 with 2 Axes>"
      ]
     },
     "metadata": {},
     "output_type": "display_data"
    },
    {
     "name": "stdout",
     "output_type": "stream",
     "text": [
      "X [[0 0 0]\n",
      " [1 0 1]\n",
      " [1 0 0]\n",
      " [1 1 0]] y [[0 0 0]] I 0\n"
     ]
    },
    {
     "data": {
      "image/png": "[encoded data removed]",
      "text/plain": [
       "<Figure size 432x288 with 2 Axes>"
      ]
     },
     "metadata": {},
     "output_type": "display_data"
    },
    {
     "name": "stdout",
     "output_type": "stream",
     "text": [
      "X [[0 0 0]\n",
      " [0 1 1]\n",
      " [0 0 0]\n",
      " [1 0 0]] y [[0 0 0]] I 0\n"
     ]
    },
    {
     "data": {
      "image/png": "[encoded data removed]",
      "text/plain": [
       "<Figure size 432x288 with 2 Axes>"
      ]
     },
     "metadata": {},
     "output_type": "display_data"
    },
    {
     "name": "stdout",
     "output_type": "stream",
     "text": [
      "X [[0 0 0]\n",
      " [1 1 0]\n",
      " [0 0 0]\n",
      " [0 0 0]] y [[0 0 0]] I 0\n"
     ]
    },
    {
     "data": {
      "image/png": "[encoded data removed]",
      "text/plain": [
       "<Figure size 432x288 with 2 Axes>"
      ]
     },
     "metadata": {},
     "output_type": "display_data"
    },
    {
     "name": "stdout",
     "output_type": "stream",
     "text": [
      "X [[0 0 0]\n",
      " [1 0 1]\n",
      " [0 0 1]\n",
      " [0 0 1]] y [[0 0 0]] I 0\n"
     ]
    },
    {
     "data": {
      "image/png": "[encoded data removed]",
      "text/plain": [
       "<Figure size 432x288 with 2 Axes>"
      ]
     },
     "metadata": {},
     "output_type": "display_data"
    },
    {
     "name": "stdout",
     "output_type": "stream",
     "text": [
      "X [[0 0 0]\n",
      " [0 1 0]\n",
      " [0 1 0]\n",
      " [0 1 1]] y [[0 0 0]] I 0\n"
     ]
    },
    {
     "data": {
      "image/png": "[encoded data removed]",
      "text/plain": [
       "<Figure size 432x288 with 2 Axes>"
      ]
     },
     "metadata": {},
     "output_type": "display_data"
    },
    {
     "name": "stdout",
     "output_type": "stream",
     "text": [
      "X [[0 0 1]\n",
      " [1 0 1]\n",
      " [1 0 0]\n",
      " [1 1 1]] y [[0 0 0]] I 0\n"
     ]
    },
    {
     "data": {
      "image/png": "[encoded data removed]",
      "text/plain": [
       "<Figure size 432x288 with 2 Axes>"
      ]
     },
     "metadata": {},
     "output_type": "display_data"
    },
    {
     "name": "stdout",
     "output_type": "stream",
     "text": [
      "X [[0 1 0]\n",
      " [0 1 0]\n",
      " [0 0 0]\n",
      " [1 1 1]] y [[0 0 0]] I 0\n"
     ]
    },
    {
     "data": {
      "image/png": "[encoded data removed]",
      "text/plain": [
       "<Figure size 432x288 with 2 Axes>"
      ]
     },
     "metadata": {},
     "output_type": "display_data"
    },
    {
     "name": "stdout",
     "output_type": "stream",
     "text": [
      "X [[1 0 0]\n",
      " [1 0 1]\n",
      " [0 0 1]\n",
      " [1 1 0]] y [[0 0 0]] I 0\n"
     ]
    },
    {
     "data": {
      "image/png": "[encoded data removed]",
      "text/plain": [
       "<Figure size 432x288 with 2 Axes>"
      ]
     },
     "metadata": {},
     "output_type": "display_data"
    },
    {
     "name": "stdout",
     "output_type": "stream",
     "text": [
      "X [[0 0 1]\n",
      " [0 1 0]\n",
      " [0 1 1]\n",
      " [1 0 1]] y [[0 0 1]] I 1\n"
     ]
    },
    {
     "data": {
      "image/png": "[encoded data removed]",
      "text/plain": [
       "<Figure size 432x288 with 2 Axes>"
      ]
     },
     "metadata": {},
     "output_type": "display_data"
    },
    {
     "name": "stdout",
     "output_type": "stream",
     "text": [
      "X [[0 1 0]\n",
      " [1 0 0]\n",
      " [1 1 1]\n",
      " [0 1 0]] y [[0 1 0]] I 1\n"
     ]
    },
    {
     "data": {
      "image/png": "[encoded data removed]",
      "text/plain": [
       "<Figure size 432x288 with 2 Axes>"
      ]
     },
     "metadata": {},
     "output_type": "display_data"
    },
    {
     "name": "stdout",
     "output_type": "stream",
     "text": [
      "X [[1 0 0]\n",
      " [0 0 0]\n",
      " [1 1 0]\n",
      " [1 0 0]] y [[1 0 0]] I 1\n"
     ]
    },
    {
     "data": {
      "image/png": "[encoded data removed]",
      "text/plain": [
       "<Figure size 432x288 with 2 Axes>"
      ]
     },
     "metadata": {},
     "output_type": "display_data"
    },
    {
     "name": "stdout",
     "output_type": "stream",
     "text": [
      "X [[0 0 0]\n",
      " [0 0 0]\n",
      " [1 0 0]\n",
      " [0 0 1]] y [[0 0 0]] I 0\n"
     ]
    },
    {
     "data": {
      "image/png": "[encoded data removed]",
      "text/plain": [
       "<Figure size 432x288 with 2 Axes>"
      ]
     },
     "metadata": {},
     "output_type": "display_data"
    },
    {
     "name": "stdout",
     "output_type": "stream",
     "text": [
      "X [[0 0 1]\n",
      " [0 0 1]\n",
      " [0 0 1]\n",
      " [0 1 0]] y [[0 0 0]] I 0\n"
     ]
    },
    {
     "data": {
      "image/png": "[encoded data removed]",
      "text/plain": [
       "<Figure size 432x288 with 2 Axes>"
      ]
     },
     "metadata": {},
     "output_type": "display_data"
    },
    {
     "name": "stdout",
     "output_type": "stream",
     "text": [
      "X [[0 1 0]\n",
      " [0 1 1]\n",
      " [0 1 1]\n",
      " [1 0 1]] y [[0 0 0]] I 0\n"
     ]
    },
    {
     "data": {
      "image/png": "[encoded data removed]",
      "text/plain": [
       "<Figure size 432x288 with 2 Axes>"
      ]
     },
     "metadata": {},
     "output_type": "display_data"
    },
    {
     "name": "stdout",
     "output_type": "stream",
     "text": [
      "X [[1 0 0]\n",
      " [1 1 1]\n",
      " [1 1 1]\n",
      " [0 1 1]] y [[0 0 1]] I 1\n"
     ]
    },
    {
     "data": {
      "image/png": "[encoded data removed]",
      "text/plain": [
       "<Figure size 432x288 with 2 Axes>"
      ]
     },
     "metadata": {},
     "output_type": "display_data"
    },
    {
     "name": "stdout",
     "output_type": "stream",
     "text": [
      "X [[0 0 1]\n",
      " [1 1 0]\n",
      " [1 1 1]\n",
      " [1 1 1]] y [[0 1 0]] I 1\n"
     ]
    },
    {
     "data": {
      "image/png": "[encoded data removed]",
      "text/plain": [
       "<Figure size 432x288 with 2 Axes>"
      ]
     },
     "metadata": {},
     "output_type": "display_data"
    },
    {
     "name": "stdout",
     "output_type": "stream",
     "text": [
      "X [[0 1]\n",
      " [1 0]\n",
      " [1 1]\n",
      " [1 1]] y [[1 0]] I 1\n"
     ]
    },
    {
     "data": {
      "image/png": "[encoded data removed]",
      "text/plain": [
       "<Figure size 432x288 with 2 Axes>"
      ]
     },
     "metadata": {},
     "output_type": "display_data"
    },
    {
     "name": "stdout",
     "output_type": "stream",
     "text": [
      "X [[1]\n",
      " [0]\n",
      " [1]\n",
      " [1]] y [[0]] I 0\n"
     ]
    },
    {
     "data": {
      "image/png": "[encoded data removed]",
      "text/plain": [
       "<Figure size 432x288 with 2 Axes>"
      ]
     },
     "metadata": {},
     "output_type": "display_data"
    }
   ],
   "source": [
    "tau = 3     # window size\n",
    "show_sliding(X, y, tau)"
   ]
  },
  {
   "cell_type": "markdown",
   "metadata": {},
   "source": [
    "So our training examples at timestep $t$ comprise the slice of features from $X$ with $\\tau$ timesteps ahead resulting in the slice $X_{t:t+\\tau}$. The corresponding label $y^{(i)}$ for each timewindow $X_{t:t+\\tau}^{(i)}$ is indicated by the occurence of an event of interest during the current time window (box becomes red)."
   ]
  },
  {
   "cell_type": "markdown",
   "metadata": {},
   "source": [
    "When using this concept of binary classification, we can state so far that:\n",
    "- We are able to train on sequences with arbitrary lengths\n",
    "- Our time window is fixed parameter which must be chose carefully"
   ]
  },
  {
   "cell_type": "code",
   "execution_count": 86,
   "metadata": {},
   "outputs": [],
   "source": [
    "# TODO: discuss choosing tau"
   ]
  },
  {
   "cell_type": "markdown",
   "metadata": {},
   "source": [
    "Let's look at a model that can be used for predicting y."
   ]
  },
  {
   "cell_type": "markdown",
   "metadata": {},
   "source": [
    "# Sliding Box Model"
   ]
  },
  {
   "cell_type": "code",
   "execution_count": 87,
   "metadata": {},
   "outputs": [],
   "source": [
    "# todo: describe"
   ]
  },
  {
   "cell_type": "markdown",
   "metadata": {},
   "source": [
    "$$ B_t \\sim Bernoulli(\\theta_T) $$\n",
    "\n",
    "$$ \n",
    "    b_t=\n",
    "    \\left\\{\n",
    "    \\begin{array}{lr}\n",
    "    1,& \\text{If event happened in } [t, t + \\tau)\\\\\n",
    "    0,& Else\n",
    "    \\end{array}\n",
    "    \\right\\}\n",
    "    $$\n",
    "\n",
    "$$ Pr(B_t=b_t)=\\theta_t^{b_t} \\cdot (1-\\theta_t)^{1-b_t} $$"
   ]
  },
  {
   "cell_type": "markdown",
   "metadata": {},
   "source": [
    "$\\theta_t$ is a function of data available at time $\\theta_t = g(x_{0:t})$. So we estimate the probability of an event happening in our sliding box model of width $\\tau$."
   ]
  },
  {
   "cell_type": "markdown",
   "metadata": {},
   "source": [
    "$$\\underset{\\theta_t}{\\text{maximize}}  \\mathfrak{L}(\\theta_t) := \\theta_t^{b_t} \\cdot (1-\\theta_t)^{1-b_t}$$"
   ]
  },
  {
   "cell_type": "markdown",
   "metadata": {},
   "source": [
    "## Build toy data"
   ]
  },
  {
   "cell_type": "markdown",
   "metadata": {},
   "source": [
    "Let's build a synthetic dataset where we can run tests agains. "
   ]
  },
  {
   "cell_type": "code",
   "execution_count": 88,
   "metadata": {},
   "outputs": [],
   "source": [
    "# Makes binary features more likely towards the end of the series\n",
    "def linear_increase_binomial_prob(x, scale=1):\n",
    "    return np.random.binomial(1, x/(len(x)*scale), len(x))"
   ]
  },
  {
   "cell_type": "code",
   "execution_count": 89,
   "metadata": {},
   "outputs": [
    {
     "data": {
      "text/plain": [
       "<matplotlib.image.AxesImage at 0x167c3b06ac8>"
      ]
     },
     "execution_count": 89,
     "metadata": {},
     "output_type": "execute_result"
    },
    {
     "data": {
      "image/png": "[encoded data removed]",
      "text/plain": [
       "<Figure size 432x288 with 1 Axes>"
      ]
     },
     "metadata": {},
     "output_type": "display_data"
    }
   ],
   "source": [
    "plt.imshow(linear_increase_binomial_prob(np.arange(100), scale=1.5).reshape(1,-1))"
   ]
  },
  {
   "cell_type": "code",
   "execution_count": 92,
   "metadata": {},
   "outputs": [],
   "source": [
    "# Generate an artificial target vector\n",
    "def make_y(m, p=0.08):\n",
    "    return np.random.binomial(1,p,m).reshape(1,-1)"
   ]
  },
  {
   "cell_type": "code",
   "execution_count": 93,
   "metadata": {},
   "outputs": [],
   "source": [
    "# Generate artificial feature vector of time series\n",
    "def make_X(m, scales):\n",
    "    x = np.arange(m)\n",
    "    X = []\n",
    "    for scale in scales:\n",
    "        X.append(linear_increase_binomial_prob(x, scale))\n",
    "        \n",
    "    return np.array(X)"
   ]
  },
  {
   "cell_type": "code",
   "execution_count": 111,
   "metadata": {},
   "outputs": [
    {
     "name": "stdout",
     "output_type": "stream",
     "text": [
      "[[0 0 0 0 0 0 0 0 0 0 0 0 0 0 0 0 0 0 0 0 1 0 0 0 0 0 0 0 1 0]\n",
      " [0 0 0 0 0 0 0 0 0 0 0 0 0 0 0 0 1 0 0 0 0 0 0 0 0 0 0 0 0 0]\n",
      " [0 0 0 0 1 0 0 0 0 1 1 1 1 0 0 1 1 0 0 1 1 1 1 0 1 1 1 1 1 1]\n",
      " [0 0 0 0 0 0 0 0 0 0 0 0 0 0 0 0 0 0 0 0 0 0 0 0 0 0 0 0 0 0]\n",
      " [0 0 0 0 0 0 0 0 0 0 0 0 0 0 0 0 0 0 0 0 0 0 0 0 0 0 0 0 0 0]\n",
      " [0 0 0 0 0 0 0 0 0 0 0 0 0 0 0 0 0 0 0 0 0 0 1 0 0 0 0 0 1 0]]\n",
      "[[0 0 0 0 0 0 0 0 0 0 0 0 0 0 0 0 1 0 0 0 0 0 0 0 0 0 0 1 0 0]]\n"
     ]
    }
   ],
   "source": [
    "m = 30\n",
    "scales = [10,15,1,20, 10, 5]        # vary feature distribution\n",
    "    \n",
    "X = make_X(m, scales)\n",
    "y = make_y(m, p=0.08)\n",
    "\n",
    "print(X)\n",
    "print(y)"
   ]
  },
  {
   "cell_type": "code",
   "execution_count": 113,
   "metadata": {},
   "outputs": [],
   "source": [
    "# Disassembles series and it's targets to separate window slices\n",
    "def convert_series_to_Xy(X, y, window):\n",
    "    \n",
    "    Xs = []\n",
    "    Ys = []\n",
    "    n = X.shape[0]\n",
    "    \n",
    "    for i in range(len(X.T)-window+1):\n",
    "\n",
    "        X_window = X.T[i:i+window].T\n",
    "        y_window = y.T[i:i+window].T\n",
    "\n",
    "        indicator = 1 if np.sum(y_window) > 0 else 0\n",
    "        \n",
    "        Xs.append(X_window.T)\n",
    "        Ys.append(indicator)\n",
    "        \n",
    "    return np.array(Xs), np.array(Ys).reshape(1,-1).T\n"
   ]
  },
  {
   "cell_type": "code",
   "execution_count": null,
   "metadata": {},
   "outputs": [],
   "source": [
    "# input shapes are\n",
    "# Samples (one sequence)\n",
    "# Time Steps (one point of observation)\n",
    "# Features\n",
    "# --> data.shape(samples, timesteps, numfeatures) "
   ]
  },
  {
   "cell_type": "code",
   "execution_count": 105,
   "metadata": {},
   "outputs": [
    {
     "name": "stdout",
     "output_type": "stream",
     "text": [
      "X [[0 0 0 0]\n",
      " [0 0 0 0]\n",
      " [0 0 0 1]\n",
      " [0 0 0 0]\n",
      " [0 0 0 0]\n",
      " [0 0 0 0]] y [[0 0 0 0]] I 0\n"
     ]
    },
    {
     "data": {
      "image/png": "[encoded data removed]",
      "text/plain": [
       "<Figure size 432x288 with 2 Axes>"
      ]
     },
     "metadata": {},
     "output_type": "display_data"
    },
    {
     "name": "stdout",
     "output_type": "stream",
     "text": [
      "X [[0 0 0 0]\n",
      " [0 0 0 0]\n",
      " [0 0 1 0]\n",
      " [0 0 0 0]\n",
      " [0 0 0 0]\n",
      " [0 0 0 0]] y [[0 0 0 0]] I 0\n"
     ]
    },
    {
     "data": {
      "image/png": "[encoded data removed]",
      "text/plain": [
       "<Figure size 432x288 with 2 Axes>"
      ]
     },
     "metadata": {},
     "output_type": "display_data"
    },
    {
     "name": "stdout",
     "output_type": "stream",
     "text": [
      "X [[0 0 0 0]\n",
      " [0 0 0 0]\n",
      " [0 1 0 0]\n",
      " [0 0 0 0]\n",
      " [0 0 0 0]\n",
      " [0 0 0 0]] y [[0 0 0 0]] I 0\n"
     ]
    },
    {
     "data": {
      "image/png": "[encoded data removed]",
      "text/plain": [
       "<Figure size 432x288 with 2 Axes>"
      ]
     },
     "metadata": {},
     "output_type": "display_data"
    },
    {
     "name": "stdout",
     "output_type": "stream",
     "text": [
      "X [[0 0 0 0]\n",
      " [0 0 0 0]\n",
      " [1 0 0 0]\n",
      " [0 0 0 0]\n",
      " [0 0 0 0]\n",
      " [0 0 0 0]] y [[0 0 0 0]] I 0\n"
     ]
    },
    {
     "data": {
      "image/png": "[encoded data removed]",
      "text/plain": [
       "<Figure size 432x288 with 2 Axes>"
      ]
     },
     "metadata": {},
     "output_type": "display_data"
    },
    {
     "name": "stdout",
     "output_type": "stream",
     "text": [
      "X [[0 0 0 0]\n",
      " [0 0 0 0]\n",
      " [0 0 0 0]\n",
      " [0 0 0 0]\n",
      " [0 0 0 0]\n",
      " [0 0 0 0]] y [[0 0 0 0]] I 0\n"
     ]
    },
    {
     "data": {
      "image/png": "[encoded data removed]",
      "text/plain": [
       "<Figure size 432x288 with 2 Axes>"
      ]
     },
     "metadata": {},
     "output_type": "display_data"
    },
    {
     "name": "stdout",
     "output_type": "stream",
     "text": [
      "X [[0 0 0 0]\n",
      " [0 0 0 0]\n",
      " [0 0 0 0]\n",
      " [0 0 0 0]\n",
      " [0 0 0 0]\n",
      " [0 0 0 0]] y [[0 0 0 0]] I 0\n"
     ]
    },
    {
     "data": {
      "image/png": "[encoded data removed]",
      "text/plain": [
       "<Figure size 432x288 with 2 Axes>"
      ]
     },
     "metadata": {},
     "output_type": "display_data"
    },
    {
     "name": "stdout",
     "output_type": "stream",
     "text": [
      "X [[0 0 0 0]\n",
      " [0 0 0 0]\n",
      " [0 0 0 0]\n",
      " [0 0 0 0]\n",
      " [0 0 0 0]\n",
      " [0 0 0 0]] y [[0 0 0 0]] I 0\n"
     ]
    },
    {
     "data": {
      "image/png": "[encoded data removed]",
      "text/plain": [
       "<Figure size 432x288 with 2 Axes>"
      ]
     },
     "metadata": {},
     "output_type": "display_data"
    },
    {
     "name": "stdout",
     "output_type": "stream",
     "text": [
      "X [[0 0 0 1]\n",
      " [0 0 0 0]\n",
      " [0 0 0 0]\n",
      " [0 0 0 0]\n",
      " [0 0 0 0]\n",
      " [0 0 0 0]] y [[0 0 0 0]] I 0\n"
     ]
    },
    {
     "data": {
      "image/png": "[encoded data removed]",
      "text/plain": [
       "<Figure size 432x288 with 2 Axes>"
      ]
     },
     "metadata": {},
     "output_type": "display_data"
    },
    {
     "name": "stdout",
     "output_type": "stream",
     "text": [
      "X [[0 0 1 0]\n",
      " [0 0 0 0]\n",
      " [0 0 0 1]\n",
      " [0 0 0 0]\n",
      " [0 0 0 0]\n",
      " [0 0 0 0]] y [[0 0 0 0]] I 0\n"
     ]
    },
    {
     "data": {
      "image/png": "[encoded data removed]",
      "text/plain": [
       "<Figure size 432x288 with 2 Axes>"
      ]
     },
     "metadata": {},
     "output_type": "display_data"
    },
    {
     "name": "stdout",
     "output_type": "stream",
     "text": [
      "X [[0 1 0 0]\n",
      " [0 0 0 0]\n",
      " [0 0 1 0]\n",
      " [0 0 0 0]\n",
      " [0 0 0 0]\n",
      " [0 0 0 0]] y [[0 0 0 0]] I 0\n"
     ]
    },
    {
     "data": {
      "image/png": "[encoded data removed]",
      "text/plain": [
       "<Figure size 432x288 with 2 Axes>"
      ]
     },
     "metadata": {},
     "output_type": "display_data"
    },
    {
     "name": "stdout",
     "output_type": "stream",
     "text": [
      "X [[1 0 0 0]\n",
      " [0 0 0 0]\n",
      " [0 1 0 0]\n",
      " [0 0 0 0]\n",
      " [0 0 0 0]\n",
      " [0 0 0 1]] y [[0 0 0 0]] I 0\n"
     ]
    },
    {
     "data": {
      "image/png": "[encoded data removed]",
      "text/plain": [
       "<Figure size 432x288 with 2 Axes>"
      ]
     },
     "metadata": {},
     "output_type": "display_data"
    },
    {
     "name": "stdout",
     "output_type": "stream",
     "text": [
      "X [[0 0 0 0]\n",
      " [0 0 0 0]\n",
      " [1 0 0 1]\n",
      " [0 0 0 0]\n",
      " [0 0 0 0]\n",
      " [0 0 1 0]] y [[0 0 0 0]] I 0\n"
     ]
    },
    {
     "data": {
      "image/png": "[encoded data removed]",
      "text/plain": [
       "<Figure size 432x288 with 2 Axes>"
      ]
     },
     "metadata": {},
     "output_type": "display_data"
    },
    {
     "name": "stdout",
     "output_type": "stream",
     "text": [
      "X [[0 0 0 0]\n",
      " [0 0 0 0]\n",
      " [0 0 1 1]\n",
      " [0 0 0 0]\n",
      " [0 0 0 0]\n",
      " [0 1 0 0]] y [[0 0 0 0]] I 0\n"
     ]
    },
    {
     "data": {
      "image/png": "[encoded data removed]",
      "text/plain": [
       "<Figure size 432x288 with 2 Axes>"
      ]
     },
     "metadata": {},
     "output_type": "display_data"
    },
    {
     "name": "stdout",
     "output_type": "stream",
     "text": [
      "X [[0 0 0 0]\n",
      " [0 0 0 0]\n",
      " [0 1 1 1]\n",
      " [0 0 0 0]\n",
      " [0 0 0 0]\n",
      " [1 0 0 0]] y [[0 0 0 0]] I 0\n"
     ]
    },
    {
     "data": {
      "image/png": "[encoded data removed]",
      "text/plain": [
       "<Figure size 432x288 with 2 Axes>"
      ]
     },
     "metadata": {},
     "output_type": "display_data"
    },
    {
     "name": "stdout",
     "output_type": "stream",
     "text": [
      "X [[0 0 0 0]\n",
      " [0 0 0 0]\n",
      " [1 1 1 0]\n",
      " [0 0 0 0]\n",
      " [0 0 0 0]\n",
      " [0 0 0 0]] y [[0 0 0 0]] I 0\n"
     ]
    },
    {
     "data": {
      "image/png": "[encoded data removed]",
      "text/plain": [
       "<Figure size 432x288 with 2 Axes>"
      ]
     },
     "metadata": {},
     "output_type": "display_data"
    },
    {
     "name": "stdout",
     "output_type": "stream",
     "text": [
      "X [[0 0 0 0]\n",
      " [0 0 0 0]\n",
      " [1 1 0 0]\n",
      " [0 0 0 0]\n",
      " [0 0 0 0]\n",
      " [0 0 0 0]] y [[0 0 0 0]] I 0\n"
     ]
    },
    {
     "data": {
      "image/png": "[encoded data removed]",
      "text/plain": [
       "<Figure size 432x288 with 2 Axes>"
      ]
     },
     "metadata": {},
     "output_type": "display_data"
    },
    {
     "name": "stdout",
     "output_type": "stream",
     "text": [
      "X [[0 0 0 0]\n",
      " [0 0 0 0]\n",
      " [1 0 0 1]\n",
      " [0 0 0 0]\n",
      " [0 0 0 0]\n",
      " [0 0 0 0]] y [[0 0 0 0]] I 0\n"
     ]
    },
    {
     "data": {
      "image/png": "[encoded data removed]",
      "text/plain": [
       "<Figure size 432x288 with 2 Axes>"
      ]
     },
     "metadata": {},
     "output_type": "display_data"
    },
    {
     "name": "stdout",
     "output_type": "stream",
     "text": [
      "X [[0 0 0 0]\n",
      " [0 0 0 0]\n",
      " [0 0 1 1]\n",
      " [0 0 0 0]\n",
      " [0 0 0 0]\n",
      " [0 0 0 0]] y [[0 0 0 0]] I 0\n"
     ]
    },
    {
     "data": {
      "image/png": "[encoded data removed]",
      "text/plain": [
       "<Figure size 432x288 with 2 Axes>"
      ]
     },
     "metadata": {},
     "output_type": "display_data"
    },
    {
     "name": "stdout",
     "output_type": "stream",
     "text": [
      "X [[0 0 0 0]\n",
      " [0 0 0 0]\n",
      " [0 1 1 0]\n",
      " [0 0 0 0]\n",
      " [0 0 0 0]\n",
      " [0 0 0 0]] y [[0 0 0 0]] I 0\n"
     ]
    },
    {
     "data": {
      "image/png": "[encoded data removed]",
      "text/plain": [
       "<Figure size 432x288 with 2 Axes>"
      ]
     },
     "metadata": {},
     "output_type": "display_data"
    },
    {
     "name": "stdout",
     "output_type": "stream",
     "text": [
      "X [[0 0 0 0]\n",
      " [0 0 0 0]\n",
      " [1 1 0 1]\n",
      " [0 0 0 0]\n",
      " [0 0 0 0]\n",
      " [0 0 0 0]] y [[0 0 0 0]] I 0\n"
     ]
    },
    {
     "data": {
      "image/png": "[encoded data removed]",
      "text/plain": [
       "<Figure size 432x288 with 2 Axes>"
      ]
     },
     "metadata": {},
     "output_type": "display_data"
    },
    {
     "name": "stdout",
     "output_type": "stream",
     "text": [
      "X [[0 0 0 0]\n",
      " [0 0 0 0]\n",
      " [1 0 1 1]\n",
      " [0 0 0 0]\n",
      " [0 0 0 1]\n",
      " [0 0 0 1]] y [[0 0 0 0]] I 0\n"
     ]
    },
    {
     "data": {
      "image/png": "[encoded data removed]",
      "text/plain": [
       "<Figure size 432x288 with 2 Axes>"
      ]
     },
     "metadata": {},
     "output_type": "display_data"
    },
    {
     "name": "stdout",
     "output_type": "stream",
     "text": [
      "X [[0 0 0 0]\n",
      " [0 0 0 0]\n",
      " [0 1 1 0]\n",
      " [0 0 0 0]\n",
      " [0 0 1 0]\n",
      " [0 0 1 0]] y [[0 0 0 0]] I 0\n"
     ]
    },
    {
     "data": {
      "image/png": "[encoded data removed]",
      "text/plain": [
       "<Figure size 432x288 with 2 Axes>"
      ]
     },
     "metadata": {},
     "output_type": "display_data"
    },
    {
     "name": "stdout",
     "output_type": "stream",
     "text": [
      "X [[0 0 0 0]\n",
      " [0 0 0 0]\n",
      " [1 1 0 1]\n",
      " [0 0 0 0]\n",
      " [0 1 0 0]\n",
      " [0 1 0 1]] y [[0 0 0 0]] I 0\n"
     ]
    },
    {
     "data": {
      "image/png": "[encoded data removed]",
      "text/plain": [
       "<Figure size 432x288 with 2 Axes>"
      ]
     },
     "metadata": {},
     "output_type": "display_data"
    },
    {
     "name": "stdout",
     "output_type": "stream",
     "text": [
      "X [[0 0 0 0]\n",
      " [0 0 0 0]\n",
      " [1 0 1 1]\n",
      " [0 0 0 0]\n",
      " [1 0 0 0]\n",
      " [1 0 1 0]] y [[0 0 0 0]] I 0\n"
     ]
    },
    {
     "data": {
      "image/png": "[encoded data removed]",
      "text/plain": [
       "<Figure size 432x288 with 2 Axes>"
      ]
     },
     "metadata": {},
     "output_type": "display_data"
    },
    {
     "name": "stdout",
     "output_type": "stream",
     "text": [
      "X [[0 0 0 0]\n",
      " [0 0 0 0]\n",
      " [0 1 1 1]\n",
      " [0 0 0 0]\n",
      " [0 0 0 0]\n",
      " [0 1 0 0]] y [[0 0 0 0]] I 0\n"
     ]
    },
    {
     "data": {
      "image/png": "[encoded data removed]",
      "text/plain": [
       "<Figure size 432x288 with 2 Axes>"
      ]
     },
     "metadata": {},
     "output_type": "display_data"
    },
    {
     "name": "stdout",
     "output_type": "stream",
     "text": [
      "X [[0 0 0 0]\n",
      " [0 0 0 0]\n",
      " [1 1 1 1]\n",
      " [0 0 0 0]\n",
      " [0 0 0 0]\n",
      " [1 0 0 0]] y [[0 0 0 0]] I 0\n"
     ]
    },
    {
     "data": {
      "image/png": "[encoded data removed]",
      "text/plain": [
       "<Figure size 432x288 with 2 Axes>"
      ]
     },
     "metadata": {},
     "output_type": "display_data"
    },
    {
     "name": "stdout",
     "output_type": "stream",
     "text": [
      "X [[0 0 0 0]\n",
      " [0 0 0 0]\n",
      " [1 1 1 1]\n",
      " [0 0 0 0]\n",
      " [0 0 0 0]\n",
      " [0 0 0 0]] y [[0 0 0 0]] I 0\n"
     ]
    },
    {
     "data": {
      "image/png": "[encoded data removed]",
      "text/plain": [
       "<Figure size 432x288 with 2 Axes>"
      ]
     },
     "metadata": {},
     "output_type": "display_data"
    },
    {
     "name": "stdout",
     "output_type": "stream",
     "text": [
      "X [[0 0 0]\n",
      " [0 0 0]\n",
      " [1 1 1]\n",
      " [0 0 0]\n",
      " [0 0 0]\n",
      " [0 0 0]] y [[0 0 0]] I 0\n"
     ]
    },
    {
     "data": {
      "image/png": "[encoded data removed]",
      "text/plain": [
       "<Figure size 432x288 with 2 Axes>"
      ]
     },
     "metadata": {},
     "output_type": "display_data"
    },
    {
     "name": "stdout",
     "output_type": "stream",
     "text": [
      "X [[0 0]\n",
      " [0 0]\n",
      " [1 1]\n",
      " [0 0]\n",
      " [0 0]\n",
      " [0 0]] y [[0 0]] I 0\n"
     ]
    },
    {
     "data": {
      "image/png": "[encoded data removed]",
      "text/plain": [
       "<Figure size 432x288 with 2 Axes>"
      ]
     },
     "metadata": {},
     "output_type": "display_data"
    },
    {
     "name": "stdout",
     "output_type": "stream",
     "text": [
      "X [[0]\n",
      " [0]\n",
      " [1]\n",
      " [0]\n",
      " [0]\n",
      " [0]] y [[0]] I 0\n"
     ]
    },
    {
     "data": {
      "image/png": "[encoded data removed]",
      "text/plain": [
       "<Figure size 432x288 with 2 Axes>"
      ]
     },
     "metadata": {},
     "output_type": "display_data"
    }
   ],
   "source": [
    "show_sliding(X, y, 4)"
   ]
  },
  {
   "cell_type": "code",
   "execution_count": 119,
   "metadata": {},
   "outputs": [
    {
     "name": "stdout",
     "output_type": "stream",
     "text": [
      "(6, 30)\n",
      "(1, 30)\n"
     ]
    }
   ],
   "source": [
    "print(X.shape)\n",
    "print(y.shape)"
   ]
  },
  {
   "cell_type": "code",
   "execution_count": 114,
   "metadata": {},
   "outputs": [
    {
     "name": "stdout",
     "output_type": "stream",
     "text": [
      "(27, 4, 6)\n",
      "(27, 1)\n"
     ]
    }
   ],
   "source": [
    "tau = 4\n",
    "n   = X.shape[0]\n",
    "\n",
    "Xs, Ys = convert_series_to_Xy(X, y, tau)\n",
    "print(Xs.shape)\n",
    "print(Ys.shape)"
   ]
  },
  {
   "cell_type": "code",
   "execution_count": 121,
   "metadata": {},
   "outputs": [
    {
     "data": {
      "text/plain": [
       "<matplotlib.image.AxesImage at 0x167c3736a90>"
      ]
     },
     "execution_count": 121,
     "metadata": {},
     "output_type": "execute_result"
    },
    {
     "data": {
      "image/png": "[encoded data removed]",
      "text/plain": [
       "<Figure size 432x288 with 1 Axes>"
      ]
     },
     "metadata": {},
     "output_type": "display_data"
    }
   ],
   "source": [
    "plt.imshow(X)"
   ]
  },
  {
   "cell_type": "code",
   "execution_count": 123,
   "metadata": {},
   "outputs": [
    {
     "data": {
      "text/plain": [
       "array([[0, 0, 0, 0],\n",
       "       [0, 0, 0, 0],\n",
       "       [0, 0, 0, 1],\n",
       "       [0, 0, 0, 0],\n",
       "       [0, 0, 0, 0],\n",
       "       [0, 0, 0, 0]])"
      ]
     },
     "execution_count": 123,
     "metadata": {},
     "output_type": "execute_result"
    }
   ],
   "source": [
    "Xs[1].T      # second time box"
   ]
  },
  {
   "cell_type": "code",
   "execution_count": 124,
   "metadata": {},
   "outputs": [],
   "source": [
    "def make_model(tau, n):\n",
    "    \n",
    "    model = Sequential()\n",
    "    model.add(LSTM(32, input_shape=(tau, n)))\n",
    "    model.add(Dense(1, activation=\"sigmoid\"))\n",
    "    \n",
    "    model.compile(optimizer=\"adam\", loss=\"binary_crossentropy\", metrics=[\"accuracy\"])    # Bernoulli Log-Likelihood\n",
    "    \n",
    "    return model"
   ]
  },
  {
   "cell_type": "code",
   "execution_count": 125,
   "metadata": {},
   "outputs": [],
   "source": [
    "model = make_model(tau, n)"
   ]
  },
  {
   "cell_type": "code",
   "execution_count": 128,
   "metadata": {},
   "outputs": [
    {
     "name": "stdout",
     "output_type": "stream",
     "text": [
      "Epoch 1/1000\n",
      "27/27 [==============================] - 0s 222us/sample - loss: 0.0562 - accuracy: 0.9630\n",
      "Epoch 2/1000\n",
      "27/27 [==============================] - 0s 166us/sample - loss: 0.0562 - accuracy: 0.9630\n",
      "Epoch 3/1000\n",
      "27/27 [==============================] - 0s 204us/sample - loss: 0.0562 - accuracy: 0.9630\n",
      "Epoch 4/1000\n",
      "27/27 [==============================] - 0s 167us/sample - loss: 0.0562 - accuracy: 0.9630\n",
      "Epoch 5/1000\n",
      "27/27 [==============================] - 0s 185us/sample - loss: 0.0562 - accuracy: 0.9630\n",
      "Epoch 6/1000\n",
      "27/27 [==============================] - 0s 130us/sample - loss: 0.0562 - accuracy: 0.9630\n",
      "Epoch 7/1000\n",
      "27/27 [==============================] - 0s 167us/sample - loss: 0.0562 - accuracy: 0.9630\n",
      "Epoch 8/1000\n",
      "27/27 [==============================] - 0s 185us/sample - loss: 0.0561 - accuracy: 0.9630\n",
      "Epoch 9/1000\n",
      "27/27 [==============================] - 0s 130us/sample - loss: 0.0561 - accuracy: 0.9630\n",
      "Epoch 10/1000\n",
      "27/27 [==============================] - 0s 148us/sample - loss: 0.0561 - accuracy: 0.9630\n",
      "Epoch 11/1000\n",
      "27/27 [==============================] - 0s 148us/sample - loss: 0.0561 - accuracy: 0.9630\n",
      "Epoch 12/1000\n",
      "27/27 [==============================] - 0s 167us/sample - loss: 0.0561 - accuracy: 0.9630\n",
      "Epoch 13/1000\n",
      "27/27 [==============================] - 0s 259us/sample - loss: 0.0561 - accuracy: 0.9630\n",
      "Epoch 14/1000\n",
      "27/27 [==============================] - 0s 222us/sample - loss: 0.0561 - accuracy: 0.9630\n",
      "Epoch 15/1000\n",
      "27/27 [==============================] - 0s 222us/sample - loss: 0.0560 - accuracy: 0.9630\n",
      "Epoch 16/1000\n",
      "27/27 [==============================] - 0s 167us/sample - loss: 0.0560 - accuracy: 0.9630\n",
      "Epoch 17/1000\n",
      "27/27 [==============================] - 0s 148us/sample - loss: 0.0560 - accuracy: 0.9630\n",
      "Epoch 18/1000\n",
      "27/27 [==============================] - 0s 167us/sample - loss: 0.0560 - accuracy: 0.9630\n",
      "Epoch 19/1000\n",
      "27/27 [==============================] - 0s 148us/sample - loss: 0.0560 - accuracy: 0.9630\n",
      "Epoch 20/1000\n",
      "27/27 [==============================] - 0s 241us/sample - loss: 0.0560 - accuracy: 0.9630\n",
      "Epoch 21/1000\n",
      "27/27 [==============================] - 0s 130us/sample - loss: 0.0560 - accuracy: 0.9630\n",
      "Epoch 22/1000\n",
      "27/27 [==============================] - 0s 185us/sample - loss: 0.0559 - accuracy: 0.9630\n",
      "Epoch 23/1000\n",
      "27/27 [==============================] - 0s 222us/sample - loss: 0.0559 - accuracy: 0.9630\n",
      "Epoch 24/1000\n",
      "27/27 [==============================] - 0s 259us/sample - loss: 0.0559 - accuracy: 0.9630\n",
      "Epoch 25/1000\n",
      "27/27 [==============================] - 0s 185us/sample - loss: 0.0559 - accuracy: 0.9630\n",
      "Epoch 26/1000\n",
      "27/27 [==============================] - 0s 204us/sample - loss: 0.0559 - accuracy: 0.9630\n",
      "Epoch 27/1000\n",
      "27/27 [==============================] - 0s 130us/sample - loss: 0.0559 - accuracy: 0.9630\n",
      "Epoch 28/1000\n",
      "27/27 [==============================] - 0s 352us/sample - loss: 0.0559 - accuracy: 0.9630\n",
      "Epoch 29/1000\n",
      "27/27 [==============================] - 0s 167us/sample - loss: 0.0558 - accuracy: 0.9630\n",
      "Epoch 30/1000\n",
      "27/27 [==============================] - 0s 148us/sample - loss: 0.0558 - accuracy: 0.9630\n",
      "Epoch 31/1000\n",
      "27/27 [==============================] - 0s 148us/sample - loss: 0.0558 - accuracy: 0.9630\n",
      "Epoch 32/1000\n",
      "27/27 [==============================] - 0s 352us/sample - loss: 0.0558 - accuracy: 0.9630\n",
      "Epoch 33/1000\n",
      "27/27 [==============================] - 0s 241us/sample - loss: 0.0558 - accuracy: 0.9630\n",
      "Epoch 34/1000\n",
      "27/27 [==============================] - 0s 167us/sample - loss: 0.0558 - accuracy: 0.9630\n",
      "Epoch 35/1000\n",
      "27/27 [==============================] - 0s 204us/sample - loss: 0.0558 - accuracy: 0.9630\n",
      "Epoch 36/1000\n",
      "27/27 [==============================] - 0s 185us/sample - loss: 0.0558 - accuracy: 0.9630\n",
      "Epoch 37/1000\n",
      "27/27 [==============================] - 0s 148us/sample - loss: 0.0558 - accuracy: 0.9630\n",
      "Epoch 38/1000\n",
      "27/27 [==============================] - 0s 167us/sample - loss: 0.0558 - accuracy: 0.9630\n",
      "Epoch 39/1000\n",
      "27/27 [==============================] - 0s 259us/sample - loss: 0.0558 - accuracy: 0.9630\n",
      "Epoch 40/1000\n",
      "27/27 [==============================] - 0s 130us/sample - loss: 0.0559 - accuracy: 0.9630\n",
      "Epoch 41/1000\n",
      "27/27 [==============================] - 0s 222us/sample - loss: 0.0560 - accuracy: 0.9630\n",
      "Epoch 42/1000\n",
      "27/27 [==============================] - 0s 204us/sample - loss: 0.0561 - accuracy: 0.9630\n",
      "Epoch 43/1000\n",
      "27/27 [==============================] - 0s 148us/sample - loss: 0.0562 - accuracy: 0.9630\n",
      "Epoch 44/1000\n",
      "27/27 [==============================] - 0s 333us/sample - loss: 0.0562 - accuracy: 0.9630\n",
      "Epoch 45/1000\n",
      "27/27 [==============================] - 0s 185us/sample - loss: 0.0559 - accuracy: 0.9630\n",
      "Epoch 46/1000\n",
      "27/27 [==============================] - 0s 167us/sample - loss: 0.0557 - accuracy: 0.9630\n",
      "Epoch 47/1000\n",
      "27/27 [==============================] - 0s 167us/sample - loss: 0.0556 - accuracy: 0.9630\n",
      "Epoch 48/1000\n",
      "27/27 [==============================] - 0s 222us/sample - loss: 0.0557 - accuracy: 0.9630\n",
      "Epoch 49/1000\n",
      "27/27 [==============================] - 0s 167us/sample - loss: 0.0558 - accuracy: 0.9630\n",
      "Epoch 50/1000\n",
      "27/27 [==============================] - 0s 407us/sample - loss: 0.0558 - accuracy: 0.9630\n",
      "Epoch 51/1000\n",
      "27/27 [==============================] - 0s 204us/sample - loss: 0.0557 - accuracy: 0.9630\n",
      "Epoch 52/1000\n",
      "27/27 [==============================] - 0s 167us/sample - loss: 0.0556 - accuracy: 0.9630\n",
      "Epoch 53/1000\n",
      "27/27 [==============================] - 0s 130us/sample - loss: 0.0556 - accuracy: 0.9630\n",
      "Epoch 54/1000\n",
      "27/27 [==============================] - 0s 241us/sample - loss: 0.0556 - accuracy: 0.9630\n",
      "Epoch 55/1000\n",
      "27/27 [==============================] - 0s 148us/sample - loss: 0.0557 - accuracy: 0.9630\n",
      "Epoch 56/1000\n",
      "27/27 [==============================] - 0s 426us/sample - loss: 0.0556 - accuracy: 0.9630\n",
      "Epoch 57/1000\n",
      "27/27 [==============================] - 0s 185us/sample - loss: 0.0555 - accuracy: 0.9630\n",
      "Epoch 58/1000\n",
      "27/27 [==============================] - 0s 148us/sample - loss: 0.0555 - accuracy: 0.9630\n",
      "Epoch 59/1000\n",
      "27/27 [==============================] - 0s 148us/sample - loss: 0.0555 - accuracy: 0.9630\n",
      "Epoch 60/1000\n",
      "27/27 [==============================] - 0s 278us/sample - loss: 0.0555 - accuracy: 0.9630\n",
      "Epoch 61/1000\n",
      "27/27 [==============================] - 0s 167us/sample - loss: 0.0555 - accuracy: 0.9630\n",
      "Epoch 62/1000\n",
      "27/27 [==============================] - 0s 241us/sample - loss: 0.0555 - accuracy: 0.9630\n",
      "Epoch 63/1000\n",
      "27/27 [==============================] - 0s 278us/sample - loss: 0.0554 - accuracy: 0.9630\n",
      "Epoch 64/1000\n",
      "27/27 [==============================] - 0s 241us/sample - loss: 0.0555 - accuracy: 0.9630\n",
      "Epoch 65/1000\n",
      "27/27 [==============================] - 0s 130us/sample - loss: 0.0555 - accuracy: 0.9630\n",
      "Epoch 66/1000\n",
      "27/27 [==============================] - 0s 167us/sample - loss: 0.0554 - accuracy: 0.9630\n",
      "Epoch 67/1000\n",
      "27/27 [==============================] - 0s 148us/sample - loss: 0.0554 - accuracy: 0.9630\n",
      "Epoch 68/1000\n",
      "27/27 [==============================] - 0s 167us/sample - loss: 0.0554 - accuracy: 0.9630\n",
      "Epoch 69/1000\n",
      "27/27 [==============================] - 0s 185us/sample - loss: 0.0554 - accuracy: 0.9630\n",
      "Epoch 70/1000\n",
      "27/27 [==============================] - 0s 278us/sample - loss: 0.0554 - accuracy: 0.9630\n",
      "Epoch 71/1000\n",
      "27/27 [==============================] - 0s 130us/sample - loss: 0.0554 - accuracy: 0.9630\n",
      "Epoch 72/1000\n",
      "27/27 [==============================] - 0s 185us/sample - loss: 0.0553 - accuracy: 0.9630\n",
      "Epoch 73/1000\n",
      "27/27 [==============================] - 0s 185us/sample - loss: 0.0553 - accuracy: 0.9630\n",
      "Epoch 74/1000\n",
      "27/27 [==============================] - 0s 278us/sample - loss: 0.0553 - accuracy: 0.9630\n",
      "Epoch 75/1000\n",
      "27/27 [==============================] - 0s 352us/sample - loss: 0.0553 - accuracy: 0.9630\n",
      "Epoch 76/1000\n",
      "27/27 [==============================] - 0s 167us/sample - loss: 0.0553 - accuracy: 0.9630\n",
      "Epoch 77/1000\n",
      "27/27 [==============================] - 0s 167us/sample - loss: 0.0553 - accuracy: 0.9630\n",
      "Epoch 78/1000\n",
      "27/27 [==============================] - 0s 130us/sample - loss: 0.0553 - accuracy: 0.9630\n",
      "Epoch 79/1000\n",
      "27/27 [==============================] - 0s 185us/sample - loss: 0.0553 - accuracy: 0.9630\n"
     ]
    },
    {
     "name": "stdout",
     "output_type": "stream",
     "text": [
      "Epoch 80/1000\n",
      "27/27 [==============================] - 0s 167us/sample - loss: 0.0553 - accuracy: 0.9630\n",
      "Epoch 81/1000\n",
      "27/27 [==============================] - 0s 148us/sample - loss: 0.0552 - accuracy: 0.9630\n",
      "Epoch 82/1000\n",
      "27/27 [==============================] - 0s 222us/sample - loss: 0.0552 - accuracy: 0.9630\n",
      "Epoch 83/1000\n",
      "27/27 [==============================] - 0s 148us/sample - loss: 0.0552 - accuracy: 0.9630\n",
      "Epoch 84/1000\n",
      "27/27 [==============================] - 0s 333us/sample - loss: 0.0552 - accuracy: 0.9630\n",
      "Epoch 85/1000\n",
      "27/27 [==============================] - 0s 203us/sample - loss: 0.0552 - accuracy: 0.9630\n",
      "Epoch 86/1000\n",
      "27/27 [==============================] - 0s 241us/sample - loss: 0.0552 - accuracy: 0.9630\n",
      "Epoch 87/1000\n",
      "27/27 [==============================] - 0s 148us/sample - loss: 0.0552 - accuracy: 0.9630\n",
      "Epoch 88/1000\n",
      "27/27 [==============================] - 0s 148us/sample - loss: 0.0552 - accuracy: 0.9630\n",
      "Epoch 89/1000\n",
      "27/27 [==============================] - 0s 185us/sample - loss: 0.0552 - accuracy: 0.9630\n",
      "Epoch 90/1000\n",
      "27/27 [==============================] - 0s 204us/sample - loss: 0.0551 - accuracy: 0.9630\n",
      "Epoch 91/1000\n",
      "27/27 [==============================] - 0s 148us/sample - loss: 0.0551 - accuracy: 0.9630\n",
      "Epoch 92/1000\n",
      "27/27 [==============================] - 0s 167us/sample - loss: 0.0551 - accuracy: 0.9630\n",
      "Epoch 93/1000\n",
      "27/27 [==============================] - 0s 130us/sample - loss: 0.0551 - accuracy: 0.9630\n",
      "Epoch 94/1000\n",
      "27/27 [==============================] - 0s 148us/sample - loss: 0.0551 - accuracy: 0.9630\n",
      "Epoch 95/1000\n",
      "27/27 [==============================] - 0s 167us/sample - loss: 0.0551 - accuracy: 0.9630\n",
      "Epoch 96/1000\n",
      "27/27 [==============================] - 0s 167us/sample - loss: 0.0551 - accuracy: 0.9630\n",
      "Epoch 97/1000\n",
      "27/27 [==============================] - 0s 204us/sample - loss: 0.0551 - accuracy: 0.9630\n",
      "Epoch 98/1000\n",
      "27/27 [==============================] - 0s 426us/sample - loss: 0.0551 - accuracy: 0.9630\n",
      "Epoch 99/1000\n",
      "27/27 [==============================] - 0s 148us/sample - loss: 0.0551 - accuracy: 0.9630\n",
      "Epoch 100/1000\n",
      "27/27 [==============================] - 0s 167us/sample - loss: 0.0550 - accuracy: 0.9630\n",
      "Epoch 101/1000\n",
      "27/27 [==============================] - 0s 167us/sample - loss: 0.0550 - accuracy: 0.9630\n",
      "Epoch 102/1000\n",
      "27/27 [==============================] - 0s 130us/sample - loss: 0.0550 - accuracy: 0.9630\n",
      "Epoch 103/1000\n",
      "27/27 [==============================] - 0s 167us/sample - loss: 0.0550 - accuracy: 0.9630\n",
      "Epoch 104/1000\n",
      "27/27 [==============================] - 0s 167us/sample - loss: 0.0550 - accuracy: 0.9630\n",
      "Epoch 105/1000\n",
      "27/27 [==============================] - 0s 148us/sample - loss: 0.0550 - accuracy: 0.9630\n",
      "Epoch 106/1000\n",
      "27/27 [==============================] - 0s 148us/sample - loss: 0.0550 - accuracy: 0.9630\n",
      "Epoch 107/1000\n",
      "27/27 [==============================] - 0s 130us/sample - loss: 0.0550 - accuracy: 0.9630\n",
      "Epoch 108/1000\n",
      "27/27 [==============================] - 0s 204us/sample - loss: 0.0550 - accuracy: 0.9630\n",
      "Epoch 109/1000\n",
      "27/27 [==============================] - 0s 130us/sample - loss: 0.0550 - accuracy: 0.9630\n",
      "Epoch 110/1000\n",
      "27/27 [==============================] - 0s 204us/sample - loss: 0.0550 - accuracy: 0.9630\n",
      "Epoch 111/1000\n",
      "27/27 [==============================] - 0s 185us/sample - loss: 0.0549 - accuracy: 0.9630\n",
      "Epoch 112/1000\n",
      "27/27 [==============================] - 0s 222us/sample - loss: 0.0549 - accuracy: 0.9630\n",
      "Epoch 113/1000\n",
      "27/27 [==============================] - 0s 167us/sample - loss: 0.0549 - accuracy: 0.9630\n",
      "Epoch 114/1000\n",
      "27/27 [==============================] - 0s 148us/sample - loss: 0.0549 - accuracy: 0.9630\n",
      "Epoch 115/1000\n",
      "27/27 [==============================] - 0s 296us/sample - loss: 0.0549 - accuracy: 0.9630\n",
      "Epoch 116/1000\n",
      "27/27 [==============================] - 0s 222us/sample - loss: 0.0549 - accuracy: 0.9630\n",
      "Epoch 117/1000\n",
      "27/27 [==============================] - 0s 278us/sample - loss: 0.0549 - accuracy: 0.9630\n",
      "Epoch 118/1000\n",
      "27/27 [==============================] - 0s 204us/sample - loss: 0.0549 - accuracy: 0.9630\n",
      "Epoch 119/1000\n",
      "27/27 [==============================] - 0s 130us/sample - loss: 0.0549 - accuracy: 0.9630\n",
      "Epoch 120/1000\n",
      "27/27 [==============================] - 0s 130us/sample - loss: 0.0549 - accuracy: 0.9630\n",
      "Epoch 121/1000\n",
      "27/27 [==============================] - 0s 315us/sample - loss: 0.0549 - accuracy: 0.9630\n",
      "Epoch 122/1000\n",
      "27/27 [==============================] - 0s 148us/sample - loss: 0.0548 - accuracy: 0.9630\n",
      "Epoch 123/1000\n",
      "27/27 [==============================] - 0s 259us/sample - loss: 0.0548 - accuracy: 0.9630\n",
      "Epoch 124/1000\n",
      "27/27 [==============================] - 0s 130us/sample - loss: 0.0548 - accuracy: 0.9630\n",
      "Epoch 125/1000\n",
      "27/27 [==============================] - 0s 167us/sample - loss: 0.0548 - accuracy: 0.9630\n",
      "Epoch 126/1000\n",
      "27/27 [==============================] - 0s 148us/sample - loss: 0.0548 - accuracy: 0.9630\n",
      "Epoch 127/1000\n",
      "27/27 [==============================] - 0s 185us/sample - loss: 0.0548 - accuracy: 0.9630\n",
      "Epoch 128/1000\n",
      "27/27 [==============================] - 0s 204us/sample - loss: 0.0548 - accuracy: 0.9630\n",
      "Epoch 129/1000\n",
      "27/27 [==============================] - 0s 185us/sample - loss: 0.0548 - accuracy: 0.9630\n",
      "Epoch 130/1000\n",
      "27/27 [==============================] - 0s 167us/sample - loss: 0.0548 - accuracy: 0.9630\n",
      "Epoch 131/1000\n",
      "27/27 [==============================] - 0s 167us/sample - loss: 0.0548 - accuracy: 0.9630\n",
      "Epoch 132/1000\n",
      "27/27 [==============================] - 0s 278us/sample - loss: 0.0548 - accuracy: 0.9630\n",
      "Epoch 133/1000\n",
      "27/27 [==============================] - 0s 185us/sample - loss: 0.0547 - accuracy: 0.9630\n",
      "Epoch 134/1000\n",
      "27/27 [==============================] - 0s 259us/sample - loss: 0.0547 - accuracy: 0.9630\n",
      "Epoch 135/1000\n",
      "27/27 [==============================] - 0s 222us/sample - loss: 0.0547 - accuracy: 0.9630\n",
      "Epoch 136/1000\n",
      "27/27 [==============================] - 0s 130us/sample - loss: 0.0547 - accuracy: 0.9630\n",
      "Epoch 137/1000\n",
      "27/27 [==============================] - 0s 148us/sample - loss: 0.0547 - accuracy: 0.9630\n",
      "Epoch 138/1000\n",
      "27/27 [==============================] - 0s 204us/sample - loss: 0.0547 - accuracy: 0.9630\n",
      "Epoch 139/1000\n",
      "27/27 [==============================] - 0s 148us/sample - loss: 0.0547 - accuracy: 0.9630\n",
      "Epoch 140/1000\n",
      "27/27 [==============================] - 0s 148us/sample - loss: 0.0547 - accuracy: 0.9630\n",
      "Epoch 141/1000\n",
      "27/27 [==============================] - 0s 204us/sample - loss: 0.0547 - accuracy: 0.9630\n",
      "Epoch 142/1000\n",
      "27/27 [==============================] - 0s 148us/sample - loss: 0.0547 - accuracy: 0.9630\n",
      "Epoch 143/1000\n",
      "27/27 [==============================] - 0s 315us/sample - loss: 0.0547 - accuracy: 0.9630\n",
      "Epoch 144/1000\n",
      "27/27 [==============================] - 0s 130us/sample - loss: 0.0547 - accuracy: 0.9630\n",
      "Epoch 145/1000\n",
      "27/27 [==============================] - 0s 167us/sample - loss: 0.0546 - accuracy: 0.9630\n",
      "Epoch 146/1000\n",
      "27/27 [==============================] - 0s 167us/sample - loss: 0.0546 - accuracy: 0.9630\n",
      "Epoch 147/1000\n",
      "27/27 [==============================] - 0s 167us/sample - loss: 0.0546 - accuracy: 0.9630\n",
      "Epoch 148/1000\n",
      "27/27 [==============================] - 0s 222us/sample - loss: 0.0546 - accuracy: 0.9630\n",
      "Epoch 149/1000\n",
      "27/27 [==============================] - 0s 148us/sample - loss: 0.0546 - accuracy: 0.9630\n",
      "Epoch 150/1000\n",
      "27/27 [==============================] - 0s 148us/sample - loss: 0.0546 - accuracy: 0.9630\n",
      "Epoch 151/1000\n",
      "27/27 [==============================] - 0s 148us/sample - loss: 0.0546 - accuracy: 0.9630\n",
      "Epoch 152/1000\n",
      "27/27 [==============================] - 0s 130us/sample - loss: 0.0546 - accuracy: 0.9630\n",
      "Epoch 153/1000\n",
      "27/27 [==============================] - 0s 222us/sample - loss: 0.0546 - accuracy: 0.9630\n",
      "Epoch 154/1000\n",
      "27/27 [==============================] - 0s 148us/sample - loss: 0.0546 - accuracy: 0.9630\n",
      "Epoch 155/1000\n",
      "27/27 [==============================] - 0s 148us/sample - loss: 0.0546 - accuracy: 0.9630\n",
      "Epoch 156/1000\n",
      "27/27 [==============================] - 0s 222us/sample - loss: 0.0546 - accuracy: 0.9630\n",
      "Epoch 157/1000\n",
      "27/27 [==============================] - 0s 148us/sample - loss: 0.0546 - accuracy: 0.9630\n"
     ]
    },
    {
     "name": "stdout",
     "output_type": "stream",
     "text": [
      "Epoch 158/1000\n",
      "27/27 [==============================] - 0s 204us/sample - loss: 0.0546 - accuracy: 0.9630\n",
      "Epoch 159/1000\n",
      "27/27 [==============================] - 0s 278us/sample - loss: 0.0547 - accuracy: 0.9630\n",
      "Epoch 160/1000\n",
      "27/27 [==============================] - 0s 241us/sample - loss: 0.0547 - accuracy: 0.9630\n",
      "Epoch 161/1000\n",
      "27/27 [==============================] - 0s 148us/sample - loss: 0.0549 - accuracy: 0.9630\n",
      "Epoch 162/1000\n",
      "27/27 [==============================] - 0s 148us/sample - loss: 0.0550 - accuracy: 0.9630\n",
      "Epoch 163/1000\n",
      "27/27 [==============================] - 0s 222us/sample - loss: 0.0552 - accuracy: 0.9630\n",
      "Epoch 164/1000\n",
      "27/27 [==============================] - 0s 148us/sample - loss: 0.0552 - accuracy: 0.9630\n",
      "Epoch 165/1000\n",
      "27/27 [==============================] - 0s 204us/sample - loss: 0.0549 - accuracy: 0.9630\n",
      "Epoch 166/1000\n",
      "27/27 [==============================] - 0s 148us/sample - loss: 0.0546 - accuracy: 0.9630\n",
      "Epoch 167/1000\n",
      "27/27 [==============================] - 0s 167us/sample - loss: 0.0545 - accuracy: 0.9630\n",
      "Epoch 168/1000\n",
      "27/27 [==============================] - 0s 148us/sample - loss: 0.0546 - accuracy: 0.9630\n",
      "Epoch 169/1000\n",
      "27/27 [==============================] - 0s 167us/sample - loss: 0.0548 - accuracy: 0.9630\n",
      "Epoch 170/1000\n",
      "27/27 [==============================] - 0s 185us/sample - loss: 0.0548 - accuracy: 0.9630\n",
      "Epoch 171/1000\n",
      "27/27 [==============================] - 0s 130us/sample - loss: 0.0546 - accuracy: 0.9630\n",
      "Epoch 172/1000\n",
      "27/27 [==============================] - 0s 148us/sample - loss: 0.0544 - accuracy: 0.9630\n",
      "Epoch 173/1000\n",
      "27/27 [==============================] - 0s 130us/sample - loss: 0.0545 - accuracy: 0.9630\n",
      "Epoch 174/1000\n",
      "27/27 [==============================] - 0s 148us/sample - loss: 0.0546 - accuracy: 0.9630\n",
      "Epoch 175/1000\n",
      "27/27 [==============================] - 0s 204us/sample - loss: 0.0546 - accuracy: 0.9630\n",
      "Epoch 176/1000\n",
      "27/27 [==============================] - 0s 222us/sample - loss: 0.0545 - accuracy: 0.9630\n",
      "Epoch 177/1000\n",
      "27/27 [==============================] - 0s 241us/sample - loss: 0.0544 - accuracy: 0.9630\n",
      "Epoch 178/1000\n",
      "27/27 [==============================] - 0s 278us/sample - loss: 0.0544 - accuracy: 0.9630\n",
      "Epoch 179/1000\n",
      "27/27 [==============================] - 0s 185us/sample - loss: 0.0545 - accuracy: 0.9630\n",
      "Epoch 180/1000\n",
      "27/27 [==============================] - 0s 167us/sample - loss: 0.0545 - accuracy: 0.9630\n",
      "Epoch 181/1000\n",
      "27/27 [==============================] - 0s 222us/sample - loss: 0.0544 - accuracy: 0.9630\n",
      "Epoch 182/1000\n",
      "27/27 [==============================] - 0s 204us/sample - loss: 0.0544 - accuracy: 0.9630\n",
      "Epoch 183/1000\n",
      "27/27 [==============================] - 0s 241us/sample - loss: 0.0544 - accuracy: 0.9630\n",
      "Epoch 184/1000\n",
      "27/27 [==============================] - 0s 130us/sample - loss: 0.0544 - accuracy: 0.9630\n",
      "Epoch 185/1000\n",
      "27/27 [==============================] - 0s 148us/sample - loss: 0.0544 - accuracy: 0.9630\n",
      "Epoch 186/1000\n",
      "27/27 [==============================] - 0s 167us/sample - loss: 0.0544 - accuracy: 0.9630\n",
      "Epoch 187/1000\n",
      "27/27 [==============================] - 0s 148us/sample - loss: 0.0543 - accuracy: 0.9630\n",
      "Epoch 188/1000\n",
      "27/27 [==============================] - 0s 148us/sample - loss: 0.0543 - accuracy: 0.9630\n",
      "Epoch 189/1000\n",
      "27/27 [==============================] - 0s 148us/sample - loss: 0.0544 - accuracy: 0.9630\n",
      "Epoch 190/1000\n",
      "27/27 [==============================] - 0s 222us/sample - loss: 0.0544 - accuracy: 0.9630\n",
      "Epoch 191/1000\n",
      "27/27 [==============================] - 0s 130us/sample - loss: 0.0543 - accuracy: 0.9630\n",
      "Epoch 192/1000\n",
      "27/27 [==============================] - 0s 259us/sample - loss: 0.0543 - accuracy: 0.9630\n",
      "Epoch 193/1000\n",
      "27/27 [==============================] - 0s 167us/sample - loss: 0.0543 - accuracy: 0.9630\n",
      "Epoch 194/1000\n",
      "27/27 [==============================] - 0s 204us/sample - loss: 0.0543 - accuracy: 0.9630\n",
      "Epoch 195/1000\n",
      "27/27 [==============================] - 0s 204us/sample - loss: 0.0543 - accuracy: 0.9630\n",
      "Epoch 196/1000\n",
      "27/27 [==============================] - 0s 204us/sample - loss: 0.0543 - accuracy: 0.9630\n",
      "Epoch 197/1000\n",
      "27/27 [==============================] - 0s 148us/sample - loss: 0.0543 - accuracy: 0.9630\n",
      "Epoch 198/1000\n",
      "27/27 [==============================] - 0s 148us/sample - loss: 0.0543 - accuracy: 0.9630\n",
      "Epoch 199/1000\n",
      "27/27 [==============================] - 0s 333us/sample - loss: 0.0543 - accuracy: 0.9630\n",
      "Epoch 200/1000\n",
      "27/27 [==============================] - 0s 148us/sample - loss: 0.0543 - accuracy: 0.9630\n",
      "Epoch 201/1000\n",
      "27/27 [==============================] - 0s 204us/sample - loss: 0.0542 - accuracy: 0.9630\n",
      "Epoch 202/1000\n",
      "27/27 [==============================] - 0s 167us/sample - loss: 0.0542 - accuracy: 0.9630\n",
      "Epoch 203/1000\n",
      "27/27 [==============================] - 0s 222us/sample - loss: 0.0542 - accuracy: 0.9630\n",
      "Epoch 204/1000\n",
      "27/27 [==============================] - 0s 222us/sample - loss: 0.0542 - accuracy: 0.9630\n",
      "Epoch 205/1000\n",
      "27/27 [==============================] - 0s 130us/sample - loss: 0.0542 - accuracy: 0.9630\n",
      "Epoch 206/1000\n",
      "27/27 [==============================] - 0s 148us/sample - loss: 0.0542 - accuracy: 0.9630\n",
      "Epoch 207/1000\n",
      "27/27 [==============================] - 0s 333us/sample - loss: 0.0542 - accuracy: 0.9630\n",
      "Epoch 208/1000\n",
      "27/27 [==============================] - 0s 167us/sample - loss: 0.0542 - accuracy: 0.9630\n",
      "Epoch 209/1000\n",
      "27/27 [==============================] - 0s 204us/sample - loss: 0.0542 - accuracy: 0.9630\n",
      "Epoch 210/1000\n",
      "27/27 [==============================] - 0s 148us/sample - loss: 0.0542 - accuracy: 0.9630\n",
      "Epoch 211/1000\n",
      "27/27 [==============================] - 0s 222us/sample - loss: 0.0542 - accuracy: 0.9630\n",
      "Epoch 212/1000\n",
      "27/27 [==============================] - 0s 167us/sample - loss: 0.0542 - accuracy: 0.9630\n",
      "Epoch 213/1000\n",
      "27/27 [==============================] - 0s 204us/sample - loss: 0.0542 - accuracy: 0.9630\n",
      "Epoch 214/1000\n",
      "27/27 [==============================] - 0s 167us/sample - loss: 0.0542 - accuracy: 0.9630\n",
      "Epoch 215/1000\n",
      "27/27 [==============================] - 0s 204us/sample - loss: 0.0542 - accuracy: 0.9630\n",
      "Epoch 216/1000\n",
      "27/27 [==============================] - 0s 130us/sample - loss: 0.0542 - accuracy: 0.9630\n",
      "Epoch 217/1000\n",
      "27/27 [==============================] - 0s 204us/sample - loss: 0.0541 - accuracy: 0.9630\n",
      "Epoch 218/1000\n",
      "27/27 [==============================] - 0s 130us/sample - loss: 0.0541 - accuracy: 0.9630\n",
      "Epoch 219/1000\n",
      "27/27 [==============================] - 0s 167us/sample - loss: 0.0541 - accuracy: 0.9630\n",
      "Epoch 220/1000\n",
      "27/27 [==============================] - 0s 241us/sample - loss: 0.0541 - accuracy: 0.9630\n",
      "Epoch 221/1000\n",
      "27/27 [==============================] - 0s 185us/sample - loss: 0.0541 - accuracy: 0.9630\n",
      "Epoch 222/1000\n",
      "27/27 [==============================] - 0s 426us/sample - loss: 0.0541 - accuracy: 0.9630\n",
      "Epoch 223/1000\n",
      "27/27 [==============================] - 0s 222us/sample - loss: 0.0541 - accuracy: 0.9630\n",
      "Epoch 224/1000\n",
      "27/27 [==============================] - 0s 148us/sample - loss: 0.0541 - accuracy: 0.9630\n",
      "Epoch 225/1000\n",
      "27/27 [==============================] - 0s 278us/sample - loss: 0.0541 - accuracy: 0.9630\n",
      "Epoch 226/1000\n",
      "27/27 [==============================] - 0s 167us/sample - loss: 0.0541 - accuracy: 0.9630\n",
      "Epoch 227/1000\n",
      "27/27 [==============================] - 0s 148us/sample - loss: 0.0541 - accuracy: 0.9630\n",
      "Epoch 228/1000\n",
      "27/27 [==============================] - 0s 204us/sample - loss: 0.0541 - accuracy: 0.9630\n",
      "Epoch 229/1000\n",
      "27/27 [==============================] - 0s 130us/sample - loss: 0.0541 - accuracy: 0.9630\n",
      "Epoch 230/1000\n",
      "27/27 [==============================] - 0s 222us/sample - loss: 0.0541 - accuracy: 0.9630\n",
      "Epoch 231/1000\n",
      "27/27 [==============================] - 0s 148us/sample - loss: 0.0541 - accuracy: 0.9630\n",
      "Epoch 232/1000\n",
      "27/27 [==============================] - 0s 167us/sample - loss: 0.0541 - accuracy: 0.9630\n",
      "Epoch 233/1000\n",
      "27/27 [==============================] - 0s 204us/sample - loss: 0.0540 - accuracy: 0.9630\n",
      "Epoch 234/1000\n",
      "27/27 [==============================] - 0s 148us/sample - loss: 0.0540 - accuracy: 0.9630\n",
      "Epoch 235/1000\n",
      "27/27 [==============================] - 0s 222us/sample - loss: 0.0540 - accuracy: 0.9630\n"
     ]
    },
    {
     "name": "stdout",
     "output_type": "stream",
     "text": [
      "Epoch 236/1000\n",
      "27/27 [==============================] - 0s 167us/sample - loss: 0.0540 - accuracy: 0.9630\n",
      "Epoch 237/1000\n",
      "27/27 [==============================] - 0s 222us/sample - loss: 0.0540 - accuracy: 0.9630\n",
      "Epoch 238/1000\n",
      "27/27 [==============================] - 0s 185us/sample - loss: 0.0540 - accuracy: 0.9630\n",
      "Epoch 239/1000\n",
      "27/27 [==============================] - 0s 148us/sample - loss: 0.0540 - accuracy: 0.9630\n",
      "Epoch 240/1000\n",
      "27/27 [==============================] - 0s 222us/sample - loss: 0.0540 - accuracy: 0.9630\n",
      "Epoch 241/1000\n",
      "27/27 [==============================] - 0s 148us/sample - loss: 0.0540 - accuracy: 0.9630\n",
      "Epoch 242/1000\n",
      "27/27 [==============================] - 0s 222us/sample - loss: 0.0540 - accuracy: 0.9630\n",
      "Epoch 243/1000\n",
      "27/27 [==============================] - 0s 167us/sample - loss: 0.0540 - accuracy: 0.9630\n",
      "Epoch 244/1000\n",
      "27/27 [==============================] - 0s 204us/sample - loss: 0.0540 - accuracy: 0.9630\n",
      "Epoch 245/1000\n",
      "27/27 [==============================] - 0s 185us/sample - loss: 0.0540 - accuracy: 0.9630\n",
      "Epoch 246/1000\n",
      "27/27 [==============================] - 0s 148us/sample - loss: 0.0540 - accuracy: 0.9630\n",
      "Epoch 247/1000\n",
      "27/27 [==============================] - 0s 222us/sample - loss: 0.0540 - accuracy: 0.9630\n",
      "Epoch 248/1000\n",
      "27/27 [==============================] - 0s 241us/sample - loss: 0.0540 - accuracy: 0.9630\n",
      "Epoch 249/1000\n",
      "27/27 [==============================] - 0s 204us/sample - loss: 0.0540 - accuracy: 0.9630\n",
      "Epoch 250/1000\n",
      "27/27 [==============================] - 0s 259us/sample - loss: 0.0540 - accuracy: 0.9630\n",
      "Epoch 251/1000\n",
      "27/27 [==============================] - 0s 204us/sample - loss: 0.0539 - accuracy: 0.9630\n",
      "Epoch 252/1000\n",
      "27/27 [==============================] - 0s 315us/sample - loss: 0.0539 - accuracy: 0.9630\n",
      "Epoch 253/1000\n",
      "27/27 [==============================] - 0s 222us/sample - loss: 0.0539 - accuracy: 0.9630\n",
      "Epoch 254/1000\n",
      "27/27 [==============================] - 0s 130us/sample - loss: 0.0539 - accuracy: 0.9630\n",
      "Epoch 255/1000\n",
      "27/27 [==============================] - 0s 315us/sample - loss: 0.0539 - accuracy: 0.9630\n",
      "Epoch 256/1000\n",
      "27/27 [==============================] - 0s 241us/sample - loss: 0.0539 - accuracy: 0.9630\n",
      "Epoch 257/1000\n",
      "27/27 [==============================] - 0s 278us/sample - loss: 0.0539 - accuracy: 0.9630\n",
      "Epoch 258/1000\n",
      "27/27 [==============================] - 0s 185us/sample - loss: 0.0539 - accuracy: 0.9630\n",
      "Epoch 259/1000\n",
      "27/27 [==============================] - 0s 204us/sample - loss: 0.0539 - accuracy: 0.9630\n",
      "Epoch 260/1000\n",
      "27/27 [==============================] - 0s 204us/sample - loss: 0.0539 - accuracy: 0.9630\n",
      "Epoch 261/1000\n",
      "27/27 [==============================] - 0s 148us/sample - loss: 0.0539 - accuracy: 0.9630\n",
      "Epoch 262/1000\n",
      "27/27 [==============================] - 0s 204us/sample - loss: 0.0539 - accuracy: 0.9630\n",
      "Epoch 263/1000\n",
      "27/27 [==============================] - 0s 148us/sample - loss: 0.0539 - accuracy: 0.9630\n",
      "Epoch 264/1000\n",
      "27/27 [==============================] - 0s 296us/sample - loss: 0.0539 - accuracy: 0.9630\n",
      "Epoch 265/1000\n",
      "27/27 [==============================] - 0s 167us/sample - loss: 0.0539 - accuracy: 0.9630\n",
      "Epoch 266/1000\n",
      "27/27 [==============================] - 0s 333us/sample - loss: 0.0539 - accuracy: 0.9630\n",
      "Epoch 267/1000\n",
      "27/27 [==============================] - 0s 185us/sample - loss: 0.0539 - accuracy: 0.9630\n",
      "Epoch 268/1000\n",
      "27/27 [==============================] - 0s 259us/sample - loss: 0.0539 - accuracy: 0.9630\n",
      "Epoch 269/1000\n",
      "27/27 [==============================] - 0s 333us/sample - loss: 0.0538 - accuracy: 0.9630\n",
      "Epoch 270/1000\n",
      "27/27 [==============================] - 0s 241us/sample - loss: 0.0538 - accuracy: 0.9630\n",
      "Epoch 271/1000\n",
      "27/27 [==============================] - 0s 259us/sample - loss: 0.0538 - accuracy: 0.9630\n",
      "Epoch 272/1000\n",
      "27/27 [==============================] - 0s 204us/sample - loss: 0.0538 - accuracy: 0.9630\n",
      "Epoch 273/1000\n",
      "27/27 [==============================] - 0s 222us/sample - loss: 0.0538 - accuracy: 0.9630\n",
      "Epoch 274/1000\n",
      "27/27 [==============================] - 0s 148us/sample - loss: 0.0538 - accuracy: 0.9630\n",
      "Epoch 275/1000\n",
      "27/27 [==============================] - 0s 185us/sample - loss: 0.0538 - accuracy: 0.9630\n",
      "Epoch 276/1000\n",
      "27/27 [==============================] - 0s 111us/sample - loss: 0.0538 - accuracy: 0.9630\n",
      "Epoch 277/1000\n",
      "27/27 [==============================] - 0s 185us/sample - loss: 0.0538 - accuracy: 0.9630\n",
      "Epoch 278/1000\n",
      "27/27 [==============================] - 0s 167us/sample - loss: 0.0538 - accuracy: 0.9630\n",
      "Epoch 279/1000\n",
      "27/27 [==============================] - 0s 148us/sample - loss: 0.0538 - accuracy: 0.9630\n",
      "Epoch 280/1000\n",
      "27/27 [==============================] - 0s 259us/sample - loss: 0.0538 - accuracy: 0.9630\n",
      "Epoch 281/1000\n",
      "27/27 [==============================] - 0s 296us/sample - loss: 0.0538 - accuracy: 0.9630\n",
      "Epoch 282/1000\n",
      "27/27 [==============================] - 0s 204us/sample - loss: 0.0538 - accuracy: 0.9630\n",
      "Epoch 283/1000\n",
      "27/27 [==============================] - 0s 167us/sample - loss: 0.0538 - accuracy: 0.9630\n",
      "Epoch 284/1000\n",
      "27/27 [==============================] - 0s 167us/sample - loss: 0.0538 - accuracy: 0.9630\n",
      "Epoch 285/1000\n",
      "27/27 [==============================] - 0s 204us/sample - loss: 0.0538 - accuracy: 0.9630\n",
      "Epoch 286/1000\n",
      "27/27 [==============================] - 0s 148us/sample - loss: 0.0538 - accuracy: 0.9630\n",
      "Epoch 287/1000\n",
      "27/27 [==============================] - 0s 167us/sample - loss: 0.0538 - accuracy: 0.9630\n",
      "Epoch 288/1000\n",
      "27/27 [==============================] - 0s 222us/sample - loss: 0.0538 - accuracy: 0.9630\n",
      "Epoch 289/1000\n",
      "27/27 [==============================] - 0s 130us/sample - loss: 0.0537 - accuracy: 0.9630\n",
      "Epoch 290/1000\n",
      "27/27 [==============================] - 0s 204us/sample - loss: 0.0537 - accuracy: 0.9630\n",
      "Epoch 291/1000\n",
      "27/27 [==============================] - 0s 130us/sample - loss: 0.0537 - accuracy: 0.9630\n",
      "Epoch 292/1000\n",
      "27/27 [==============================] - 0s 167us/sample - loss: 0.0537 - accuracy: 0.9630\n",
      "Epoch 293/1000\n",
      "27/27 [==============================] - 0s 204us/sample - loss: 0.0537 - accuracy: 0.9630\n",
      "Epoch 294/1000\n",
      "27/27 [==============================] - 0s 241us/sample - loss: 0.0537 - accuracy: 0.9630\n",
      "Epoch 295/1000\n",
      "27/27 [==============================] - 0s 185us/sample - loss: 0.0537 - accuracy: 0.9630\n",
      "Epoch 296/1000\n",
      "27/27 [==============================] - 0s 148us/sample - loss: 0.0537 - accuracy: 0.9630\n",
      "Epoch 297/1000\n",
      "27/27 [==============================] - 0s 204us/sample - loss: 0.0537 - accuracy: 0.9630\n",
      "Epoch 298/1000\n",
      "27/27 [==============================] - 0s 148us/sample - loss: 0.0537 - accuracy: 0.9630\n",
      "Epoch 299/1000\n",
      "27/27 [==============================] - 0s 148us/sample - loss: 0.0537 - accuracy: 0.9630\n",
      "Epoch 300/1000\n",
      "27/27 [==============================] - 0s 130us/sample - loss: 0.0537 - accuracy: 0.9630\n",
      "Epoch 301/1000\n",
      "27/27 [==============================] - 0s 167us/sample - loss: 0.0537 - accuracy: 0.9630\n",
      "Epoch 302/1000\n",
      "27/27 [==============================] - 0s 222us/sample - loss: 0.0537 - accuracy: 0.9630\n",
      "Epoch 303/1000\n",
      "27/27 [==============================] - 0s 167us/sample - loss: 0.0537 - accuracy: 0.9630\n",
      "Epoch 304/1000\n",
      "27/27 [==============================] - 0s 185us/sample - loss: 0.0537 - accuracy: 0.9630\n",
      "Epoch 305/1000\n",
      "27/27 [==============================] - 0s 315us/sample - loss: 0.0537 - accuracy: 0.9630\n",
      "Epoch 306/1000\n",
      "27/27 [==============================] - 0s 222us/sample - loss: 0.0538 - accuracy: 0.9630\n",
      "Epoch 307/1000\n",
      "27/27 [==============================] - 0s 148us/sample - loss: 0.0539 - accuracy: 0.9630\n",
      "Epoch 308/1000\n",
      "27/27 [==============================] - 0s 148us/sample - loss: 0.0541 - accuracy: 0.9630\n",
      "Epoch 309/1000\n",
      "27/27 [==============================] - 0s 167us/sample - loss: 0.0544 - accuracy: 0.9630\n",
      "Epoch 310/1000\n",
      "27/27 [==============================] - 0s 389us/sample - loss: 0.0548 - accuracy: 0.9630\n",
      "Epoch 311/1000\n",
      "27/27 [==============================] - 0s 167us/sample - loss: 0.0548 - accuracy: 0.9630\n",
      "Epoch 312/1000\n",
      "27/27 [==============================] - 0s 167us/sample - loss: 0.0543 - accuracy: 0.9630\n",
      "Epoch 313/1000\n",
      "27/27 [==============================] - 0s 222us/sample - loss: 0.0538 - accuracy: 0.9630\n"
     ]
    },
    {
     "name": "stdout",
     "output_type": "stream",
     "text": [
      "Epoch 314/1000\n",
      "27/27 [==============================] - 0s 148us/sample - loss: 0.0537 - accuracy: 0.9630\n",
      "Epoch 315/1000\n",
      "27/27 [==============================] - 0s 204us/sample - loss: 0.0540 - accuracy: 0.9630\n",
      "Epoch 316/1000\n",
      "27/27 [==============================] - 0s 130us/sample - loss: 0.0542 - accuracy: 0.9630\n",
      "Epoch 317/1000\n",
      "27/27 [==============================] - 0s 148us/sample - loss: 0.0540 - accuracy: 0.9630\n",
      "Epoch 318/1000\n",
      "27/27 [==============================] - 0s 148us/sample - loss: 0.0536 - accuracy: 0.9630\n",
      "Epoch 319/1000\n",
      "27/27 [==============================] - 0s 148us/sample - loss: 0.0537 - accuracy: 0.9630\n",
      "Epoch 320/1000\n",
      "27/27 [==============================] - 0s 278us/sample - loss: 0.0540 - accuracy: 0.9630\n",
      "Epoch 321/1000\n",
      "27/27 [==============================] - 0s 148us/sample - loss: 0.0539 - accuracy: 0.9630\n",
      "Epoch 322/1000\n",
      "27/27 [==============================] - 0s 167us/sample - loss: 0.0536 - accuracy: 0.9630\n",
      "Epoch 323/1000\n",
      "27/27 [==============================] - 0s 130us/sample - loss: 0.0536 - accuracy: 0.9630\n",
      "Epoch 324/1000\n",
      "27/27 [==============================] - 0s 148us/sample - loss: 0.0538 - accuracy: 0.9630\n",
      "Epoch 325/1000\n",
      "27/27 [==============================] - 0s 204us/sample - loss: 0.0538 - accuracy: 0.9630\n",
      "Epoch 326/1000\n",
      "27/27 [==============================] - 0s 167us/sample - loss: 0.0536 - accuracy: 0.9630\n",
      "Epoch 327/1000\n",
      "27/27 [==============================] - 0s 222us/sample - loss: 0.0536 - accuracy: 0.9630\n",
      "Epoch 328/1000\n",
      "27/27 [==============================] - 0s 148us/sample - loss: 0.0537 - accuracy: 0.9630\n",
      "Epoch 329/1000\n",
      "27/27 [==============================] - 0s 241us/sample - loss: 0.0537 - accuracy: 0.9630\n",
      "Epoch 330/1000\n",
      "27/27 [==============================] - 0s 185us/sample - loss: 0.0536 - accuracy: 0.9630\n",
      "Epoch 331/1000\n",
      "27/27 [==============================] - 0s 204us/sample - loss: 0.0536 - accuracy: 0.9630\n",
      "Epoch 332/1000\n",
      "27/27 [==============================] - 0s 148us/sample - loss: 0.0536 - accuracy: 0.9630\n",
      "Epoch 333/1000\n",
      "27/27 [==============================] - 0s 148us/sample - loss: 0.0536 - accuracy: 0.9630\n",
      "Epoch 334/1000\n",
      "27/27 [==============================] - 0s 241us/sample - loss: 0.0536 - accuracy: 0.9630\n",
      "Epoch 335/1000\n",
      "27/27 [==============================] - 0s 148us/sample - loss: 0.0535 - accuracy: 0.9630\n",
      "Epoch 336/1000\n",
      "27/27 [==============================] - 0s 204us/sample - loss: 0.0536 - accuracy: 0.9630\n",
      "Epoch 337/1000\n",
      "27/27 [==============================] - 0s 167us/sample - loss: 0.0536 - accuracy: 0.9630\n",
      "Epoch 338/1000\n",
      "27/27 [==============================] - 0s 222us/sample - loss: 0.0535 - accuracy: 0.9630\n",
      "Epoch 339/1000\n",
      "27/27 [==============================] - 0s 185us/sample - loss: 0.0535 - accuracy: 0.9630\n",
      "Epoch 340/1000\n",
      "27/27 [==============================] - 0s 333us/sample - loss: 0.0536 - accuracy: 0.9630\n",
      "Epoch 341/1000\n",
      "27/27 [==============================] - 0s 167us/sample - loss: 0.0536 - accuracy: 0.9630\n",
      "Epoch 342/1000\n",
      "27/27 [==============================] - 0s 185us/sample - loss: 0.0535 - accuracy: 0.9630\n",
      "Epoch 343/1000\n",
      "27/27 [==============================] - 0s 185us/sample - loss: 0.0535 - accuracy: 0.9630\n",
      "Epoch 344/1000\n",
      "27/27 [==============================] - 0s 222us/sample - loss: 0.0535 - accuracy: 0.9630\n",
      "Epoch 345/1000\n",
      "27/27 [==============================] - 0s 167us/sample - loss: 0.0535 - accuracy: 0.9630\n",
      "Epoch 346/1000\n",
      "27/27 [==============================] - 0s 333us/sample - loss: 0.0535 - accuracy: 0.9630\n",
      "Epoch 347/1000\n",
      "27/27 [==============================] - 0s 204us/sample - loss: 0.0535 - accuracy: 0.9630\n",
      "Epoch 348/1000\n",
      "27/27 [==============================] - 0s 259us/sample - loss: 0.0535 - accuracy: 0.9630\n",
      "Epoch 349/1000\n",
      "27/27 [==============================] - 0s 259us/sample - loss: 0.0535 - accuracy: 0.9630\n",
      "Epoch 350/1000\n",
      "27/27 [==============================] - 0s 148us/sample - loss: 0.0535 - accuracy: 0.9630\n",
      "Epoch 351/1000\n",
      "27/27 [==============================] - 0s 148us/sample - loss: 0.0535 - accuracy: 0.9630\n",
      "Epoch 352/1000\n",
      "27/27 [==============================] - 0s 241us/sample - loss: 0.0535 - accuracy: 0.9630\n",
      "Epoch 353/1000\n",
      "27/27 [==============================] - 0s 296us/sample - loss: 0.0535 - accuracy: 0.9630\n",
      "Epoch 354/1000\n",
      "27/27 [==============================] - 0s 241us/sample - loss: 0.0535 - accuracy: 0.9630\n",
      "Epoch 355/1000\n",
      "27/27 [==============================] - 0s 148us/sample - loss: 0.0535 - accuracy: 0.9630\n",
      "Epoch 356/1000\n",
      "27/27 [==============================] - 0s 167us/sample - loss: 0.0535 - accuracy: 0.9630\n",
      "Epoch 357/1000\n",
      "27/27 [==============================] - 0s 259us/sample - loss: 0.0535 - accuracy: 0.9630\n",
      "Epoch 358/1000\n",
      "27/27 [==============================] - 0s 185us/sample - loss: 0.0535 - accuracy: 0.9630\n",
      "Epoch 359/1000\n",
      "27/27 [==============================] - 0s 148us/sample - loss: 0.0534 - accuracy: 0.9630\n",
      "Epoch 360/1000\n",
      "27/27 [==============================] - 0s 259us/sample - loss: 0.0534 - accuracy: 0.9630\n",
      "Epoch 361/1000\n",
      "27/27 [==============================] - 0s 148us/sample - loss: 0.0534 - accuracy: 0.9630\n",
      "Epoch 362/1000\n",
      "27/27 [==============================] - 0s 148us/sample - loss: 0.0534 - accuracy: 0.9630\n",
      "Epoch 363/1000\n",
      "27/27 [==============================] - 0s 204us/sample - loss: 0.0534 - accuracy: 0.9630\n",
      "Epoch 364/1000\n",
      "27/27 [==============================] - 0s 167us/sample - loss: 0.0534 - accuracy: 0.9630\n",
      "Epoch 365/1000\n",
      "27/27 [==============================] - 0s 148us/sample - loss: 0.0534 - accuracy: 0.9630\n",
      "Epoch 366/1000\n",
      "27/27 [==============================] - 0s 278us/sample - loss: 0.0534 - accuracy: 0.9630\n",
      "Epoch 367/1000\n",
      "27/27 [==============================] - 0s 148us/sample - loss: 0.0534 - accuracy: 0.9630\n",
      "Epoch 368/1000\n",
      "27/27 [==============================] - 0s 148us/sample - loss: 0.0534 - accuracy: 0.9630\n",
      "Epoch 369/1000\n",
      "27/27 [==============================] - 0s 148us/sample - loss: 0.0534 - accuracy: 0.9630\n",
      "Epoch 370/1000\n",
      "27/27 [==============================] - 0s 204us/sample - loss: 0.0534 - accuracy: 0.9630\n",
      "Epoch 371/1000\n",
      "27/27 [==============================] - 0s 148us/sample - loss: 0.0534 - accuracy: 0.9630\n",
      "Epoch 372/1000\n",
      "27/27 [==============================] - 0s 222us/sample - loss: 0.0534 - accuracy: 0.9630\n",
      "Epoch 373/1000\n",
      "27/27 [==============================] - 0s 148us/sample - loss: 0.0534 - accuracy: 0.9630\n",
      "Epoch 374/1000\n",
      "27/27 [==============================] - 0s 148us/sample - loss: 0.0534 - accuracy: 0.9630\n",
      "Epoch 375/1000\n",
      "27/27 [==============================] - 0s 204us/sample - loss: 0.0534 - accuracy: 0.9630\n",
      "Epoch 376/1000\n",
      "27/27 [==============================] - 0s 148us/sample - loss: 0.0534 - accuracy: 0.9630\n",
      "Epoch 377/1000\n",
      "27/27 [==============================] - 0s 296us/sample - loss: 0.0534 - accuracy: 0.9630\n",
      "Epoch 378/1000\n",
      "27/27 [==============================] - 0s 167us/sample - loss: 0.0534 - accuracy: 0.9630\n",
      "Epoch 379/1000\n",
      "27/27 [==============================] - 0s 259us/sample - loss: 0.0534 - accuracy: 0.9630\n",
      "Epoch 380/1000\n",
      "27/27 [==============================] - 0s 148us/sample - loss: 0.0534 - accuracy: 0.9630\n",
      "Epoch 381/1000\n",
      "27/27 [==============================] - 0s 130us/sample - loss: 0.0534 - accuracy: 0.9630\n",
      "Epoch 382/1000\n",
      "27/27 [==============================] - 0s 148us/sample - loss: 0.0534 - accuracy: 0.9630\n",
      "Epoch 383/1000\n",
      "27/27 [==============================] - 0s 204us/sample - loss: 0.0534 - accuracy: 0.9630\n",
      "Epoch 384/1000\n",
      "27/27 [==============================] - 0s 130us/sample - loss: 0.0534 - accuracy: 0.9630\n",
      "Epoch 385/1000\n",
      "27/27 [==============================] - 0s 167us/sample - loss: 0.0534 - accuracy: 0.9630\n",
      "Epoch 386/1000\n",
      "27/27 [==============================] - 0s 241us/sample - loss: 0.0533 - accuracy: 0.9630\n",
      "Epoch 387/1000\n",
      "27/27 [==============================] - 0s 148us/sample - loss: 0.0533 - accuracy: 0.9630\n",
      "Epoch 388/1000\n",
      "27/27 [==============================] - 0s 167us/sample - loss: 0.0533 - accuracy: 0.9630\n",
      "Epoch 389/1000\n",
      "27/27 [==============================] - 0s 222us/sample - loss: 0.0533 - accuracy: 0.9630\n",
      "Epoch 390/1000\n",
      "27/27 [==============================] - 0s 222us/sample - loss: 0.0533 - accuracy: 0.9630\n",
      "Epoch 391/1000\n",
      "27/27 [==============================] - 0s 148us/sample - loss: 0.0533 - accuracy: 0.9630\n"
     ]
    },
    {
     "name": "stdout",
     "output_type": "stream",
     "text": [
      "Epoch 392/1000\n",
      "27/27 [==============================] - 0s 167us/sample - loss: 0.0533 - accuracy: 0.9630\n",
      "Epoch 393/1000\n",
      "27/27 [==============================] - 0s 204us/sample - loss: 0.0533 - accuracy: 0.9630\n",
      "Epoch 394/1000\n",
      "27/27 [==============================] - 0s 148us/sample - loss: 0.0533 - accuracy: 0.9630\n",
      "Epoch 395/1000\n",
      "27/27 [==============================] - 0s 278us/sample - loss: 0.0533 - accuracy: 0.9630\n",
      "Epoch 396/1000\n",
      "27/27 [==============================] - 0s 185us/sample - loss: 0.0533 - accuracy: 0.9630\n",
      "Epoch 397/1000\n",
      "27/27 [==============================] - 0s 222us/sample - loss: 0.0533 - accuracy: 0.9630\n",
      "Epoch 398/1000\n",
      "27/27 [==============================] - 0s 167us/sample - loss: 0.0533 - accuracy: 0.9630\n",
      "Epoch 399/1000\n",
      "27/27 [==============================] - 0s 130us/sample - loss: 0.0533 - accuracy: 0.9630\n",
      "Epoch 400/1000\n",
      "27/27 [==============================] - 0s 167us/sample - loss: 0.0533 - accuracy: 0.9630\n",
      "Epoch 401/1000\n",
      "27/27 [==============================] - 0s 241us/sample - loss: 0.0533 - accuracy: 0.9630\n",
      "Epoch 402/1000\n",
      "27/27 [==============================] - 0s 167us/sample - loss: 0.0533 - accuracy: 0.9630\n",
      "Epoch 403/1000\n",
      "27/27 [==============================] - 0s 241us/sample - loss: 0.0533 - accuracy: 0.9630\n",
      "Epoch 404/1000\n",
      "27/27 [==============================] - 0s 204us/sample - loss: 0.0533 - accuracy: 0.9630\n",
      "Epoch 405/1000\n",
      "27/27 [==============================] - 0s 333us/sample - loss: 0.0533 - accuracy: 0.9630\n",
      "Epoch 406/1000\n",
      "27/27 [==============================] - 0s 148us/sample - loss: 0.0533 - accuracy: 0.9630\n",
      "Epoch 407/1000\n",
      "27/27 [==============================] - 0s 278us/sample - loss: 0.0533 - accuracy: 0.9630\n",
      "Epoch 408/1000\n",
      "27/27 [==============================] - 0s 130us/sample - loss: 0.0533 - accuracy: 0.9630\n",
      "Epoch 409/1000\n",
      "27/27 [==============================] - 0s 148us/sample - loss: 0.0533 - accuracy: 0.9630\n",
      "Epoch 410/1000\n",
      "27/27 [==============================] - 0s 148us/sample - loss: 0.0533 - accuracy: 0.9630\n",
      "Epoch 411/1000\n",
      "27/27 [==============================] - 0s 222us/sample - loss: 0.0533 - accuracy: 0.9630\n",
      "Epoch 412/1000\n",
      "27/27 [==============================] - 0s 148us/sample - loss: 0.0533 - accuracy: 0.9630\n",
      "Epoch 413/1000\n",
      "27/27 [==============================] - 0s 148us/sample - loss: 0.0533 - accuracy: 0.9630\n",
      "Epoch 414/1000\n",
      "27/27 [==============================] - 0s 370us/sample - loss: 0.0532 - accuracy: 0.9630\n",
      "Epoch 415/1000\n",
      "27/27 [==============================] - 0s 167us/sample - loss: 0.0532 - accuracy: 0.9630\n",
      "Epoch 416/1000\n",
      "27/27 [==============================] - 0s 185us/sample - loss: 0.0532 - accuracy: 0.9630\n",
      "Epoch 417/1000\n",
      "27/27 [==============================] - 0s 204us/sample - loss: 0.0532 - accuracy: 0.9630\n",
      "Epoch 418/1000\n",
      "27/27 [==============================] - 0s 148us/sample - loss: 0.0532 - accuracy: 0.9630\n",
      "Epoch 419/1000\n",
      "27/27 [==============================] - 0s 222us/sample - loss: 0.0532 - accuracy: 0.9630\n",
      "Epoch 420/1000\n",
      "27/27 [==============================] - 0s 259us/sample - loss: 0.0532 - accuracy: 0.9630\n",
      "Epoch 421/1000\n",
      "27/27 [==============================] - 0s 222us/sample - loss: 0.0532 - accuracy: 0.9630\n",
      "Epoch 422/1000\n",
      "27/27 [==============================] - 0s 167us/sample - loss: 0.0532 - accuracy: 0.9630\n",
      "Epoch 423/1000\n",
      "27/27 [==============================] - 0s 148us/sample - loss: 0.0532 - accuracy: 0.9630\n",
      "Epoch 424/1000\n",
      "27/27 [==============================] - 0s 167us/sample - loss: 0.0532 - accuracy: 0.9630\n",
      "Epoch 425/1000\n",
      "27/27 [==============================] - 0s 259us/sample - loss: 0.0532 - accuracy: 0.9630\n",
      "Epoch 426/1000\n",
      "27/27 [==============================] - 0s 167us/sample - loss: 0.0532 - accuracy: 0.9630\n",
      "Epoch 427/1000\n",
      "27/27 [==============================] - 0s 167us/sample - loss: 0.0532 - accuracy: 0.9630\n",
      "Epoch 428/1000\n",
      "27/27 [==============================] - 0s 130us/sample - loss: 0.0532 - accuracy: 0.9630\n",
      "Epoch 429/1000\n",
      "27/27 [==============================] - 0s 222us/sample - loss: 0.0532 - accuracy: 0.9630\n",
      "Epoch 430/1000\n",
      "27/27 [==============================] - 0s 204us/sample - loss: 0.0532 - accuracy: 0.9630\n",
      "Epoch 431/1000\n",
      "27/27 [==============================] - 0s 185us/sample - loss: 0.0532 - accuracy: 0.9630\n",
      "Epoch 432/1000\n",
      "27/27 [==============================] - 0s 241us/sample - loss: 0.0532 - accuracy: 0.9630\n",
      "Epoch 433/1000\n",
      "27/27 [==============================] - 0s 296us/sample - loss: 0.0532 - accuracy: 0.9630\n",
      "Epoch 434/1000\n",
      "27/27 [==============================] - 0s 222us/sample - loss: 0.0532 - accuracy: 0.9630\n",
      "Epoch 435/1000\n",
      "27/27 [==============================] - 0s 148us/sample - loss: 0.0532 - accuracy: 0.9630\n",
      "Epoch 436/1000\n",
      "27/27 [==============================] - 0s 167us/sample - loss: 0.0532 - accuracy: 0.9630\n",
      "Epoch 437/1000\n",
      "27/27 [==============================] - 0s 277us/sample - loss: 0.0532 - accuracy: 0.9630\n",
      "Epoch 438/1000\n",
      "27/27 [==============================] - 0s 333us/sample - loss: 0.0532 - accuracy: 0.9630\n",
      "Epoch 439/1000\n",
      "27/27 [==============================] - 0s 222us/sample - loss: 0.0532 - accuracy: 0.9630\n",
      "Epoch 440/1000\n",
      "27/27 [==============================] - 0s 185us/sample - loss: 0.0532 - accuracy: 0.9630\n",
      "Epoch 441/1000\n",
      "27/27 [==============================] - 0s 148us/sample - loss: 0.0532 - accuracy: 0.9630\n",
      "Epoch 442/1000\n",
      "27/27 [==============================] - 0s 222us/sample - loss: 0.0532 - accuracy: 0.9630\n",
      "Epoch 443/1000\n",
      "27/27 [==============================] - 0s 148us/sample - loss: 0.0532 - accuracy: 0.9630\n",
      "Epoch 444/1000\n",
      "27/27 [==============================] - 0s 333us/sample - loss: 0.0532 - accuracy: 0.9630\n",
      "Epoch 445/1000\n",
      "27/27 [==============================] - 0s 185us/sample - loss: 0.0531 - accuracy: 0.9630\n",
      "Epoch 446/1000\n",
      "27/27 [==============================] - 0s 167us/sample - loss: 0.0531 - accuracy: 0.9630\n",
      "Epoch 447/1000\n",
      "27/27 [==============================] - 0s 148us/sample - loss: 0.0531 - accuracy: 0.9630\n",
      "Epoch 448/1000\n",
      "27/27 [==============================] - 0s 222us/sample - loss: 0.0531 - accuracy: 0.9630\n",
      "Epoch 449/1000\n",
      "27/27 [==============================] - 0s 185us/sample - loss: 0.0531 - accuracy: 0.9630\n",
      "Epoch 450/1000\n",
      "27/27 [==============================] - 0s 296us/sample - loss: 0.0531 - accuracy: 0.9630\n",
      "Epoch 451/1000\n",
      "27/27 [==============================] - 0s 148us/sample - loss: 0.0531 - accuracy: 0.9630\n",
      "Epoch 452/1000\n",
      "27/27 [==============================] - 0s 167us/sample - loss: 0.0531 - accuracy: 0.9630\n",
      "Epoch 453/1000\n",
      "27/27 [==============================] - 0s 148us/sample - loss: 0.0531 - accuracy: 0.9630\n",
      "Epoch 454/1000\n",
      "27/27 [==============================] - 0s 296us/sample - loss: 0.0531 - accuracy: 0.9630\n",
      "Epoch 455/1000\n",
      "27/27 [==============================] - 0s 148us/sample - loss: 0.0531 - accuracy: 0.9630\n",
      "Epoch 456/1000\n",
      "27/27 [==============================] - 0s 185us/sample - loss: 0.0531 - accuracy: 0.9630\n",
      "Epoch 457/1000\n",
      "27/27 [==============================] - 0s 222us/sample - loss: 0.0531 - accuracy: 0.9630\n",
      "Epoch 458/1000\n",
      "27/27 [==============================] - 0s 167us/sample - loss: 0.0531 - accuracy: 0.9630\n",
      "Epoch 459/1000\n",
      "27/27 [==============================] - 0s 259us/sample - loss: 0.0531 - accuracy: 0.9630\n",
      "Epoch 460/1000\n",
      "27/27 [==============================] - 0s 167us/sample - loss: 0.0531 - accuracy: 0.9630\n",
      "Epoch 461/1000\n",
      "27/27 [==============================] - 0s 222us/sample - loss: 0.0531 - accuracy: 0.9630\n",
      "Epoch 462/1000\n",
      "27/27 [==============================] - 0s 167us/sample - loss: 0.0531 - accuracy: 0.9630\n",
      "Epoch 463/1000\n",
      "27/27 [==============================] - 0s 148us/sample - loss: 0.0531 - accuracy: 0.9630\n",
      "Epoch 464/1000\n",
      "27/27 [==============================] - 0s 185us/sample - loss: 0.0531 - accuracy: 0.9630\n",
      "Epoch 465/1000\n",
      "27/27 [==============================] - 0s 222us/sample - loss: 0.0531 - accuracy: 0.9630\n",
      "Epoch 466/1000\n",
      "27/27 [==============================] - 0s 167us/sample - loss: 0.0531 - accuracy: 0.9630\n",
      "Epoch 467/1000\n",
      "27/27 [==============================] - 0s 185us/sample - loss: 0.0531 - accuracy: 0.9630\n",
      "Epoch 468/1000\n",
      "27/27 [==============================] - 0s 185us/sample - loss: 0.0531 - accuracy: 0.9630\n",
      "Epoch 469/1000\n",
      "27/27 [==============================] - 0s 185us/sample - loss: 0.0531 - accuracy: 0.9630\n"
     ]
    },
    {
     "name": "stdout",
     "output_type": "stream",
     "text": [
      "Epoch 470/1000\n",
      "27/27 [==============================] - 0s 148us/sample - loss: 0.0531 - accuracy: 0.9630\n",
      "Epoch 471/1000\n",
      "27/27 [==============================] - 0s 167us/sample - loss: 0.0531 - accuracy: 0.9630\n",
      "Epoch 472/1000\n",
      "27/27 [==============================] - 0s 296us/sample - loss: 0.0531 - accuracy: 0.9630\n",
      "Epoch 473/1000\n",
      "27/27 [==============================] - 0s 167us/sample - loss: 0.0531 - accuracy: 0.9630\n",
      "Epoch 474/1000\n",
      "27/27 [==============================] - 0s 333us/sample - loss: 0.0531 - accuracy: 0.9630\n",
      "Epoch 475/1000\n",
      "27/27 [==============================] - 0s 148us/sample - loss: 0.0531 - accuracy: 0.9630\n",
      "Epoch 476/1000\n",
      "27/27 [==============================] - 0s 241us/sample - loss: 0.0531 - accuracy: 0.9630\n",
      "Epoch 477/1000\n",
      "27/27 [==============================] - 0s 225us/sample - loss: 0.0531 - accuracy: 0.9630\n",
      "Epoch 478/1000\n",
      "27/27 [==============================] - 0s 148us/sample - loss: 0.0531 - accuracy: 0.9630\n",
      "Epoch 479/1000\n",
      "27/27 [==============================] - 0s 167us/sample - loss: 0.0530 - accuracy: 0.9630\n",
      "Epoch 480/1000\n",
      "27/27 [==============================] - 0s 296us/sample - loss: 0.0530 - accuracy: 0.9630\n",
      "Epoch 481/1000\n",
      "27/27 [==============================] - 0s 148us/sample - loss: 0.0530 - accuracy: 0.9630\n",
      "Epoch 482/1000\n",
      "27/27 [==============================] - 0s 241us/sample - loss: 0.0530 - accuracy: 0.9630\n",
      "Epoch 483/1000\n",
      "27/27 [==============================] - 0s 167us/sample - loss: 0.0530 - accuracy: 0.9630\n",
      "Epoch 484/1000\n",
      "27/27 [==============================] - 0s 241us/sample - loss: 0.0530 - accuracy: 0.9630\n",
      "Epoch 485/1000\n",
      "27/27 [==============================] - 0s 259us/sample - loss: 0.0530 - accuracy: 0.9630\n",
      "Epoch 486/1000\n",
      "27/27 [==============================] - 0s 222us/sample - loss: 0.0530 - accuracy: 0.9630\n",
      "Epoch 487/1000\n",
      "27/27 [==============================] - 0s 167us/sample - loss: 0.0530 - accuracy: 0.9630\n",
      "Epoch 488/1000\n",
      "27/27 [==============================] - 0s 148us/sample - loss: 0.0530 - accuracy: 0.9630\n",
      "Epoch 489/1000\n",
      "27/27 [==============================] - 0s 278us/sample - loss: 0.0530 - accuracy: 0.9630\n",
      "Epoch 490/1000\n",
      "27/27 [==============================] - 0s 167us/sample - loss: 0.0530 - accuracy: 0.9630\n",
      "Epoch 491/1000\n",
      "27/27 [==============================] - 0s 278us/sample - loss: 0.0530 - accuracy: 0.9630\n",
      "Epoch 492/1000\n",
      "27/27 [==============================] - 0s 278us/sample - loss: 0.0530 - accuracy: 0.9630\n",
      "Epoch 493/1000\n",
      "27/27 [==============================] - 0s 241us/sample - loss: 0.0530 - accuracy: 0.9630\n",
      "Epoch 494/1000\n",
      "27/27 [==============================] - 0s 222us/sample - loss: 0.0530 - accuracy: 0.9630\n",
      "Epoch 495/1000\n",
      "27/27 [==============================] - 0s 259us/sample - loss: 0.0530 - accuracy: 0.9630\n",
      "Epoch 496/1000\n",
      "27/27 [==============================] - 0s 186us/sample - loss: 0.0530 - accuracy: 0.9630\n",
      "Epoch 497/1000\n",
      "27/27 [==============================] - 0s 148us/sample - loss: 0.0530 - accuracy: 0.9630\n",
      "Epoch 498/1000\n",
      "27/27 [==============================] - 0s 222us/sample - loss: 0.0530 - accuracy: 0.9630\n",
      "Epoch 499/1000\n",
      "27/27 [==============================] - 0s 389us/sample - loss: 0.0530 - accuracy: 0.9630\n",
      "Epoch 500/1000\n",
      "27/27 [==============================] - 0s 333us/sample - loss: 0.0530 - accuracy: 0.9630\n",
      "Epoch 501/1000\n",
      "27/27 [==============================] - 0s 148us/sample - loss: 0.0530 - accuracy: 0.9630\n",
      "Epoch 502/1000\n",
      "27/27 [==============================] - 0s 407us/sample - loss: 0.0530 - accuracy: 0.9630\n",
      "Epoch 503/1000\n",
      "27/27 [==============================] - 0s 259us/sample - loss: 0.0530 - accuracy: 0.9630\n",
      "Epoch 504/1000\n",
      "27/27 [==============================] - 0s 204us/sample - loss: 0.0530 - accuracy: 0.9630\n",
      "Epoch 505/1000\n",
      "27/27 [==============================] - 0s 259us/sample - loss: 0.0530 - accuracy: 0.9630\n",
      "Epoch 506/1000\n",
      "27/27 [==============================] - 0s 148us/sample - loss: 0.0530 - accuracy: 0.9630\n",
      "Epoch 507/1000\n",
      "27/27 [==============================] - 0s 315us/sample - loss: 0.0530 - accuracy: 0.9630\n",
      "Epoch 508/1000\n",
      "27/27 [==============================] - 0s 148us/sample - loss: 0.0530 - accuracy: 0.9630\n",
      "Epoch 509/1000\n",
      "27/27 [==============================] - 0s 278us/sample - loss: 0.0530 - accuracy: 0.9630\n",
      "Epoch 510/1000\n",
      "27/27 [==============================] - 0s 278us/sample - loss: 0.0530 - accuracy: 0.9630\n",
      "Epoch 511/1000\n",
      "27/27 [==============================] - 0s 185us/sample - loss: 0.0530 - accuracy: 0.9630\n",
      "Epoch 512/1000\n",
      "27/27 [==============================] - 0s 222us/sample - loss: 0.0530 - accuracy: 0.9630\n",
      "Epoch 513/1000\n",
      "27/27 [==============================] - 0s 148us/sample - loss: 0.0531 - accuracy: 0.9630\n",
      "Epoch 514/1000\n",
      "27/27 [==============================] - 0s 296us/sample - loss: 0.0533 - accuracy: 0.9630\n",
      "Epoch 515/1000\n",
      "27/27 [==============================] - 0s 167us/sample - loss: 0.0536 - accuracy: 0.9630\n",
      "Epoch 516/1000\n",
      "27/27 [==============================] - 0s 167us/sample - loss: 0.0540 - accuracy: 0.9630\n",
      "Epoch 517/1000\n",
      "27/27 [==============================] - 0s 185us/sample - loss: 0.0543 - accuracy: 0.9630\n",
      "Epoch 518/1000\n",
      "27/27 [==============================] - 0s 185us/sample - loss: 0.0542 - accuracy: 0.9630\n",
      "Epoch 519/1000\n",
      "27/27 [==============================] - 0s 148us/sample - loss: 0.0535 - accuracy: 0.9630\n",
      "Epoch 520/1000\n",
      "27/27 [==============================] - 0s 148us/sample - loss: 0.0530 - accuracy: 0.9630\n",
      "Epoch 521/1000\n",
      "27/27 [==============================] - 0s 185us/sample - loss: 0.0531 - accuracy: 0.9630\n",
      "Epoch 522/1000\n",
      "27/27 [==============================] - 0s 222us/sample - loss: 0.0535 - accuracy: 0.9630\n",
      "Epoch 523/1000\n",
      "27/27 [==============================] - 0s 222us/sample - loss: 0.0536 - accuracy: 0.9630\n",
      "Epoch 524/1000\n",
      "27/27 [==============================] - 0s 148us/sample - loss: 0.0532 - accuracy: 0.9630\n",
      "Epoch 525/1000\n",
      "27/27 [==============================] - 0s 130us/sample - loss: 0.0529 - accuracy: 0.9630\n",
      "Epoch 526/1000\n",
      "27/27 [==============================] - 0s 148us/sample - loss: 0.0531 - accuracy: 0.9630\n",
      "Epoch 527/1000\n",
      "27/27 [==============================] - 0s 223us/sample - loss: 0.0533 - accuracy: 0.9630\n",
      "Epoch 528/1000\n",
      "27/27 [==============================] - 0s 167us/sample - loss: 0.0532 - accuracy: 0.9630\n",
      "Epoch 529/1000\n",
      "27/27 [==============================] - 0s 148us/sample - loss: 0.0529 - accuracy: 0.9630\n",
      "Epoch 530/1000\n",
      "27/27 [==============================] - 0s 241us/sample - loss: 0.0530 - accuracy: 0.9630\n",
      "Epoch 531/1000\n",
      "27/27 [==============================] - 0s 148us/sample - loss: 0.0531 - accuracy: 0.9630\n",
      "Epoch 532/1000\n",
      "27/27 [==============================] - 0s 241us/sample - loss: 0.0531 - accuracy: 0.9630\n",
      "Epoch 533/1000\n",
      "27/27 [==============================] - 0s 148us/sample - loss: 0.0529 - accuracy: 0.9630\n",
      "Epoch 534/1000\n",
      "27/27 [==============================] - 0s 241us/sample - loss: 0.0529 - accuracy: 0.9630\n",
      "Epoch 535/1000\n",
      "27/27 [==============================] - 0s 167us/sample - loss: 0.0530 - accuracy: 0.9630\n",
      "Epoch 536/1000\n",
      "27/27 [==============================] - 0s 315us/sample - loss: 0.0530 - accuracy: 0.9630\n",
      "Epoch 537/1000\n",
      "27/27 [==============================] - 0s 167us/sample - loss: 0.0529 - accuracy: 0.9630\n",
      "Epoch 538/1000\n",
      "27/27 [==============================] - 0s 222us/sample - loss: 0.0529 - accuracy: 0.9630\n",
      "Epoch 539/1000\n",
      "27/27 [==============================] - 0s 167us/sample - loss: 0.0530 - accuracy: 0.9630\n",
      "Epoch 540/1000\n",
      "27/27 [==============================] - 0s 167us/sample - loss: 0.0530 - accuracy: 0.9630\n",
      "Epoch 541/1000\n",
      "27/27 [==============================] - 0s 203us/sample - loss: 0.0529 - accuracy: 0.9630\n",
      "Epoch 542/1000\n",
      "27/27 [==============================] - 0s 167us/sample - loss: 0.0529 - accuracy: 0.9630\n",
      "Epoch 543/1000\n",
      "27/27 [==============================] - 0s 148us/sample - loss: 0.0529 - accuracy: 0.9630\n",
      "Epoch 544/1000\n",
      "27/27 [==============================] - 0s 185us/sample - loss: 0.0529 - accuracy: 0.9630\n",
      "Epoch 545/1000\n",
      "27/27 [==============================] - 0s 204us/sample - loss: 0.0529 - accuracy: 0.9630\n",
      "Epoch 546/1000\n",
      "27/27 [==============================] - 0s 278us/sample - loss: 0.0529 - accuracy: 0.9630\n",
      "Epoch 547/1000\n",
      "27/27 [==============================] - 0s 204us/sample - loss: 0.0529 - accuracy: 0.9630\n"
     ]
    },
    {
     "name": "stdout",
     "output_type": "stream",
     "text": [
      "Epoch 548/1000\n",
      "27/27 [==============================] - 0s 167us/sample - loss: 0.0529 - accuracy: 0.9630\n",
      "Epoch 549/1000\n",
      "27/27 [==============================] - 0s 167us/sample - loss: 0.0529 - accuracy: 0.9630\n",
      "Epoch 550/1000\n",
      "27/27 [==============================] - 0s 167us/sample - loss: 0.0529 - accuracy: 0.9630\n",
      "Epoch 551/1000\n",
      "27/27 [==============================] - 0s 278us/sample - loss: 0.0529 - accuracy: 0.9630\n",
      "Epoch 552/1000\n",
      "27/27 [==============================] - 0s 185us/sample - loss: 0.0529 - accuracy: 0.9630\n",
      "Epoch 553/1000\n",
      "27/27 [==============================] - 0s 148us/sample - loss: 0.0529 - accuracy: 0.9630\n",
      "Epoch 554/1000\n",
      "27/27 [==============================] - 0s 222us/sample - loss: 0.0529 - accuracy: 0.9630\n",
      "Epoch 555/1000\n",
      "27/27 [==============================] - 0s 148us/sample - loss: 0.0529 - accuracy: 0.9630\n",
      "Epoch 556/1000\n",
      "27/27 [==============================] - 0s 148us/sample - loss: 0.0529 - accuracy: 0.9630\n",
      "Epoch 557/1000\n",
      "27/27 [==============================] - 0s 259us/sample - loss: 0.0529 - accuracy: 0.9630\n",
      "Epoch 558/1000\n",
      "27/27 [==============================] - 0s 278us/sample - loss: 0.0528 - accuracy: 0.9630\n",
      "Epoch 559/1000\n",
      "27/27 [==============================] - 0s 167us/sample - loss: 0.0529 - accuracy: 0.9630\n",
      "Epoch 560/1000\n",
      "27/27 [==============================] - 0s 222us/sample - loss: 0.0529 - accuracy: 0.9630\n",
      "Epoch 561/1000\n",
      "27/27 [==============================] - 0s 278us/sample - loss: 0.0528 - accuracy: 0.9630\n",
      "Epoch 562/1000\n",
      "27/27 [==============================] - 0s 167us/sample - loss: 0.0528 - accuracy: 0.9630\n",
      "Epoch 563/1000\n",
      "27/27 [==============================] - 0s 333us/sample - loss: 0.0528 - accuracy: 0.9630\n",
      "Epoch 564/1000\n",
      "27/27 [==============================] - 0s 167us/sample - loss: 0.0528 - accuracy: 0.9630\n",
      "Epoch 565/1000\n",
      "27/27 [==============================] - 0s 222us/sample - loss: 0.0528 - accuracy: 0.9630\n",
      "Epoch 566/1000\n",
      "27/27 [==============================] - 0s 185us/sample - loss: 0.0528 - accuracy: 0.9630\n",
      "Epoch 567/1000\n",
      "27/27 [==============================] - 0s 222us/sample - loss: 0.0528 - accuracy: 0.9630\n",
      "Epoch 568/1000\n",
      "27/27 [==============================] - 0s 185us/sample - loss: 0.0528 - accuracy: 0.9630\n",
      "Epoch 569/1000\n",
      "27/27 [==============================] - 0s 185us/sample - loss: 0.0528 - accuracy: 0.9630\n",
      "Epoch 570/1000\n",
      "27/27 [==============================] - 0s 148us/sample - loss: 0.0528 - accuracy: 0.9630\n",
      "Epoch 571/1000\n",
      "27/27 [==============================] - 0s 204us/sample - loss: 0.0528 - accuracy: 0.9630\n",
      "Epoch 572/1000\n",
      "27/27 [==============================] - 0s 204us/sample - loss: 0.0528 - accuracy: 0.9630\n",
      "Epoch 573/1000\n",
      "27/27 [==============================] - 0s 241us/sample - loss: 0.0528 - accuracy: 0.9630\n",
      "Epoch 574/1000\n",
      "27/27 [==============================] - 0s 148us/sample - loss: 0.0528 - accuracy: 0.9630\n",
      "Epoch 575/1000\n",
      "27/27 [==============================] - 0s 148us/sample - loss: 0.0528 - accuracy: 0.9630\n",
      "Epoch 576/1000\n",
      "27/27 [==============================] - 0s 148us/sample - loss: 0.0528 - accuracy: 0.9630\n",
      "Epoch 577/1000\n",
      "27/27 [==============================] - 0s 185us/sample - loss: 0.0528 - accuracy: 0.9630\n",
      "Epoch 578/1000\n",
      "27/27 [==============================] - 0s 222us/sample - loss: 0.0528 - accuracy: 0.9630\n",
      "Epoch 579/1000\n",
      "27/27 [==============================] - 0s 148us/sample - loss: 0.0528 - accuracy: 0.9630\n",
      "Epoch 580/1000\n",
      "27/27 [==============================] - 0s 222us/sample - loss: 0.0528 - accuracy: 0.9630\n",
      "Epoch 581/1000\n",
      "27/27 [==============================] - 0s 167us/sample - loss: 0.0528 - accuracy: 0.9630\n",
      "Epoch 582/1000\n",
      "27/27 [==============================] - 0s 259us/sample - loss: 0.0528 - accuracy: 0.9630\n",
      "Epoch 583/1000\n",
      "27/27 [==============================] - 0s 167us/sample - loss: 0.0528 - accuracy: 0.9630\n",
      "Epoch 584/1000\n",
      "27/27 [==============================] - 0s 259us/sample - loss: 0.0528 - accuracy: 0.9630\n",
      "Epoch 585/1000\n",
      "27/27 [==============================] - 0s 222us/sample - loss: 0.0528 - accuracy: 0.9630\n",
      "Epoch 586/1000\n",
      "27/27 [==============================] - 0s 148us/sample - loss: 0.0528 - accuracy: 0.9630\n",
      "Epoch 587/1000\n",
      "27/27 [==============================] - 0s 167us/sample - loss: 0.0528 - accuracy: 0.9630\n",
      "Epoch 588/1000\n",
      "27/27 [==============================] - 0s 204us/sample - loss: 0.0528 - accuracy: 0.9630\n",
      "Epoch 589/1000\n",
      "27/27 [==============================] - 0s 148us/sample - loss: 0.0528 - accuracy: 0.9630\n",
      "Epoch 590/1000\n",
      "27/27 [==============================] - 0s 222us/sample - loss: 0.0528 - accuracy: 0.9630\n",
      "Epoch 591/1000\n",
      "27/27 [==============================] - 0s 130us/sample - loss: 0.0528 - accuracy: 0.9630\n",
      "Epoch 592/1000\n",
      "27/27 [==============================] - 0s 278us/sample - loss: 0.0528 - accuracy: 0.9630\n",
      "Epoch 593/1000\n",
      "27/27 [==============================] - 0s 148us/sample - loss: 0.0528 - accuracy: 0.9630\n",
      "Epoch 594/1000\n",
      "27/27 [==============================] - 0s 241us/sample - loss: 0.0528 - accuracy: 0.9630\n",
      "Epoch 595/1000\n",
      "27/27 [==============================] - 0s 148us/sample - loss: 0.0528 - accuracy: 0.9630\n",
      "Epoch 596/1000\n",
      "27/27 [==============================] - 0s 352us/sample - loss: 0.0528 - accuracy: 0.9630\n",
      "Epoch 597/1000\n",
      "27/27 [==============================] - 0s 167us/sample - loss: 0.0528 - accuracy: 0.9630\n",
      "Epoch 598/1000\n",
      "27/27 [==============================] - 0s 185us/sample - loss: 0.0528 - accuracy: 0.9630\n",
      "Epoch 599/1000\n",
      "27/27 [==============================] - 0s 167us/sample - loss: 0.0528 - accuracy: 0.9630\n",
      "Epoch 600/1000\n",
      "27/27 [==============================] - 0s 204us/sample - loss: 0.0528 - accuracy: 0.9630\n",
      "Epoch 601/1000\n",
      "27/27 [==============================] - 0s 259us/sample - loss: 0.0528 - accuracy: 0.9630\n",
      "Epoch 602/1000\n",
      "27/27 [==============================] - 0s 259us/sample - loss: 0.0528 - accuracy: 0.9630\n",
      "Epoch 603/1000\n",
      "27/27 [==============================] - 0s 148us/sample - loss: 0.0527 - accuracy: 0.9630\n",
      "Epoch 604/1000\n",
      "27/27 [==============================] - 0s 148us/sample - loss: 0.0527 - accuracy: 0.9630\n",
      "Epoch 605/1000\n",
      "27/27 [==============================] - 0s 130us/sample - loss: 0.0527 - accuracy: 0.9630\n",
      "Epoch 606/1000\n",
      "27/27 [==============================] - 0s 315us/sample - loss: 0.0527 - accuracy: 0.9630\n",
      "Epoch 607/1000\n",
      "27/27 [==============================] - 0s 148us/sample - loss: 0.0527 - accuracy: 0.9630\n",
      "Epoch 608/1000\n",
      "27/27 [==============================] - 0s 167us/sample - loss: 0.0527 - accuracy: 0.9630\n",
      "Epoch 609/1000\n",
      "27/27 [==============================] - 0s 241us/sample - loss: 0.0527 - accuracy: 0.9630\n",
      "Epoch 610/1000\n",
      "27/27 [==============================] - 0s 167us/sample - loss: 0.0527 - accuracy: 0.9630\n",
      "Epoch 611/1000\n",
      "27/27 [==============================] - 0s 333us/sample - loss: 0.0527 - accuracy: 0.9630\n",
      "Epoch 612/1000\n",
      "27/27 [==============================] - 0s 167us/sample - loss: 0.0527 - accuracy: 0.9630\n",
      "Epoch 613/1000\n",
      "27/27 [==============================] - 0s 222us/sample - loss: 0.0527 - accuracy: 0.9630\n",
      "Epoch 614/1000\n",
      "27/27 [==============================] - 0s 185us/sample - loss: 0.0527 - accuracy: 0.9630\n",
      "Epoch 615/1000\n",
      "27/27 [==============================] - 0s 148us/sample - loss: 0.0527 - accuracy: 0.9630\n",
      "Epoch 616/1000\n",
      "27/27 [==============================] - 0s 222us/sample - loss: 0.0527 - accuracy: 0.9630\n",
      "Epoch 617/1000\n",
      "27/27 [==============================] - 0s 167us/sample - loss: 0.0527 - accuracy: 0.9630\n",
      "Epoch 618/1000\n",
      "27/27 [==============================] - 0s 167us/sample - loss: 0.0527 - accuracy: 0.9630\n",
      "Epoch 619/1000\n",
      "27/27 [==============================] - 0s 130us/sample - loss: 0.0527 - accuracy: 0.9630\n",
      "Epoch 620/1000\n",
      "27/27 [==============================] - 0s 222us/sample - loss: 0.0527 - accuracy: 0.9630\n",
      "Epoch 621/1000\n",
      "27/27 [==============================] - 0s 241us/sample - loss: 0.0527 - accuracy: 0.9630\n",
      "Epoch 622/1000\n",
      "27/27 [==============================] - 0s 167us/sample - loss: 0.0527 - accuracy: 0.9630\n",
      "Epoch 623/1000\n",
      "27/27 [==============================] - 0s 185us/sample - loss: 0.0527 - accuracy: 0.9630\n",
      "Epoch 624/1000\n",
      "27/27 [==============================] - 0s 241us/sample - loss: 0.0527 - accuracy: 0.9630\n",
      "Epoch 625/1000\n",
      "27/27 [==============================] - 0s 167us/sample - loss: 0.0527 - accuracy: 0.9630\n"
     ]
    },
    {
     "name": "stdout",
     "output_type": "stream",
     "text": [
      "Epoch 626/1000\n",
      "27/27 [==============================] - 0s 315us/sample - loss: 0.0527 - accuracy: 0.9630\n",
      "Epoch 627/1000\n",
      "27/27 [==============================] - 0s 167us/sample - loss: 0.0527 - accuracy: 0.9630\n",
      "Epoch 628/1000\n",
      "27/27 [==============================] - 0s 278us/sample - loss: 0.0527 - accuracy: 0.9630\n",
      "Epoch 629/1000\n",
      "27/27 [==============================] - 0s 148us/sample - loss: 0.0527 - accuracy: 0.9630\n",
      "Epoch 630/1000\n",
      "27/27 [==============================] - 0s 148us/sample - loss: 0.0527 - accuracy: 0.9630\n",
      "Epoch 631/1000\n",
      "27/27 [==============================] - 0s 148us/sample - loss: 0.0527 - accuracy: 0.9630\n",
      "Epoch 632/1000\n",
      "27/27 [==============================] - 0s 166us/sample - loss: 0.0527 - accuracy: 0.9630\n",
      "Epoch 633/1000\n",
      "27/27 [==============================] - 0s 315us/sample - loss: 0.0527 - accuracy: 0.9630\n",
      "Epoch 634/1000\n",
      "27/27 [==============================] - 0s 148us/sample - loss: 0.0527 - accuracy: 0.9630\n",
      "Epoch 635/1000\n",
      "27/27 [==============================] - 0s 241us/sample - loss: 0.0527 - accuracy: 0.9630\n",
      "Epoch 636/1000\n",
      "27/27 [==============================] - 0s 241us/sample - loss: 0.0527 - accuracy: 0.9630\n",
      "Epoch 637/1000\n",
      "27/27 [==============================] - 0s 241us/sample - loss: 0.0527 - accuracy: 0.9630\n",
      "Epoch 638/1000\n",
      "27/27 [==============================] - 0s 296us/sample - loss: 0.0527 - accuracy: 0.9630\n",
      "Epoch 639/1000\n",
      "27/27 [==============================] - 0s 222us/sample - loss: 0.0527 - accuracy: 0.9630\n",
      "Epoch 640/1000\n",
      "27/27 [==============================] - 0s 259us/sample - loss: 0.0527 - accuracy: 0.9630\n",
      "Epoch 641/1000\n",
      "27/27 [==============================] - 0s 259us/sample - loss: 0.0527 - accuracy: 0.9630\n",
      "Epoch 642/1000\n",
      "27/27 [==============================] - 0s 204us/sample - loss: 0.0527 - accuracy: 0.9630\n",
      "Epoch 643/1000\n",
      "27/27 [==============================] - 0s 259us/sample - loss: 0.0527 - accuracy: 0.9630\n",
      "Epoch 644/1000\n",
      "27/27 [==============================] - 0s 204us/sample - loss: 0.0527 - accuracy: 0.9630\n",
      "Epoch 645/1000\n",
      "27/27 [==============================] - 0s 222us/sample - loss: 0.0527 - accuracy: 0.9630\n",
      "Epoch 646/1000\n",
      "27/27 [==============================] - 0s 204us/sample - loss: 0.0527 - accuracy: 0.9630\n",
      "Epoch 647/1000\n",
      "27/27 [==============================] - 0s 130us/sample - loss: 0.0527 - accuracy: 0.9630\n",
      "Epoch 648/1000\n",
      "27/27 [==============================] - 0s 333us/sample - loss: 0.0527 - accuracy: 0.9630\n",
      "Epoch 649/1000\n",
      "27/27 [==============================] - 0s 185us/sample - loss: 0.0527 - accuracy: 0.9630\n",
      "Epoch 650/1000\n",
      "27/27 [==============================] - 0s 259us/sample - loss: 0.0527 - accuracy: 0.9630\n",
      "Epoch 651/1000\n",
      "27/27 [==============================] - 0s 167us/sample - loss: 0.0527 - accuracy: 0.9630\n",
      "Epoch 652/1000\n",
      "27/27 [==============================] - 0s 148us/sample - loss: 0.0527 - accuracy: 0.9630\n",
      "Epoch 653/1000\n",
      "27/27 [==============================] - 0s 185us/sample - loss: 0.0527 - accuracy: 0.9630\n",
      "Epoch 654/1000\n",
      "27/27 [==============================] - 0s 167us/sample - loss: 0.0526 - accuracy: 0.9630\n",
      "Epoch 655/1000\n",
      "27/27 [==============================] - 0s 148us/sample - loss: 0.0526 - accuracy: 0.9630\n",
      "Epoch 656/1000\n",
      "27/27 [==============================] - 0s 370us/sample - loss: 0.0526 - accuracy: 0.9630\n",
      "Epoch 657/1000\n",
      "27/27 [==============================] - 0s 241us/sample - loss: 0.0526 - accuracy: 0.9630\n",
      "Epoch 658/1000\n",
      "27/27 [==============================] - 0s 148us/sample - loss: 0.0526 - accuracy: 0.9630\n",
      "Epoch 659/1000\n",
      "27/27 [==============================] - 0s 148us/sample - loss: 0.0526 - accuracy: 0.9630\n",
      "Epoch 660/1000\n",
      "27/27 [==============================] - 0s 222us/sample - loss: 0.0526 - accuracy: 0.9630\n",
      "Epoch 661/1000\n",
      "27/27 [==============================] - 0s 167us/sample - loss: 0.0526 - accuracy: 0.9630\n",
      "Epoch 662/1000\n",
      "27/27 [==============================] - 0s 259us/sample - loss: 0.0526 - accuracy: 0.9630\n",
      "Epoch 663/1000\n",
      "27/27 [==============================] - 0s 148us/sample - loss: 0.0526 - accuracy: 0.9630\n",
      "Epoch 664/1000\n",
      "27/27 [==============================] - 0s 278us/sample - loss: 0.0526 - accuracy: 0.9630\n",
      "Epoch 665/1000\n",
      "27/27 [==============================] - 0s 167us/sample - loss: 0.0526 - accuracy: 0.9630\n",
      "Epoch 666/1000\n",
      "27/27 [==============================] - 0s 204us/sample - loss: 0.0526 - accuracy: 0.9630\n",
      "Epoch 667/1000\n",
      "27/27 [==============================] - 0s 148us/sample - loss: 0.0526 - accuracy: 0.9630\n",
      "Epoch 668/1000\n",
      "27/27 [==============================] - 0s 167us/sample - loss: 0.0526 - accuracy: 0.9630\n",
      "Epoch 669/1000\n",
      "27/27 [==============================] - 0s 204us/sample - loss: 0.0526 - accuracy: 0.9630\n",
      "Epoch 670/1000\n",
      "27/27 [==============================] - 0s 204us/sample - loss: 0.0526 - accuracy: 0.9630\n",
      "Epoch 671/1000\n",
      "27/27 [==============================] - 0s 222us/sample - loss: 0.0526 - accuracy: 0.9630\n",
      "Epoch 672/1000\n",
      "27/27 [==============================] - 0s 167us/sample - loss: 0.0526 - accuracy: 0.9630\n",
      "Epoch 673/1000\n",
      "27/27 [==============================] - 0s 204us/sample - loss: 0.0526 - accuracy: 0.9630\n",
      "Epoch 674/1000\n",
      "27/27 [==============================] - 0s 167us/sample - loss: 0.0526 - accuracy: 0.9630\n",
      "Epoch 675/1000\n",
      "27/27 [==============================] - 0s 222us/sample - loss: 0.0526 - accuracy: 0.9630\n",
      "Epoch 676/1000\n",
      "27/27 [==============================] - 0s 185us/sample - loss: 0.0526 - accuracy: 0.9630\n",
      "Epoch 677/1000\n",
      "27/27 [==============================] - 0s 130us/sample - loss: 0.0526 - accuracy: 0.9630\n",
      "Epoch 678/1000\n",
      "27/27 [==============================] - 0s 185us/sample - loss: 0.0526 - accuracy: 0.9630\n",
      "Epoch 679/1000\n",
      "27/27 [==============================] - 0s 148us/sample - loss: 0.0526 - accuracy: 0.9630\n",
      "Epoch 680/1000\n",
      "27/27 [==============================] - 0s 333us/sample - loss: 0.0526 - accuracy: 0.9630\n",
      "Epoch 681/1000\n",
      "27/27 [==============================] - 0s 148us/sample - loss: 0.0526 - accuracy: 0.9630\n",
      "Epoch 682/1000\n",
      "27/27 [==============================] - 0s 241us/sample - loss: 0.0526 - accuracy: 0.9630\n",
      "Epoch 683/1000\n",
      "27/27 [==============================] - 0s 148us/sample - loss: 0.0526 - accuracy: 0.9630\n",
      "Epoch 684/1000\n",
      "27/27 [==============================] - 0s 185us/sample - loss: 0.0526 - accuracy: 0.9630\n",
      "Epoch 685/1000\n",
      "27/27 [==============================] - 0s 148us/sample - loss: 0.0526 - accuracy: 0.9630\n",
      "Epoch 686/1000\n",
      "27/27 [==============================] - 0s 241us/sample - loss: 0.0526 - accuracy: 0.9630\n",
      "Epoch 687/1000\n",
      "27/27 [==============================] - 0s 148us/sample - loss: 0.0526 - accuracy: 0.9630\n",
      "Epoch 688/1000\n",
      "27/27 [==============================] - 0s 148us/sample - loss: 0.0526 - accuracy: 0.9630\n",
      "Epoch 689/1000\n",
      "27/27 [==============================] - 0s 241us/sample - loss: 0.0526 - accuracy: 0.9630\n",
      "Epoch 690/1000\n",
      "27/27 [==============================] - 0s 167us/sample - loss: 0.0526 - accuracy: 0.9630\n",
      "Epoch 691/1000\n",
      "27/27 [==============================] - 0s 148us/sample - loss: 0.0526 - accuracy: 0.9630\n",
      "Epoch 692/1000\n",
      "27/27 [==============================] - 0s 185us/sample - loss: 0.0526 - accuracy: 0.9630\n",
      "Epoch 693/1000\n",
      "27/27 [==============================] - 0s 148us/sample - loss: 0.0526 - accuracy: 0.9630\n",
      "Epoch 694/1000\n",
      "27/27 [==============================] - 0s 148us/sample - loss: 0.0526 - accuracy: 0.9630\n",
      "Epoch 695/1000\n",
      "27/27 [==============================] - 0s 204us/sample - loss: 0.0526 - accuracy: 0.9630\n",
      "Epoch 696/1000\n",
      "27/27 [==============================] - 0s 148us/sample - loss: 0.0526 - accuracy: 0.9630\n",
      "Epoch 697/1000\n",
      "27/27 [==============================] - 0s 185us/sample - loss: 0.0526 - accuracy: 0.9630\n",
      "Epoch 698/1000\n",
      "27/27 [==============================] - 0s 204us/sample - loss: 0.0526 - accuracy: 0.9630\n",
      "Epoch 699/1000\n",
      "27/27 [==============================] - 0s 148us/sample - loss: 0.0526 - accuracy: 0.9630\n",
      "Epoch 700/1000\n",
      "27/27 [==============================] - 0s 241us/sample - loss: 0.0526 - accuracy: 0.9630\n",
      "Epoch 701/1000\n",
      "27/27 [==============================] - 0s 148us/sample - loss: 0.0526 - accuracy: 0.9630\n",
      "Epoch 702/1000\n",
      "27/27 [==============================] - 0s 204us/sample - loss: 0.0526 - accuracy: 0.9630\n",
      "Epoch 703/1000\n",
      "27/27 [==============================] - 0s 130us/sample - loss: 0.0526 - accuracy: 0.9630\n"
     ]
    },
    {
     "name": "stdout",
     "output_type": "stream",
     "text": [
      "Epoch 704/1000\n",
      "27/27 [==============================] - 0s 148us/sample - loss: 0.0526 - accuracy: 0.9630\n",
      "Epoch 705/1000\n",
      "27/27 [==============================] - 0s 204us/sample - loss: 0.0526 - accuracy: 0.9630\n",
      "Epoch 706/1000\n",
      "27/27 [==============================] - 0s 148us/sample - loss: 0.0526 - accuracy: 0.9630\n",
      "Epoch 707/1000\n",
      "27/27 [==============================] - 0s 148us/sample - loss: 0.0526 - accuracy: 0.9630\n",
      "Epoch 708/1000\n",
      "27/27 [==============================] - 0s 259us/sample - loss: 0.0526 - accuracy: 0.9630\n",
      "Epoch 709/1000\n",
      "27/27 [==============================] - 0s 333us/sample - loss: 0.0525 - accuracy: 0.9630\n",
      "Epoch 710/1000\n",
      "27/27 [==============================] - 0s 148us/sample - loss: 0.0525 - accuracy: 0.9630\n",
      "Epoch 711/1000\n",
      "27/27 [==============================] - 0s 185us/sample - loss: 0.0525 - accuracy: 0.9630\n",
      "Epoch 712/1000\n",
      "27/27 [==============================] - 0s 167us/sample - loss: 0.0525 - accuracy: 0.9630\n",
      "Epoch 713/1000\n",
      "27/27 [==============================] - 0s 241us/sample - loss: 0.0525 - accuracy: 0.9630\n",
      "Epoch 714/1000\n",
      "27/27 [==============================] - 0s 130us/sample - loss: 0.0525 - accuracy: 0.9630\n",
      "Epoch 715/1000\n",
      "27/27 [==============================] - 0s 333us/sample - loss: 0.0525 - accuracy: 0.9630\n",
      "Epoch 716/1000\n",
      "27/27 [==============================] - 0s 148us/sample - loss: 0.0525 - accuracy: 0.9630\n",
      "Epoch 717/1000\n",
      "27/27 [==============================] - 0s 352us/sample - loss: 0.0525 - accuracy: 0.9630\n",
      "Epoch 718/1000\n",
      "27/27 [==============================] - 0s 296us/sample - loss: 0.0525 - accuracy: 0.9630\n",
      "Epoch 719/1000\n",
      "27/27 [==============================] - 0s 259us/sample - loss: 0.0525 - accuracy: 0.9630\n",
      "Epoch 720/1000\n",
      "27/27 [==============================] - 0s 241us/sample - loss: 0.0525 - accuracy: 0.9630\n",
      "Epoch 721/1000\n",
      "27/27 [==============================] - 0s 407us/sample - loss: 0.0525 - accuracy: 0.9630\n",
      "Epoch 722/1000\n",
      "27/27 [==============================] - 0s 148us/sample - loss: 0.0525 - accuracy: 0.9630\n",
      "Epoch 723/1000\n",
      "27/27 [==============================] - 0s 241us/sample - loss: 0.0525 - accuracy: 0.9630\n",
      "Epoch 724/1000\n",
      "27/27 [==============================] - 0s 167us/sample - loss: 0.0525 - accuracy: 0.9630\n",
      "Epoch 725/1000\n",
      "27/27 [==============================] - 0s 185us/sample - loss: 0.0525 - accuracy: 0.9630\n",
      "Epoch 726/1000\n",
      "27/27 [==============================] - 0s 148us/sample - loss: 0.0525 - accuracy: 0.9630\n",
      "Epoch 727/1000\n",
      "27/27 [==============================] - 0s 148us/sample - loss: 0.0525 - accuracy: 0.9630\n",
      "Epoch 728/1000\n",
      "27/27 [==============================] - 0s 259us/sample - loss: 0.0525 - accuracy: 0.9630\n",
      "Epoch 729/1000\n",
      "27/27 [==============================] - 0s 204us/sample - loss: 0.0525 - accuracy: 0.9630\n",
      "Epoch 730/1000\n",
      "27/27 [==============================] - 0s 315us/sample - loss: 0.0525 - accuracy: 0.9630\n",
      "Epoch 731/1000\n",
      "27/27 [==============================] - 0s 167us/sample - loss: 0.0525 - accuracy: 0.9630\n",
      "Epoch 732/1000\n",
      "27/27 [==============================] - 0s 222us/sample - loss: 0.0525 - accuracy: 0.9630\n",
      "Epoch 733/1000\n",
      "27/27 [==============================] - 0s 167us/sample - loss: 0.0525 - accuracy: 0.9630\n",
      "Epoch 734/1000\n",
      "27/27 [==============================] - 0s 148us/sample - loss: 0.0526 - accuracy: 0.9630\n",
      "Epoch 735/1000\n",
      "27/27 [==============================] - 0s 241us/sample - loss: 0.0526 - accuracy: 0.9630\n",
      "Epoch 736/1000\n",
      "27/27 [==============================] - 0s 185us/sample - loss: 0.0528 - accuracy: 0.9630\n",
      "Epoch 737/1000\n",
      "27/27 [==============================] - 0s 222us/sample - loss: 0.0530 - accuracy: 0.9630\n",
      "Epoch 738/1000\n",
      "27/27 [==============================] - 0s 130us/sample - loss: 0.0533 - accuracy: 0.9630\n",
      "Epoch 739/1000\n",
      "27/27 [==============================] - 0s 185us/sample - loss: 0.0537 - accuracy: 0.9630\n",
      "Epoch 740/1000\n",
      "27/27 [==============================] - 0s 148us/sample - loss: 0.0539 - accuracy: 0.9630\n",
      "Epoch 741/1000\n",
      "27/27 [==============================] - 0s 222us/sample - loss: 0.0536 - accuracy: 0.9630\n",
      "Epoch 742/1000\n",
      "27/27 [==============================] - 0s 130us/sample - loss: 0.0529 - accuracy: 0.9630\n",
      "Epoch 743/1000\n",
      "27/27 [==============================] - 0s 204us/sample - loss: 0.0525 - accuracy: 0.9630\n",
      "Epoch 744/1000\n",
      "27/27 [==============================] - 0s 130us/sample - loss: 0.0527 - accuracy: 0.9630\n",
      "Epoch 745/1000\n",
      "27/27 [==============================] - 0s 167us/sample - loss: 0.0531 - accuracy: 0.9630\n",
      "Epoch 746/1000\n",
      "27/27 [==============================] - 0s 167us/sample - loss: 0.0531 - accuracy: 0.9630\n",
      "Epoch 747/1000\n",
      "27/27 [==============================] - 0s 148us/sample - loss: 0.0528 - accuracy: 0.9630\n",
      "Epoch 748/1000\n",
      "27/27 [==============================] - 0s 167us/sample - loss: 0.0525 - accuracy: 0.9630\n",
      "Epoch 749/1000\n",
      "27/27 [==============================] - 0s 185us/sample - loss: 0.0526 - accuracy: 0.9630\n",
      "Epoch 750/1000\n",
      "27/27 [==============================] - 0s 241us/sample - loss: 0.0529 - accuracy: 0.9630\n",
      "Epoch 751/1000\n",
      "27/27 [==============================] - 0s 167us/sample - loss: 0.0528 - accuracy: 0.9630\n",
      "Epoch 752/1000\n",
      "27/27 [==============================] - 0s 241us/sample - loss: 0.0525 - accuracy: 0.9630\n",
      "Epoch 753/1000\n",
      "27/27 [==============================] - 0s 148us/sample - loss: 0.0525 - accuracy: 0.9630\n",
      "Epoch 754/1000\n",
      "27/27 [==============================] - 0s 259us/sample - loss: 0.0527 - accuracy: 0.9630\n",
      "Epoch 755/1000\n",
      "27/27 [==============================] - 0s 241us/sample - loss: 0.0527 - accuracy: 0.9630\n",
      "Epoch 756/1000\n",
      "27/27 [==============================] - 0s 259us/sample - loss: 0.0526 - accuracy: 0.9630\n",
      "Epoch 757/1000\n",
      "27/27 [==============================] - 0s 111us/sample - loss: 0.0525 - accuracy: 0.9630\n",
      "Epoch 758/1000\n",
      "27/27 [==============================] - 0s 389us/sample - loss: 0.0526 - accuracy: 0.9630\n",
      "Epoch 759/1000\n",
      "27/27 [==============================] - 0s 167us/sample - loss: 0.0526 - accuracy: 0.9630\n",
      "Epoch 760/1000\n",
      "27/27 [==============================] - 0s 222us/sample - loss: 0.0526 - accuracy: 0.9630\n",
      "Epoch 761/1000\n",
      "27/27 [==============================] - 0s 167us/sample - loss: 0.0525 - accuracy: 0.9630\n",
      "Epoch 762/1000\n",
      "27/27 [==============================] - 0s 148us/sample - loss: 0.0525 - accuracy: 0.9630\n",
      "Epoch 763/1000\n",
      "27/27 [==============================] - 0s 222us/sample - loss: 0.0526 - accuracy: 0.9630\n",
      "Epoch 764/1000\n",
      "27/27 [==============================] - 0s 167us/sample - loss: 0.0525 - accuracy: 0.9630\n",
      "Epoch 765/1000\n",
      "27/27 [==============================] - 0s 148us/sample - loss: 0.0525 - accuracy: 0.9630\n",
      "Epoch 766/1000\n",
      "27/27 [==============================] - 0s 148us/sample - loss: 0.0525 - accuracy: 0.9630\n",
      "Epoch 767/1000\n",
      "27/27 [==============================] - 0s 222us/sample - loss: 0.0525 - accuracy: 0.9630\n",
      "Epoch 768/1000\n",
      "27/27 [==============================] - 0s 148us/sample - loss: 0.0525 - accuracy: 0.9630\n",
      "Epoch 769/1000\n",
      "27/27 [==============================] - 0s 241us/sample - loss: 0.0525 - accuracy: 0.9630\n",
      "Epoch 770/1000\n",
      "27/27 [==============================] - 0s 130us/sample - loss: 0.0525 - accuracy: 0.9630\n",
      "Epoch 771/1000\n",
      "27/27 [==============================] - 0s 241us/sample - loss: 0.0525 - accuracy: 0.9630\n",
      "Epoch 772/1000\n",
      "27/27 [==============================] - 0s 167us/sample - loss: 0.0525 - accuracy: 0.9630\n",
      "Epoch 773/1000\n",
      "27/27 [==============================] - 0s 148us/sample - loss: 0.0525 - accuracy: 0.9630\n",
      "Epoch 774/1000\n",
      "27/27 [==============================] - 0s 167us/sample - loss: 0.0525 - accuracy: 0.9630\n",
      "Epoch 775/1000\n",
      "27/27 [==============================] - 0s 278us/sample - loss: 0.0525 - accuracy: 0.9630\n",
      "Epoch 776/1000\n",
      "27/27 [==============================] - 0s 185us/sample - loss: 0.0525 - accuracy: 0.9630\n",
      "Epoch 777/1000\n",
      "27/27 [==============================] - 0s 278us/sample - loss: 0.0525 - accuracy: 0.9630\n",
      "Epoch 778/1000\n",
      "27/27 [==============================] - 0s 167us/sample - loss: 0.0524 - accuracy: 0.9630\n",
      "Epoch 779/1000\n",
      "27/27 [==============================] - 0s 241us/sample - loss: 0.0525 - accuracy: 0.9630\n",
      "Epoch 780/1000\n",
      "27/27 [==============================] - 0s 185us/sample - loss: 0.0525 - accuracy: 0.9630\n",
      "Epoch 781/1000\n",
      "27/27 [==============================] - 0s 148us/sample - loss: 0.0525 - accuracy: 0.9630\n"
     ]
    },
    {
     "name": "stdout",
     "output_type": "stream",
     "text": [
      "Epoch 782/1000\n",
      "27/27 [==============================] - 0s 130us/sample - loss: 0.0524 - accuracy: 0.9630\n",
      "Epoch 783/1000\n",
      "27/27 [==============================] - 0s 370us/sample - loss: 0.0524 - accuracy: 0.9630\n",
      "Epoch 784/1000\n",
      "27/27 [==============================] - 0s 204us/sample - loss: 0.0524 - accuracy: 0.9630\n",
      "Epoch 785/1000\n",
      "27/27 [==============================] - 0s 167us/sample - loss: 0.0524 - accuracy: 0.9630\n",
      "Epoch 786/1000\n",
      "27/27 [==============================] - 0s 167us/sample - loss: 0.0524 - accuracy: 0.9630\n",
      "Epoch 787/1000\n",
      "27/27 [==============================] - 0s 204us/sample - loss: 0.0524 - accuracy: 0.9630\n",
      "Epoch 788/1000\n",
      "27/27 [==============================] - 0s 148us/sample - loss: 0.0524 - accuracy: 0.9630\n",
      "Epoch 789/1000\n",
      "27/27 [==============================] - 0s 259us/sample - loss: 0.0524 - accuracy: 0.9630\n",
      "Epoch 790/1000\n",
      "27/27 [==============================] - 0s 167us/sample - loss: 0.0524 - accuracy: 0.9630\n",
      "Epoch 791/1000\n",
      "27/27 [==============================] - 0s 296us/sample - loss: 0.0524 - accuracy: 0.9630\n",
      "Epoch 792/1000\n",
      "27/27 [==============================] - 0s 185us/sample - loss: 0.0524 - accuracy: 0.9630\n",
      "Epoch 793/1000\n",
      "27/27 [==============================] - 0s 241us/sample - loss: 0.0524 - accuracy: 0.9630\n",
      "Epoch 794/1000\n",
      "27/27 [==============================] - 0s 185us/sample - loss: 0.0524 - accuracy: 0.9630\n",
      "Epoch 795/1000\n",
      "27/27 [==============================] - 0s 241us/sample - loss: 0.0524 - accuracy: 0.9630\n",
      "Epoch 796/1000\n",
      "27/27 [==============================] - 0s 278us/sample - loss: 0.0524 - accuracy: 0.9630\n",
      "Epoch 797/1000\n",
      "27/27 [==============================] - 0s 185us/sample - loss: 0.0524 - accuracy: 0.9630\n",
      "Epoch 798/1000\n",
      "27/27 [==============================] - 0s 167us/sample - loss: 0.0524 - accuracy: 0.9630\n",
      "Epoch 799/1000\n",
      "27/27 [==============================] - 0s 222us/sample - loss: 0.0524 - accuracy: 0.9630\n",
      "Epoch 800/1000\n",
      "27/27 [==============================] - 0s 167us/sample - loss: 0.0524 - accuracy: 0.9630\n",
      "Epoch 801/1000\n",
      "27/27 [==============================] - 0s 148us/sample - loss: 0.0524 - accuracy: 0.9630\n",
      "Epoch 802/1000\n",
      "27/27 [==============================] - 0s 167us/sample - loss: 0.0524 - accuracy: 0.9630\n",
      "Epoch 803/1000\n",
      "27/27 [==============================] - 0s 204us/sample - loss: 0.0524 - accuracy: 0.9630\n",
      "Epoch 804/1000\n",
      "27/27 [==============================] - 0s 185us/sample - loss: 0.0524 - accuracy: 0.9630\n",
      "Epoch 805/1000\n",
      "27/27 [==============================] - 0s 130us/sample - loss: 0.0524 - accuracy: 0.9630\n",
      "Epoch 806/1000\n",
      "27/27 [==============================] - 0s 370us/sample - loss: 0.0524 - accuracy: 0.9630\n",
      "Epoch 807/1000\n",
      "27/27 [==============================] - 0s 278us/sample - loss: 0.0524 - accuracy: 0.9630\n",
      "Epoch 808/1000\n",
      "27/27 [==============================] - 0s 222us/sample - loss: 0.0524 - accuracy: 0.9630\n",
      "Epoch 809/1000\n",
      "27/27 [==============================] - 0s 185us/sample - loss: 0.0524 - accuracy: 0.9630\n",
      "Epoch 810/1000\n",
      "27/27 [==============================] - 0s 148us/sample - loss: 0.0524 - accuracy: 0.9630\n",
      "Epoch 811/1000\n",
      "27/27 [==============================] - 0s 148us/sample - loss: 0.0524 - accuracy: 0.9630\n",
      "Epoch 812/1000\n",
      "27/27 [==============================] - 0s 222us/sample - loss: 0.0524 - accuracy: 0.9630\n",
      "Epoch 813/1000\n",
      "27/27 [==============================] - 0s 167us/sample - loss: 0.0524 - accuracy: 0.9630\n",
      "Epoch 814/1000\n",
      "27/27 [==============================] - 0s 148us/sample - loss: 0.0524 - accuracy: 0.9630\n",
      "Epoch 815/1000\n",
      "27/27 [==============================] - 0s 333us/sample - loss: 0.0524 - accuracy: 0.9630\n",
      "Epoch 816/1000\n",
      "27/27 [==============================] - 0s 167us/sample - loss: 0.0524 - accuracy: 0.9630\n",
      "Epoch 817/1000\n",
      "27/27 [==============================] - 0s 278us/sample - loss: 0.0524 - accuracy: 0.9630\n",
      "Epoch 818/1000\n",
      "27/27 [==============================] - 0s 185us/sample - loss: 0.0524 - accuracy: 0.9630\n",
      "Epoch 819/1000\n",
      "27/27 [==============================] - 0s 185us/sample - loss: 0.0524 - accuracy: 0.9630\n",
      "Epoch 820/1000\n",
      "27/27 [==============================] - 0s 148us/sample - loss: 0.0524 - accuracy: 0.9630\n",
      "Epoch 821/1000\n",
      "27/27 [==============================] - 0s 204us/sample - loss: 0.0524 - accuracy: 0.9630\n",
      "Epoch 822/1000\n",
      "27/27 [==============================] - 0s 278us/sample - loss: 0.0524 - accuracy: 0.9630\n",
      "Epoch 823/1000\n",
      "27/27 [==============================] - 0s 167us/sample - loss: 0.0524 - accuracy: 0.9630\n",
      "Epoch 824/1000\n",
      "27/27 [==============================] - 0s 148us/sample - loss: 0.0524 - accuracy: 0.9630\n",
      "Epoch 825/1000\n",
      "27/27 [==============================] - 0s 167us/sample - loss: 0.0524 - accuracy: 0.9630\n",
      "Epoch 826/1000\n",
      "27/27 [==============================] - 0s 148us/sample - loss: 0.0524 - accuracy: 0.9630\n",
      "Epoch 827/1000\n",
      "27/27 [==============================] - 0s 167us/sample - loss: 0.0524 - accuracy: 0.9630\n",
      "Epoch 828/1000\n",
      "27/27 [==============================] - 0s 259us/sample - loss: 0.0524 - accuracy: 0.9630\n",
      "Epoch 829/1000\n",
      "27/27 [==============================] - 0s 130us/sample - loss: 0.0524 - accuracy: 0.9630\n",
      "Epoch 830/1000\n",
      "27/27 [==============================] - 0s 204us/sample - loss: 0.0524 - accuracy: 0.9630\n",
      "Epoch 831/1000\n",
      "27/27 [==============================] - 0s 167us/sample - loss: 0.0524 - accuracy: 0.9630\n",
      "Epoch 832/1000\n",
      "27/27 [==============================] - 0s 148us/sample - loss: 0.0524 - accuracy: 0.9630\n",
      "Epoch 833/1000\n",
      "27/27 [==============================] - 0s 204us/sample - loss: 0.0524 - accuracy: 0.9630\n",
      "Epoch 834/1000\n",
      "27/27 [==============================] - 0s 185us/sample - loss: 0.0524 - accuracy: 0.9630\n",
      "Epoch 835/1000\n",
      "27/27 [==============================] - 0s 241us/sample - loss: 0.0524 - accuracy: 0.9630\n",
      "Epoch 836/1000\n",
      "27/27 [==============================] - 0s 130us/sample - loss: 0.0524 - accuracy: 0.9630\n",
      "Epoch 837/1000\n",
      "27/27 [==============================] - 0s 222us/sample - loss: 0.0524 - accuracy: 0.9630\n",
      "Epoch 838/1000\n",
      "27/27 [==============================] - 0s 148us/sample - loss: 0.0524 - accuracy: 0.9630\n",
      "Epoch 839/1000\n",
      "27/27 [==============================] - 0s 259us/sample - loss: 0.0524 - accuracy: 0.9630\n",
      "Epoch 840/1000\n",
      "27/27 [==============================] - 0s 167us/sample - loss: 0.0524 - accuracy: 0.9630\n",
      "Epoch 841/1000\n",
      "27/27 [==============================] - 0s 167us/sample - loss: 0.0524 - accuracy: 0.9630\n",
      "Epoch 842/1000\n",
      "27/27 [==============================] - 0s 130us/sample - loss: 0.0524 - accuracy: 0.9630\n",
      "Epoch 843/1000\n",
      "27/27 [==============================] - 0s 167us/sample - loss: 0.0524 - accuracy: 0.9630\n",
      "Epoch 844/1000\n",
      "27/27 [==============================] - 0s 222us/sample - loss: 0.0524 - accuracy: 0.9630\n",
      "Epoch 845/1000\n",
      "27/27 [==============================] - 0s 148us/sample - loss: 0.0524 - accuracy: 0.9630\n",
      "Epoch 846/1000\n",
      "27/27 [==============================] - 0s 167us/sample - loss: 0.0524 - accuracy: 0.9630\n",
      "Epoch 847/1000\n",
      "27/27 [==============================] - 0s 148us/sample - loss: 0.0524 - accuracy: 0.9630\n",
      "Epoch 848/1000\n",
      "27/27 [==============================] - 0s 185us/sample - loss: 0.0524 - accuracy: 0.9630\n",
      "Epoch 849/1000\n",
      "27/27 [==============================] - 0s 352us/sample - loss: 0.0523 - accuracy: 0.9630\n",
      "Epoch 850/1000\n",
      "27/27 [==============================] - 0s 241us/sample - loss: 0.0523 - accuracy: 0.9630\n",
      "Epoch 851/1000\n",
      "27/27 [==============================] - 0s 130us/sample - loss: 0.0523 - accuracy: 0.9630\n",
      "Epoch 852/1000\n",
      "27/27 [==============================] - 0s 148us/sample - loss: 0.0523 - accuracy: 0.9630\n",
      "Epoch 853/1000\n",
      "27/27 [==============================] - 0s 130us/sample - loss: 0.0523 - accuracy: 0.9630\n",
      "Epoch 854/1000\n",
      "27/27 [==============================] - 0s 296us/sample - loss: 0.0523 - accuracy: 0.9630\n",
      "Epoch 855/1000\n",
      "27/27 [==============================] - 0s 148us/sample - loss: 0.0523 - accuracy: 0.9630\n",
      "Epoch 856/1000\n",
      "27/27 [==============================] - 0s 130us/sample - loss: 0.0523 - accuracy: 0.9630\n",
      "Epoch 857/1000\n",
      "27/27 [==============================] - 0s 204us/sample - loss: 0.0523 - accuracy: 0.9630\n",
      "Epoch 858/1000\n",
      "27/27 [==============================] - 0s 167us/sample - loss: 0.0523 - accuracy: 0.9630\n",
      "Epoch 859/1000\n",
      "27/27 [==============================] - 0s 222us/sample - loss: 0.0523 - accuracy: 0.9630\n"
     ]
    },
    {
     "name": "stdout",
     "output_type": "stream",
     "text": [
      "Epoch 860/1000\n",
      "27/27 [==============================] - 0s 148us/sample - loss: 0.0523 - accuracy: 0.9630\n",
      "Epoch 861/1000\n",
      "27/27 [==============================] - 0s 278us/sample - loss: 0.0523 - accuracy: 0.9630\n",
      "Epoch 862/1000\n",
      "27/27 [==============================] - 0s 185us/sample - loss: 0.0523 - accuracy: 0.9630\n",
      "Epoch 863/1000\n",
      "27/27 [==============================] - 0s 222us/sample - loss: 0.0523 - accuracy: 0.9630\n",
      "Epoch 864/1000\n",
      "27/27 [==============================] - 0s 204us/sample - loss: 0.0523 - accuracy: 0.9630\n",
      "Epoch 865/1000\n",
      "27/27 [==============================] - 0s 148us/sample - loss: 0.0523 - accuracy: 0.9630\n",
      "Epoch 866/1000\n",
      "27/27 [==============================] - 0s 148us/sample - loss: 0.0523 - accuracy: 0.9630\n",
      "Epoch 867/1000\n",
      "27/27 [==============================] - 0s 222us/sample - loss: 0.0523 - accuracy: 0.9630\n",
      "Epoch 868/1000\n",
      "27/27 [==============================] - 0s 167us/sample - loss: 0.0523 - accuracy: 0.9630\n",
      "Epoch 869/1000\n",
      "27/27 [==============================] - 0s 204us/sample - loss: 0.0523 - accuracy: 0.9630\n",
      "Epoch 870/1000\n",
      "27/27 [==============================] - 0s 204us/sample - loss: 0.0523 - accuracy: 0.9630\n",
      "Epoch 871/1000\n",
      "27/27 [==============================] - 0s 297us/sample - loss: 0.0523 - accuracy: 0.9630\n",
      "Epoch 872/1000\n",
      "27/27 [==============================] - 0s 185us/sample - loss: 0.0523 - accuracy: 0.9630\n",
      "Epoch 873/1000\n",
      "27/27 [==============================] - 0s 241us/sample - loss: 0.0523 - accuracy: 0.9630\n",
      "Epoch 874/1000\n",
      "27/27 [==============================] - 0s 148us/sample - loss: 0.0523 - accuracy: 0.9630\n",
      "Epoch 875/1000\n",
      "27/27 [==============================] - 0s 259us/sample - loss: 0.0523 - accuracy: 0.9630\n",
      "Epoch 876/1000\n",
      "27/27 [==============================] - 0s 204us/sample - loss: 0.0523 - accuracy: 0.9630\n",
      "Epoch 877/1000\n",
      "27/27 [==============================] - 0s 167us/sample - loss: 0.0523 - accuracy: 0.9630\n",
      "Epoch 878/1000\n",
      "27/27 [==============================] - 0s 130us/sample - loss: 0.0523 - accuracy: 0.9630\n",
      "Epoch 879/1000\n",
      "27/27 [==============================] - 0s 240us/sample - loss: 0.0523 - accuracy: 0.9630\n",
      "Epoch 880/1000\n",
      "27/27 [==============================] - 0s 148us/sample - loss: 0.0523 - accuracy: 0.9630\n",
      "Epoch 881/1000\n",
      "27/27 [==============================] - 0s 241us/sample - loss: 0.0523 - accuracy: 0.9630\n",
      "Epoch 882/1000\n",
      "27/27 [==============================] - 0s 204us/sample - loss: 0.0523 - accuracy: 0.9630\n",
      "Epoch 883/1000\n",
      "27/27 [==============================] - 0s 204us/sample - loss: 0.0523 - accuracy: 0.9630\n",
      "Epoch 884/1000\n",
      "27/27 [==============================] - 0s 148us/sample - loss: 0.0523 - accuracy: 0.9630\n",
      "Epoch 885/1000\n",
      "27/27 [==============================] - 0s 222us/sample - loss: 0.0523 - accuracy: 0.9630\n",
      "Epoch 886/1000\n",
      "27/27 [==============================] - 0s 185us/sample - loss: 0.0523 - accuracy: 0.9630\n",
      "Epoch 887/1000\n",
      "27/27 [==============================] - 0s 204us/sample - loss: 0.0523 - accuracy: 0.9630\n",
      "Epoch 888/1000\n",
      "27/27 [==============================] - 0s 148us/sample - loss: 0.0523 - accuracy: 0.9630\n",
      "Epoch 889/1000\n",
      "27/27 [==============================] - 0s 148us/sample - loss: 0.0523 - accuracy: 0.9630\n",
      "Epoch 890/1000\n",
      "27/27 [==============================] - 0s 148us/sample - loss: 0.0523 - accuracy: 0.9630\n",
      "Epoch 891/1000\n",
      "27/27 [==============================] - 0s 222us/sample - loss: 0.0523 - accuracy: 0.9630\n",
      "Epoch 892/1000\n",
      "27/27 [==============================] - 0s 241us/sample - loss: 0.0523 - accuracy: 0.9630\n",
      "Epoch 893/1000\n",
      "27/27 [==============================] - 0s 259us/sample - loss: 0.0523 - accuracy: 0.9630\n",
      "Epoch 894/1000\n",
      "27/27 [==============================] - 0s 148us/sample - loss: 0.0523 - accuracy: 0.9630\n",
      "Epoch 895/1000\n",
      "27/27 [==============================] - 0s 222us/sample - loss: 0.0523 - accuracy: 0.9630\n",
      "Epoch 896/1000\n",
      "27/27 [==============================] - 0s 148us/sample - loss: 0.0523 - accuracy: 0.9630\n",
      "Epoch 897/1000\n",
      "27/27 [==============================] - 0s 278us/sample - loss: 0.0523 - accuracy: 0.9630\n",
      "Epoch 898/1000\n",
      "27/27 [==============================] - 0s 204us/sample - loss: 0.0523 - accuracy: 0.9630\n",
      "Epoch 899/1000\n",
      "27/27 [==============================] - 0s 204us/sample - loss: 0.0523 - accuracy: 0.9630\n",
      "Epoch 900/1000\n",
      "27/27 [==============================] - 0s 296us/sample - loss: 0.0523 - accuracy: 0.9630\n",
      "Epoch 901/1000\n",
      "27/27 [==============================] - 0s 241us/sample - loss: 0.0523 - accuracy: 0.9630\n",
      "Epoch 902/1000\n",
      "27/27 [==============================] - 0s 167us/sample - loss: 0.0523 - accuracy: 0.9630\n",
      "Epoch 903/1000\n",
      "27/27 [==============================] - 0s 167us/sample - loss: 0.0523 - accuracy: 0.9630\n",
      "Epoch 904/1000\n",
      "27/27 [==============================] - 0s 204us/sample - loss: 0.0523 - accuracy: 0.9630\n",
      "Epoch 905/1000\n",
      "27/27 [==============================] - 0s 222us/sample - loss: 0.0523 - accuracy: 0.9630\n",
      "Epoch 906/1000\n",
      "27/27 [==============================] - 0s 148us/sample - loss: 0.0523 - accuracy: 0.9630\n",
      "Epoch 907/1000\n",
      "27/27 [==============================] - 0s 148us/sample - loss: 0.0523 - accuracy: 0.9630\n",
      "Epoch 908/1000\n",
      "27/27 [==============================] - 0s 185us/sample - loss: 0.0523 - accuracy: 0.9630\n",
      "Epoch 909/1000\n",
      "27/27 [==============================] - 0s 166us/sample - loss: 0.0523 - accuracy: 0.9630\n",
      "Epoch 910/1000\n",
      "27/27 [==============================] - 0s 204us/sample - loss: 0.0523 - accuracy: 0.9630\n",
      "Epoch 911/1000\n",
      "27/27 [==============================] - 0s 130us/sample - loss: 0.0523 - accuracy: 0.9630\n",
      "Epoch 912/1000\n",
      "27/27 [==============================] - 0s 204us/sample - loss: 0.0523 - accuracy: 0.9630\n",
      "Epoch 913/1000\n",
      "27/27 [==============================] - 0s 148us/sample - loss: 0.0523 - accuracy: 0.9630\n",
      "Epoch 914/1000\n",
      "27/27 [==============================] - 0s 167us/sample - loss: 0.0523 - accuracy: 0.9630\n",
      "Epoch 915/1000\n",
      "27/27 [==============================] - 0s 204us/sample - loss: 0.0523 - accuracy: 0.9630\n",
      "Epoch 916/1000\n",
      "27/27 [==============================] - 0s 185us/sample - loss: 0.0523 - accuracy: 0.9630\n",
      "Epoch 917/1000\n",
      "27/27 [==============================] - 0s 259us/sample - loss: 0.0523 - accuracy: 0.9630\n",
      "Epoch 918/1000\n",
      "27/27 [==============================] - 0s 148us/sample - loss: 0.0523 - accuracy: 0.9630\n",
      "Epoch 919/1000\n",
      "27/27 [==============================] - 0s 167us/sample - loss: 0.0523 - accuracy: 0.9630\n",
      "Epoch 920/1000\n",
      "27/27 [==============================] - 0s 148us/sample - loss: 0.0523 - accuracy: 0.9630\n",
      "Epoch 921/1000\n",
      "27/27 [==============================] - 0s 222us/sample - loss: 0.0523 - accuracy: 0.9630\n",
      "Epoch 922/1000\n",
      "27/27 [==============================] - 0s 148us/sample - loss: 0.0523 - accuracy: 0.9630\n",
      "Epoch 923/1000\n",
      "27/27 [==============================] - 0s 167us/sample - loss: 0.0523 - accuracy: 0.9630\n",
      "Epoch 924/1000\n",
      "27/27 [==============================] - 0s 241us/sample - loss: 0.0523 - accuracy: 0.9630\n",
      "Epoch 925/1000\n",
      "27/27 [==============================] - 0s 130us/sample - loss: 0.0523 - accuracy: 0.9630\n",
      "Epoch 926/1000\n",
      "27/27 [==============================] - 0s 278us/sample - loss: 0.0523 - accuracy: 0.9630\n",
      "Epoch 927/1000\n",
      "27/27 [==============================] - 0s 167us/sample - loss: 0.0523 - accuracy: 0.9630\n",
      "Epoch 928/1000\n",
      "27/27 [==============================] - 0s 222us/sample - loss: 0.0523 - accuracy: 0.9630\n",
      "Epoch 929/1000\n",
      "27/27 [==============================] - 0s 148us/sample - loss: 0.0523 - accuracy: 0.9630\n",
      "Epoch 930/1000\n",
      "27/27 [==============================] - 0s 278us/sample - loss: 0.0523 - accuracy: 0.9630\n",
      "Epoch 931/1000\n",
      "27/27 [==============================] - 0s 148us/sample - loss: 0.0523 - accuracy: 0.9630\n",
      "Epoch 932/1000\n",
      "27/27 [==============================] - 0s 148us/sample - loss: 0.0523 - accuracy: 0.9630\n",
      "Epoch 933/1000\n",
      "27/27 [==============================] - 0s 278us/sample - loss: 0.0523 - accuracy: 0.9630\n",
      "Epoch 934/1000\n",
      "27/27 [==============================] - 0s 222us/sample - loss: 0.0522 - accuracy: 0.9630\n",
      "Epoch 935/1000\n",
      "27/27 [==============================] - 0s 148us/sample - loss: 0.0522 - accuracy: 0.9630\n",
      "Epoch 936/1000\n",
      "27/27 [==============================] - 0s 148us/sample - loss: 0.0522 - accuracy: 0.9630\n",
      "Epoch 937/1000\n",
      "27/27 [==============================] - 0s 204us/sample - loss: 0.0522 - accuracy: 0.9630\n"
     ]
    },
    {
     "name": "stdout",
     "output_type": "stream",
     "text": [
      "Epoch 938/1000\n",
      "27/27 [==============================] - 0s 148us/sample - loss: 0.0522 - accuracy: 0.9630\n",
      "Epoch 939/1000\n",
      "27/27 [==============================] - 0s 148us/sample - loss: 0.0522 - accuracy: 0.9630\n",
      "Epoch 940/1000\n",
      "27/27 [==============================] - 0s 222us/sample - loss: 0.0522 - accuracy: 0.9630\n",
      "Epoch 941/1000\n",
      "27/27 [==============================] - 0s 204us/sample - loss: 0.0522 - accuracy: 0.9630\n",
      "Epoch 942/1000\n",
      "27/27 [==============================] - 0s 241us/sample - loss: 0.0522 - accuracy: 0.9630\n",
      "Epoch 943/1000\n",
      "27/27 [==============================] - 0s 148us/sample - loss: 0.0522 - accuracy: 0.9630\n",
      "Epoch 944/1000\n",
      "27/27 [==============================] - 0s 167us/sample - loss: 0.0522 - accuracy: 0.9630\n",
      "Epoch 945/1000\n",
      "27/27 [==============================] - 0s 167us/sample - loss: 0.0522 - accuracy: 0.9630\n",
      "Epoch 946/1000\n",
      "27/27 [==============================] - 0s 148us/sample - loss: 0.0522 - accuracy: 0.9630\n",
      "Epoch 947/1000\n",
      "27/27 [==============================] - 0s 222us/sample - loss: 0.0522 - accuracy: 0.9630\n",
      "Epoch 948/1000\n",
      "27/27 [==============================] - 0s 167us/sample - loss: 0.0522 - accuracy: 0.9630\n",
      "Epoch 949/1000\n",
      "27/27 [==============================] - 0s 148us/sample - loss: 0.0522 - accuracy: 0.9630\n",
      "Epoch 950/1000\n",
      "27/27 [==============================] - 0s 185us/sample - loss: 0.0522 - accuracy: 0.9630\n",
      "Epoch 951/1000\n",
      "27/27 [==============================] - 0s 130us/sample - loss: 0.0523 - accuracy: 0.9630\n",
      "Epoch 952/1000\n",
      "27/27 [==============================] - 0s 204us/sample - loss: 0.0523 - accuracy: 0.9630\n",
      "Epoch 953/1000\n",
      "27/27 [==============================] - 0s 167us/sample - loss: 0.0523 - accuracy: 0.9630\n",
      "Epoch 954/1000\n",
      "27/27 [==============================] - 0s 204us/sample - loss: 0.0524 - accuracy: 0.9630\n",
      "Epoch 955/1000\n",
      "27/27 [==============================] - 0s 185us/sample - loss: 0.0525 - accuracy: 0.9630\n",
      "Epoch 956/1000\n",
      "27/27 [==============================] - 0s 222us/sample - loss: 0.0526 - accuracy: 0.9630\n",
      "Epoch 957/1000\n",
      "27/27 [==============================] - 0s 148us/sample - loss: 0.0529 - accuracy: 0.9630\n",
      "Epoch 958/1000\n",
      "27/27 [==============================] - 0s 204us/sample - loss: 0.0532 - accuracy: 0.9630\n",
      "Epoch 959/1000\n",
      "27/27 [==============================] - 0s 204us/sample - loss: 0.0534 - accuracy: 0.9630\n",
      "Epoch 960/1000\n",
      "27/27 [==============================] - 0s 259us/sample - loss: 0.0533 - accuracy: 0.9630\n",
      "Epoch 961/1000\n",
      "27/27 [==============================] - 0s 148us/sample - loss: 0.0528 - accuracy: 0.9630\n",
      "Epoch 962/1000\n",
      "27/27 [==============================] - 0s 148us/sample - loss: 0.0523 - accuracy: 0.9630\n",
      "Epoch 963/1000\n",
      "27/27 [==============================] - 0s 278us/sample - loss: 0.0522 - accuracy: 0.9630\n",
      "Epoch 964/1000\n",
      "27/27 [==============================] - 0s 167us/sample - loss: 0.0525 - accuracy: 0.9630\n",
      "Epoch 965/1000\n",
      "27/27 [==============================] - 0s 259us/sample - loss: 0.0528 - accuracy: 0.9630\n",
      "Epoch 966/1000\n",
      "27/27 [==============================] - 0s 148us/sample - loss: 0.0527 - accuracy: 0.9630\n",
      "Epoch 967/1000\n",
      "27/27 [==============================] - 0s 148us/sample - loss: 0.0524 - accuracy: 0.9630\n",
      "Epoch 968/1000\n",
      "27/27 [==============================] - 0s 185us/sample - loss: 0.0522 - accuracy: 0.9630\n",
      "Epoch 969/1000\n",
      "27/27 [==============================] - 0s 334us/sample - loss: 0.0523 - accuracy: 0.9630\n",
      "Epoch 970/1000\n",
      "27/27 [==============================] - 0s 148us/sample - loss: 0.0525 - accuracy: 0.9630\n",
      "Epoch 971/1000\n",
      "27/27 [==============================] - 0s 167us/sample - loss: 0.0525 - accuracy: 0.9630\n",
      "Epoch 972/1000\n",
      "27/27 [==============================] - 0s 296us/sample - loss: 0.0523 - accuracy: 0.9630\n",
      "Epoch 973/1000\n",
      "27/27 [==============================] - 0s 167us/sample - loss: 0.0522 - accuracy: 0.9630\n",
      "Epoch 974/1000\n",
      "27/27 [==============================] - 0s 148us/sample - loss: 0.0523 - accuracy: 0.9630\n",
      "Epoch 975/1000\n",
      "27/27 [==============================] - 0s 167us/sample - loss: 0.0524 - accuracy: 0.9630\n",
      "Epoch 976/1000\n",
      "27/27 [==============================] - 0s 241us/sample - loss: 0.0524 - accuracy: 0.9630\n",
      "Epoch 977/1000\n",
      "27/27 [==============================] - 0s 296us/sample - loss: 0.0522 - accuracy: 0.9630\n",
      "Epoch 978/1000\n",
      "27/27 [==============================] - 0s 259us/sample - loss: 0.0522 - accuracy: 0.9630\n",
      "Epoch 979/1000\n",
      "27/27 [==============================] - 0s 148us/sample - loss: 0.0523 - accuracy: 0.9630\n",
      "Epoch 980/1000\n",
      "27/27 [==============================] - 0s 241us/sample - loss: 0.0523 - accuracy: 0.9630\n",
      "Epoch 981/1000\n",
      "27/27 [==============================] - 0s 148us/sample - loss: 0.0523 - accuracy: 0.9630\n",
      "Epoch 982/1000\n",
      "27/27 [==============================] - 0s 148us/sample - loss: 0.0522 - accuracy: 0.9630\n",
      "Epoch 983/1000\n",
      "27/27 [==============================] - 0s 148us/sample - loss: 0.0522 - accuracy: 0.9630\n",
      "Epoch 984/1000\n",
      "27/27 [==============================] - 0s 185us/sample - loss: 0.0523 - accuracy: 0.9630\n",
      "Epoch 985/1000\n",
      "27/27 [==============================] - 0s 352us/sample - loss: 0.0523 - accuracy: 0.9630\n",
      "Epoch 986/1000\n",
      "27/27 [==============================] - 0s 167us/sample - loss: 0.0522 - accuracy: 0.9630\n",
      "Epoch 987/1000\n",
      "27/27 [==============================] - 0s 148us/sample - loss: 0.0522 - accuracy: 0.9630\n",
      "Epoch 988/1000\n",
      "27/27 [==============================] - 0s 167us/sample - loss: 0.0522 - accuracy: 0.9630\n",
      "Epoch 989/1000\n",
      "27/27 [==============================] - 0s 241us/sample - loss: 0.0522 - accuracy: 0.9630\n",
      "Epoch 990/1000\n",
      "27/27 [==============================] - 0s 278us/sample - loss: 0.0522 - accuracy: 0.9630\n",
      "Epoch 991/1000\n",
      "27/27 [==============================] - 0s 278us/sample - loss: 0.0522 - accuracy: 0.9630\n",
      "Epoch 992/1000\n",
      "27/27 [==============================] - 0s 130us/sample - loss: 0.0522 - accuracy: 0.9630\n",
      "Epoch 993/1000\n",
      "27/27 [==============================] - 0s 222us/sample - loss: 0.0522 - accuracy: 0.9630\n",
      "Epoch 994/1000\n",
      "27/27 [==============================] - 0s 185us/sample - loss: 0.0522 - accuracy: 0.9630\n",
      "Epoch 995/1000\n",
      "27/27 [==============================] - 0s 204us/sample - loss: 0.0522 - accuracy: 0.9630\n",
      "Epoch 996/1000\n",
      "27/27 [==============================] - 0s 148us/sample - loss: 0.0522 - accuracy: 0.9630\n",
      "Epoch 997/1000\n",
      "27/27 [==============================] - 0s 259us/sample - loss: 0.0522 - accuracy: 0.9630\n",
      "Epoch 998/1000\n",
      "27/27 [==============================] - 0s 148us/sample - loss: 0.0522 - accuracy: 0.9630\n",
      "Epoch 999/1000\n",
      "27/27 [==============================] - 0s 130us/sample - loss: 0.0522 - accuracy: 0.9630\n",
      "Epoch 1000/1000\n",
      "27/27 [==============================] - 0s 222us/sample - loss: 0.0522 - accuracy: 0.9630\n"
     ]
    }
   ],
   "source": [
    "result = model.fit(Xs, Ys, epochs=1000, batch_size=32)"
   ]
  },
  {
   "cell_type": "code",
   "execution_count": 131,
   "metadata": {},
   "outputs": [],
   "source": [
    "predictions = model.predict(Xs)"
   ]
  },
  {
   "cell_type": "markdown",
   "metadata": {},
   "source": [
    "## Show Predictions"
   ]
  },
  {
   "cell_type": "code",
   "execution_count": 130,
   "metadata": {},
   "outputs": [
    {
     "name": "stdout",
     "output_type": "stream",
     "text": [
      "[[0 0 0 0 0 0]\n",
      " [0 0 0 0 0 0]\n",
      " [0 0 0 0 0 0]\n",
      " [0 0 0 0 0 0]] [0] [3.0130148e-05]\n"
     ]
    },
    {
     "data": {
      "image/png": "[encoded data removed]",
      "text/plain": [
       "<Figure size 432x288 with 1 Axes>"
      ]
     },
     "metadata": {},
     "output_type": "display_data"
    },
    {
     "name": "stdout",
     "output_type": "stream",
     "text": [
      "[[0 0 0 0 0 0]\n",
      " [0 0 0 0 0 0]\n",
      " [0 0 0 0 0 0]\n",
      " [0 0 1 0 0 0]] [0] [0.00021029]\n"
     ]
    },
    {
     "data": {
      "image/png": "[encoded data removed]",
      "text/plain": [
       "<Figure size 432x288 with 1 Axes>"
      ]
     },
     "metadata": {},
     "output_type": "display_data"
    },
    {
     "name": "stdout",
     "output_type": "stream",
     "text": [
      "[[0 0 0 0 0 0]\n",
      " [0 0 0 0 0 0]\n",
      " [0 0 1 0 0 0]\n",
      " [0 0 0 0 0 0]] [0] [0.00010169]\n"
     ]
    },
    {
     "data": {
      "image/png": "[encoded data removed]",
      "text/plain": [
       "<Figure size 432x288 with 1 Axes>"
      ]
     },
     "metadata": {},
     "output_type": "display_data"
    },
    {
     "name": "stdout",
     "output_type": "stream",
     "text": [
      "[[0 0 0 0 0 0]\n",
      " [0 0 1 0 0 0]\n",
      " [0 0 0 0 0 0]\n",
      " [0 0 0 0 0 0]] [0] [4.4703484e-07]\n"
     ]
    },
    {
     "data": {
      "image/png": "[encoded data removed]",
      "text/plain": [
       "<Figure size 432x288 with 1 Axes>"
      ]
     },
     "metadata": {},
     "output_type": "display_data"
    },
    {
     "name": "stdout",
     "output_type": "stream",
     "text": [
      "[[0 0 1 0 0 0]\n",
      " [0 0 0 0 0 0]\n",
      " [0 0 0 0 0 0]\n",
      " [0 0 0 0 0 0]] [0] [1.1920929e-07]\n"
     ]
    },
    {
     "data": {
      "image/png": "[encoded data removed]",
      "text/plain": [
       "<Figure size 432x288 with 1 Axes>"
      ]
     },
     "metadata": {},
     "output_type": "display_data"
    },
    {
     "name": "stdout",
     "output_type": "stream",
     "text": [
      "[[0 0 0 0 0 0]\n",
      " [0 0 0 0 0 0]\n",
      " [0 0 0 0 0 0]\n",
      " [0 0 0 0 0 0]] [0] [3.0130148e-05]\n"
     ]
    },
    {
     "data": {
      "image/png": "[encoded data removed]",
      "text/plain": [
       "<Figure size 432x288 with 1 Axes>"
      ]
     },
     "metadata": {},
     "output_type": "display_data"
    },
    {
     "name": "stdout",
     "output_type": "stream",
     "text": [
      "[[0 0 0 0 0 0]\n",
      " [0 0 0 0 0 0]\n",
      " [0 0 0 0 0 0]\n",
      " [0 0 1 0 0 0]] [0] [0.00021029]\n"
     ]
    },
    {
     "data": {
      "image/png": "[encoded data removed]",
      "text/plain": [
       "<Figure size 432x288 with 1 Axes>"
      ]
     },
     "metadata": {},
     "output_type": "display_data"
    },
    {
     "name": "stdout",
     "output_type": "stream",
     "text": [
      "[[0 0 0 0 0 0]\n",
      " [0 0 0 0 0 0]\n",
      " [0 0 1 0 0 0]\n",
      " [0 0 1 0 0 0]] [0] [0.00245202]\n"
     ]
    },
    {
     "data": {
      "image/png": "[encoded data removed]",
      "text/plain": [
       "<Figure size 432x288 with 1 Axes>"
      ]
     },
     "metadata": {},
     "output_type": "display_data"
    },
    {
     "name": "stdout",
     "output_type": "stream",
     "text": [
      "[[0 0 0 0 0 0]\n",
      " [0 0 1 0 0 0]\n",
      " [0 0 1 0 0 0]\n",
      " [0 0 1 0 0 0]] [0] [0.00020841]\n"
     ]
    },
    {
     "data": {
      "image/png": "[encoded data removed]",
      "text/plain": [
       "<Figure size 432x288 with 1 Axes>"
      ]
     },
     "metadata": {},
     "output_type": "display_data"
    },
    {
     "name": "stdout",
     "output_type": "stream",
     "text": [
      "[[0 0 1 0 0 0]\n",
      " [0 0 1 0 0 0]\n",
      " [0 0 1 0 0 0]\n",
      " [0 0 1 0 0 0]] [0] [0.4923697]\n"
     ]
    },
    {
     "data": {
      "image/png": "[encoded data removed]",
      "text/plain": [
       "<Figure size 432x288 with 1 Axes>"
      ]
     },
     "metadata": {},
     "output_type": "display_data"
    },
    {
     "name": "stdout",
     "output_type": "stream",
     "text": [
      "[[0 0 1 0 0 0]\n",
      " [0 0 1 0 0 0]\n",
      " [0 0 1 0 0 0]\n",
      " [0 0 0 0 0 0]] [0] [0.01093975]\n"
     ]
    },
    {
     "data": {
      "image/png": "[encoded data removed]",
      "text/plain": [
       "<Figure size 432x288 with 1 Axes>"
      ]
     },
     "metadata": {},
     "output_type": "display_data"
    },
    {
     "name": "stdout",
     "output_type": "stream",
     "text": [
      "[[0 0 1 0 0 0]\n",
      " [0 0 1 0 0 0]\n",
      " [0 0 0 0 0 0]\n",
      " [0 0 0 0 0 0]] [0] [3.0696392e-06]\n"
     ]
    },
    {
     "data": {
      "image/png": "[encoded data removed]",
      "text/plain": [
       "<Figure size 432x288 with 1 Axes>"
      ]
     },
     "metadata": {},
     "output_type": "display_data"
    },
    {
     "name": "stdout",
     "output_type": "stream",
     "text": [
      "[[0 0 1 0 0 0]\n",
      " [0 0 0 0 0 0]\n",
      " [0 0 0 0 0 0]\n",
      " [0 0 1 0 0 0]] [0] [4.7683716e-07]\n"
     ]
    },
    {
     "data": {
      "image/png": "[encoded data removed]",
      "text/plain": [
       "<Figure size 432x288 with 1 Axes>"
      ]
     },
     "metadata": {},
     "output_type": "display_data"
    },
    {
     "name": "stdout",
     "output_type": "stream",
     "text": [
      "[[0 0 0 0 0 0]\n",
      " [0 0 0 0 0 0]\n",
      " [0 0 1 0 0 0]\n",
      " [0 1 1 0 0 0]] [1] [0.99500227]\n"
     ]
    },
    {
     "data": {
      "image/png": "[encoded data removed]",
      "text/plain": [
       "<Figure size 432x288 with 1 Axes>"
      ]
     },
     "metadata": {},
     "output_type": "display_data"
    },
    {
     "name": "stdout",
     "output_type": "stream",
     "text": [
      "[[0 0 0 0 0 0]\n",
      " [0 0 1 0 0 0]\n",
      " [0 1 1 0 0 0]\n",
      " [0 0 0 0 0 0]] [1] [0.9999762]\n"
     ]
    },
    {
     "data": {
      "image/png": "[encoded data removed]",
      "text/plain": [
       "<Figure size 432x288 with 1 Axes>"
      ]
     },
     "metadata": {},
     "output_type": "display_data"
    },
    {
     "name": "stdout",
     "output_type": "stream",
     "text": [
      "[[0 0 1 0 0 0]\n",
      " [0 1 1 0 0 0]\n",
      " [0 0 0 0 0 0]\n",
      " [0 0 0 0 0 0]] [1] [0.99993396]\n"
     ]
    },
    {
     "data": {
      "image/png": "[encoded data removed]",
      "text/plain": [
       "<Figure size 432x288 with 1 Axes>"
      ]
     },
     "metadata": {},
     "output_type": "display_data"
    },
    {
     "name": "stdout",
     "output_type": "stream",
     "text": [
      "[[0 1 1 0 0 0]\n",
      " [0 0 0 0 0 0]\n",
      " [0 0 0 0 0 0]\n",
      " [0 0 1 0 0 0]] [1] [0.9998306]\n"
     ]
    },
    {
     "data": {
      "image/png": "[encoded data removed]",
      "text/plain": [
       "<Figure size 432x288 with 1 Axes>"
      ]
     },
     "metadata": {},
     "output_type": "display_data"
    },
    {
     "name": "stdout",
     "output_type": "stream",
     "text": [
      "[[0 0 0 0 0 0]\n",
      " [0 0 0 0 0 0]\n",
      " [0 0 1 0 0 0]\n",
      " [1 0 1 0 0 0]] [0] [0.00095284]\n"
     ]
    },
    {
     "data": {
      "image/png": "[encoded data removed]",
      "text/plain": [
       "<Figure size 432x288 with 1 Axes>"
      ]
     },
     "metadata": {},
     "output_type": "display_data"
    },
    {
     "name": "stdout",
     "output_type": "stream",
     "text": [
      "[[0 0 0 0 0 0]\n",
      " [0 0 1 0 0 0]\n",
      " [1 0 1 0 0 0]\n",
      " [0 0 1 0 0 0]] [0] [1.6510487e-05]\n"
     ]
    },
    {
     "data": {
      "image/png": "[encoded data removed]",
      "text/plain": [
       "<Figure size 432x288 with 1 Axes>"
      ]
     },
     "metadata": {},
     "output_type": "display_data"
    },
    {
     "name": "stdout",
     "output_type": "stream",
     "text": [
      "[[0 0 1 0 0 0]\n",
      " [1 0 1 0 0 0]\n",
      " [0 0 1 0 0 0]\n",
      " [0 0 1 0 0 1]] [0] [6.771088e-05]\n"
     ]
    },
    {
     "data": {
      "image/png": "[encoded data removed]",
      "text/plain": [
       "<Figure size 432x288 with 1 Axes>"
      ]
     },
     "metadata": {},
     "output_type": "display_data"
    },
    {
     "name": "stdout",
     "output_type": "stream",
     "text": [
      "[[1 0 1 0 0 0]\n",
      " [0 0 1 0 0 0]\n",
      " [0 0 1 0 0 1]\n",
      " [0 0 0 0 0 0]] [0] [2.9802322e-08]\n"
     ]
    },
    {
     "data": {
      "image/png": "[encoded data removed]",
      "text/plain": [
       "<Figure size 432x288 with 1 Axes>"
      ]
     },
     "metadata": {},
     "output_type": "display_data"
    },
    {
     "name": "stdout",
     "output_type": "stream",
     "text": [
      "[[0 0 1 0 0 0]\n",
      " [0 0 1 0 0 1]\n",
      " [0 0 0 0 0 0]\n",
      " [0 0 1 0 0 0]] [0] [0.00013971]\n"
     ]
    },
    {
     "data": {
      "image/png": "[encoded data removed]",
      "text/plain": [
       "<Figure size 432x288 with 1 Axes>"
      ]
     },
     "metadata": {},
     "output_type": "display_data"
    },
    {
     "name": "stdout",
     "output_type": "stream",
     "text": [
      "[[0 0 1 0 0 1]\n",
      " [0 0 0 0 0 0]\n",
      " [0 0 1 0 0 0]\n",
      " [0 0 1 0 0 0]] [0] [1.1920929e-07]\n"
     ]
    },
    {
     "data": {
      "image/png": "[encoded data removed]",
      "text/plain": [
       "<Figure size 432x288 with 1 Axes>"
      ]
     },
     "metadata": {},
     "output_type": "display_data"
    },
    {
     "name": "stdout",
     "output_type": "stream",
     "text": [
      "[[0 0 0 0 0 0]\n",
      " [0 0 1 0 0 0]\n",
      " [0 0 1 0 0 0]\n",
      " [0 0 1 0 0 0]] [0] [0.00020841]\n"
     ]
    },
    {
     "data": {
      "image/png": "[encoded data removed]",
      "text/plain": [
       "<Figure size 432x288 with 1 Axes>"
      ]
     },
     "metadata": {},
     "output_type": "display_data"
    },
    {
     "name": "stdout",
     "output_type": "stream",
     "text": [
      "[[0 0 1 0 0 0]\n",
      " [0 0 1 0 0 0]\n",
      " [0 0 1 0 0 0]\n",
      " [0 0 1 0 0 0]] [1] [0.49237087]\n"
     ]
    },
    {
     "data": {
      "image/png": "[encoded data removed]",
      "text/plain": [
       "<Figure size 432x288 with 1 Axes>"
      ]
     },
     "metadata": {},
     "output_type": "display_data"
    },
    {
     "name": "stdout",
     "output_type": "stream",
     "text": [
      "[[0 0 1 0 0 0]\n",
      " [0 0 1 0 0 0]\n",
      " [0 0 1 0 0 0]\n",
      " [1 0 1 0 0 1]] [1] [0.9986828]\n"
     ]
    },
    {
     "data": {
      "image/png": "[encoded data removed]",
      "text/plain": [
       "<Figure size 432x288 with 1 Axes>"
      ]
     },
     "metadata": {},
     "output_type": "display_data"
    },
    {
     "name": "stdout",
     "output_type": "stream",
     "text": [
      "[[0 0 1 0 0 0]\n",
      " [0 0 1 0 0 0]\n",
      " [1 0 1 0 0 1]\n",
      " [0 0 1 0 0 0]] [1] [0.9997726]\n"
     ]
    },
    {
     "data": {
      "image/png": "[encoded data removed]",
      "text/plain": [
       "<Figure size 432x288 with 1 Axes>"
      ]
     },
     "metadata": {},
     "output_type": "display_data"
    }
   ],
   "source": [
    "for i, j, pred in zip(Xs, Ys, predictions):\n",
    "    \n",
    "    print(i, j, pred)\n",
    "    plt.imshow(i.T)\n",
    "    plt.show()"
   ]
  },
  {
   "cell_type": "code",
   "execution_count": null,
   "metadata": {},
   "outputs": [],
   "source": []
  }
 ],
 "metadata": {
  "kernelspec": {
   "display_name": "Python 3",
   "language": "python",
   "name": "python3"
  },
  "language_info": {
   "codemirror_mode": {
    "name": "ipython",
    "version": 3
   },
   "file_extension": ".py",
   "mimetype": "text/x-python",
   "name": "python",
   "nbconvert_exporter": "python",
   "pygments_lexer": "ipython3",
   "version": "3.6.5"
  }
 },
 "nbformat": 4,
 "nbformat_minor": 2
}
