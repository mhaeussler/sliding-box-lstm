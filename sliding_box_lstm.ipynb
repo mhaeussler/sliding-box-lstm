{
 "cells": [
  {
   "cell_type": "markdown",
   "metadata": {},
   "source": [
    "# Sliding Box LSTMs for churn prediction"
   ]
  },
  {
   "cell_type": "markdown",
   "metadata": {},
   "source": [
    "This notebook explores the concepts of event forecasting events or churn. This is accomplished by training a reccurent LSTM network which uses slices of time series as features and the occurence of events within these windows as labels. These sliding slices are called sliding boxes.\n",
    "\n",
    "The notebook is structured as follows:\n",
    "- exploring the problem\n",
    "- generating artificial data\n",
    "- defining the basic model\n",
    "- training the sliding-box-LSTM"
   ]
  },
  {
   "cell_type": "code",
   "execution_count": 1,
   "metadata": {},
   "outputs": [],
   "source": [
    "import numpy as np\n",
    "import matplotlib.pyplot as plt\n",
    "import matplotlib\n",
    "import imageio\n",
    "from tensorflow.keras.layers import Dense, LSTM\n",
    "from tensorflow.keras.models import Sequential"
   ]
  },
  {
   "cell_type": "markdown",
   "metadata": {},
   "source": [
    "# Introduction"
   ]
  },
  {
   "cell_type": "markdown",
   "metadata": {},
   "source": [
    "At first, let's setup some data that helps to understand the problem. Lets assume that we have a timeseries consisting of 20 timesteps and 4 binary features. This might look like this:"
   ]
  },
  {
   "cell_type": "code",
   "execution_count": 2,
   "metadata": {},
   "outputs": [
    {
     "name": "stdout",
     "output_type": "stream",
     "text": [
      "[[0 1 0 0 0 0 0 1 1 1 0 1 0 1 1 1 0 1 1 0]\n",
      " [1 0 1 0 0 1 0 0 0 0 1 1 0 0 0 1 1 1 0 0]\n",
      " [0 1 1 0 1 0 0 0 0 0 0 1 1 1 0 0 1 0 1 1]\n",
      " [0 1 0 0 1 0 1 0 1 1 0 0 0 0 0 0 0 1 1 0]]\n"
     ]
    },
    {
     "data": {
      "text/plain": [
       "<matplotlib.image.AxesImage at 0x2721ebc8630>"
      ]
     },
     "execution_count": 2,
     "metadata": {},
     "output_type": "execute_result"
    },
    {
     "data": {
      "image/png": "[encoded data removed]",
      "text/plain": [
       "<Figure size 432x288 with 1 Axes>"
      ]
     },
     "metadata": {},
     "output_type": "display_data"
    }
   ],
   "source": [
    "X = np.random.randint(0, 2, size=80).reshape(4,20)\n",
    "print(X)\n",
    "plt.imshow(X, cmap=\"binary\")"
   ]
  },
  {
   "cell_type": "markdown",
   "metadata": {},
   "source": [
    "Out feature vector $y$ is a binary vector that indicates at which timesteps, there is an event of out interest happening. We do not want the event to occur that often so we reduce it's probability like this:"
   ]
  },
  {
   "cell_type": "code",
   "execution_count": 3,
   "metadata": {},
   "outputs": [
    {
     "name": "stdout",
     "output_type": "stream",
     "text": [
      "[[0 0 0 0 0 0 0 0 0 0 0 0 0 0 0 0 0 1 0 0]]\n"
     ]
    },
    {
     "data": {
      "text/plain": [
       "<matplotlib.image.AxesImage at 0x2721ec52748>"
      ]
     },
     "execution_count": 3,
     "metadata": {},
     "output_type": "execute_result"
    },
    {
     "data": {
      "image/png": "[encoded data removed]",
      "text/plain": [
       "<Figure size 432x288 with 1 Axes>"
      ]
     },
     "metadata": {},
     "output_type": "display_data"
    }
   ],
   "source": [
    "y = np.random.binomial(1, 0.1, size=X.shape[1]).reshape(1,-1)\n",
    "print(y)\n",
    "plt.imshow(y, cmap=\"binary\")"
   ]
  },
  {
   "cell_type": "markdown",
   "metadata": {},
   "source": [
    "## Goal\n",
    "What we want is to predict the occurence of events (indicated by $y_i=1$) before they happen. The concept is shown below:"
   ]
  },
  {
   "cell_type": "code",
   "execution_count": 4,
   "metadata": {},
   "outputs": [],
   "source": [
    "from matplotlib import patches as patches"
   ]
  },
  {
   "cell_type": "code",
   "execution_count": 5,
   "metadata": {},
   "outputs": [],
   "source": [
    "def show_sliding(X, y, tau):\n",
    "    \n",
    "    for i in range(X.shape[1]):\n",
    "        \n",
    "        print(\"#\"*30)\n",
    "\n",
    "        X_window = X.T[i:i+tau].T\n",
    "        y_window = y.T[i:i+tau].T\n",
    "        indicator = 1 if np.sum(y_window) > 0 else 0\n",
    "        print(\"X\", X_window, \"y\", y_window, \"I\", indicator)\n",
    "\n",
    "        boxcolor = \"r\" if indicator else \"b\"\n",
    "\n",
    "        fig, axes = plt.subplots(2, sharex=True)\n",
    "        axes[0].imshow(X, cmap=\"Greys\")\n",
    "        window = patches.Rectangle((-.55 + i, -.55), tau, X.shape[0], alpha=0.4, color=boxcolor)\n",
    "        axes[0].add_patch(window)\n",
    "\n",
    "        axes[1].imshow(y, cmap=\"binary\")\n",
    "        window = patches.Rectangle((-.55 + i, -.55), tau, X.shape[0], alpha=0.4, color=boxcolor)\n",
    "        axes[1].add_patch(window)\n",
    "\n",
    "        plt.show()"
   ]
  },
  {
   "cell_type": "code",
   "execution_count": 6,
   "metadata": {},
   "outputs": [
    {
     "name": "stdout",
     "output_type": "stream",
     "text": [
      "##############################\n",
      "X [[0 1 0]\n",
      " [1 0 1]\n",
      " [0 1 1]\n",
      " [0 1 0]] y [[0 0 0]] I 0\n"
     ]
    },
    {
     "data": {
      "image/png": "[encoded data removed]",
      "text/plain": [
       "<Figure size 432x288 with 2 Axes>"
      ]
     },
     "metadata": {},
     "output_type": "display_data"
    },
    {
     "name": "stdout",
     "output_type": "stream",
     "text": [
      "##############################\n",
      "X [[1 0 0]\n",
      " [0 1 0]\n",
      " [1 1 0]\n",
      " [1 0 0]] y [[0 0 0]] I 0\n"
     ]
    },
    {
     "data": {
      "image/png": "[encoded data removed]",
      "text/plain": [
       "<Figure size 432x288 with 2 Axes>"
      ]
     },
     "metadata": {},
     "output_type": "display_data"
    },
    {
     "name": "stdout",
     "output_type": "stream",
     "text": [
      "##############################\n",
      "X [[0 0 0]\n",
      " [1 0 0]\n",
      " [1 0 1]\n",
      " [0 0 1]] y [[0 0 0]] I 0\n"
     ]
    },
    {
     "data": {
      "image/png": "[encoded data removed]",
      "text/plain": [
       "<Figure size 432x288 with 2 Axes>"
      ]
     },
     "metadata": {},
     "output_type": "display_data"
    },
    {
     "name": "stdout",
     "output_type": "stream",
     "text": [
      "##############################\n",
      "X [[0 0 0]\n",
      " [0 0 1]\n",
      " [0 1 0]\n",
      " [0 1 0]] y [[0 0 0]] I 0\n"
     ]
    },
    {
     "data": {
      "image/png": "[encoded data removed]",
      "text/plain": [
       "<Figure size 432x288 with 2 Axes>"
      ]
     },
     "metadata": {},
     "output_type": "display_data"
    },
    {
     "name": "stdout",
     "output_type": "stream",
     "text": [
      "##############################\n",
      "X [[0 0 0]\n",
      " [0 1 0]\n",
      " [1 0 0]\n",
      " [1 0 1]] y [[0 0 0]] I 0\n"
     ]
    },
    {
     "data": {
      "image/png": "[encoded data removed]",
      "text/plain": [
       "<Figure size 432x288 with 2 Axes>"
      ]
     },
     "metadata": {},
     "output_type": "display_data"
    },
    {
     "name": "stdout",
     "output_type": "stream",
     "text": [
      "##############################\n",
      "X [[0 0 1]\n",
      " [1 0 0]\n",
      " [0 0 0]\n",
      " [0 1 0]] y [[0 0 0]] I 0\n"
     ]
    },
    {
     "data": {
      "image/png": "[encoded data removed]",
      "text/plain": [
       "<Figure size 432x288 with 2 Axes>"
      ]
     },
     "metadata": {},
     "output_type": "display_data"
    },
    {
     "name": "stdout",
     "output_type": "stream",
     "text": [
      "##############################\n",
      "X [[0 1 1]\n",
      " [0 0 0]\n",
      " [0 0 0]\n",
      " [1 0 1]] y [[0 0 0]] I 0\n"
     ]
    },
    {
     "data": {
      "image/png": "[encoded data removed]",
      "text/plain": [
       "<Figure size 432x288 with 2 Axes>"
      ]
     },
     "metadata": {},
     "output_type": "display_data"
    },
    {
     "name": "stdout",
     "output_type": "stream",
     "text": [
      "##############################\n",
      "X [[1 1 1]\n",
      " [0 0 0]\n",
      " [0 0 0]\n",
      " [0 1 1]] y [[0 0 0]] I 0\n"
     ]
    },
    {
     "data": {
      "image/png": "[encoded data removed]",
      "text/plain": [
       "<Figure size 432x288 with 2 Axes>"
      ]
     },
     "metadata": {},
     "output_type": "display_data"
    },
    {
     "name": "stdout",
     "output_type": "stream",
     "text": [
      "##############################\n",
      "X [[1 1 0]\n",
      " [0 0 1]\n",
      " [0 0 0]\n",
      " [1 1 0]] y [[0 0 0]] I 0\n"
     ]
    },
    {
     "data": {
      "image/png": "[encoded data removed]",
      "text/plain": [
       "<Figure size 432x288 with 2 Axes>"
      ]
     },
     "metadata": {},
     "output_type": "display_data"
    },
    {
     "name": "stdout",
     "output_type": "stream",
     "text": [
      "##############################\n",
      "X [[1 0 1]\n",
      " [0 1 1]\n",
      " [0 0 1]\n",
      " [1 0 0]] y [[0 0 0]] I 0\n"
     ]
    },
    {
     "data": {
      "image/png": "[encoded data removed]",
      "text/plain": [
       "<Figure size 432x288 with 2 Axes>"
      ]
     },
     "metadata": {},
     "output_type": "display_data"
    },
    {
     "name": "stdout",
     "output_type": "stream",
     "text": [
      "##############################\n",
      "X [[0 1 0]\n",
      " [1 1 0]\n",
      " [0 1 1]\n",
      " [0 0 0]] y [[0 0 0]] I 0\n"
     ]
    },
    {
     "data": {
      "image/png": "[encoded data removed]",
      "text/plain": [
       "<Figure size 432x288 with 2 Axes>"
      ]
     },
     "metadata": {},
     "output_type": "display_data"
    },
    {
     "name": "stdout",
     "output_type": "stream",
     "text": [
      "##############################\n",
      "X [[1 0 1]\n",
      " [1 0 0]\n",
      " [1 1 1]\n",
      " [0 0 0]] y [[0 0 0]] I 0\n"
     ]
    },
    {
     "data": {
      "image/png": "[encoded data removed]",
      "text/plain": [
       "<Figure size 432x288 with 2 Axes>"
      ]
     },
     "metadata": {},
     "output_type": "display_data"
    },
    {
     "name": "stdout",
     "output_type": "stream",
     "text": [
      "##############################\n",
      "X [[0 1 1]\n",
      " [0 0 0]\n",
      " [1 1 0]\n",
      " [0 0 0]] y [[0 0 0]] I 0\n"
     ]
    },
    {
     "data": {
      "image/png": "[encoded data removed]",
      "text/plain": [
       "<Figure size 432x288 with 2 Axes>"
      ]
     },
     "metadata": {},
     "output_type": "display_data"
    },
    {
     "name": "stdout",
     "output_type": "stream",
     "text": [
      "##############################\n",
      "X [[1 1 1]\n",
      " [0 0 1]\n",
      " [1 0 0]\n",
      " [0 0 0]] y [[0 0 0]] I 0\n"
     ]
    },
    {
     "data": {
      "image/png": "[encoded data removed]",
      "text/plain": [
       "<Figure size 432x288 with 2 Axes>"
      ]
     },
     "metadata": {},
     "output_type": "display_data"
    },
    {
     "name": "stdout",
     "output_type": "stream",
     "text": [
      "##############################\n",
      "X [[1 1 0]\n",
      " [0 1 1]\n",
      " [0 0 1]\n",
      " [0 0 0]] y [[0 0 0]] I 0\n"
     ]
    },
    {
     "data": {
      "image/png": "[encoded data removed]",
      "text/plain": [
       "<Figure size 432x288 with 2 Axes>"
      ]
     },
     "metadata": {},
     "output_type": "display_data"
    },
    {
     "name": "stdout",
     "output_type": "stream",
     "text": [
      "##############################\n",
      "X [[1 0 1]\n",
      " [1 1 1]\n",
      " [0 1 0]\n",
      " [0 0 1]] y [[0 0 1]] I 1\n"
     ]
    },
    {
     "data": {
      "image/png": "[encoded data removed]",
      "text/plain": [
       "<Figure size 432x288 with 2 Axes>"
      ]
     },
     "metadata": {},
     "output_type": "display_data"
    },
    {
     "name": "stdout",
     "output_type": "stream",
     "text": [
      "##############################\n",
      "X [[0 1 1]\n",
      " [1 1 0]\n",
      " [1 0 1]\n",
      " [0 1 1]] y [[0 1 0]] I 1\n"
     ]
    },
    {
     "data": {
      "image/png": "[encoded data removed]",
      "text/plain": [
       "<Figure size 432x288 with 2 Axes>"
      ]
     },
     "metadata": {},
     "output_type": "display_data"
    },
    {
     "name": "stdout",
     "output_type": "stream",
     "text": [
      "##############################\n",
      "X [[1 1 0]\n",
      " [1 0 0]\n",
      " [0 1 1]\n",
      " [1 1 0]] y [[1 0 0]] I 1\n"
     ]
    },
    {
     "data": {
      "image/png": "[encoded data removed]",
      "text/plain": [
       "<Figure size 432x288 with 2 Axes>"
      ]
     },
     "metadata": {},
     "output_type": "display_data"
    },
    {
     "name": "stdout",
     "output_type": "stream",
     "text": [
      "##############################\n",
      "X [[1 0]\n",
      " [0 0]\n",
      " [1 1]\n",
      " [1 0]] y [[0 0]] I 0\n"
     ]
    },
    {
     "data": {
      "image/png": "[encoded data removed]",
      "text/plain": [
       "<Figure size 432x288 with 2 Axes>"
      ]
     },
     "metadata": {},
     "output_type": "display_data"
    },
    {
     "name": "stdout",
     "output_type": "stream",
     "text": [
      "##############################\n",
      "X [[0]\n",
      " [0]\n",
      " [1]\n",
      " [0]] y [[0]] I 0\n"
     ]
    },
    {
     "data": {
      "image/png": "[encoded data removed]",
      "text/plain": [
       "<Figure size 432x288 with 2 Axes>"
      ]
     },
     "metadata": {},
     "output_type": "display_data"
    }
   ],
   "source": [
    "tau = 3     # window size\n",
    "show_sliding(X, y, tau)"
   ]
  },
  {
   "cell_type": "markdown",
   "metadata": {},
   "source": [
    "So our training examples at timestep $t$ comprise the slice of features from $X$ with $\\tau$ timesteps ahead resulting in the slice $X_{t:t+\\tau}$. The corresponding label $y^{(i)}$ for each timewindow $X_{t:t+\\tau}^{(i)}$ is indicated by the occurence of an event of interest during the current time window (box becomes red)."
   ]
  },
  {
   "cell_type": "markdown",
   "metadata": {},
   "source": [
    "When using this concept of binary classification, we can state so far that:\n",
    "- We are able to train on sequences with arbitrary lengths\n",
    "- Our time window is fixed parameter which must be chose carefully"
   ]
  },
  {
   "cell_type": "code",
   "execution_count": 7,
   "metadata": {},
   "outputs": [],
   "source": [
    "# TODO: discuss choosing tau"
   ]
  },
  {
   "cell_type": "markdown",
   "metadata": {},
   "source": [
    "Let's look at a model that can be used for predicting y."
   ]
  },
  {
   "cell_type": "markdown",
   "metadata": {},
   "source": [
    "# Sliding Box Model"
   ]
  },
  {
   "cell_type": "code",
   "execution_count": 8,
   "metadata": {},
   "outputs": [],
   "source": [
    "# todo: describe"
   ]
  },
  {
   "cell_type": "markdown",
   "metadata": {},
   "source": [
    "$$ B_t \\sim Bernoulli(\\theta_T) $$\n",
    "\n",
    "$$ \n",
    "    b_t=\n",
    "    \\left\\{\n",
    "    \\begin{array}{lr}\n",
    "    1,& \\text{If event happened in } [t, t + \\tau)\\\\\n",
    "    0,& Else\n",
    "    \\end{array}\n",
    "    \\right\\}\n",
    "    $$\n",
    "\n",
    "$$ Pr(B_t=b_t)=\\theta_t^{b_t} \\cdot (1-\\theta_t)^{1-b_t} $$"
   ]
  },
  {
   "cell_type": "markdown",
   "metadata": {},
   "source": [
    "$\\theta_t$ is a function of data available at time $\\theta_t = g(x_{0:t})$. So we estimate the probability of an event happening in our sliding box model of width $\\tau$."
   ]
  },
  {
   "cell_type": "markdown",
   "metadata": {},
   "source": [
    "$$\\underset{\\theta_t}{\\text{maximize}}  \\mathfrak{L}(\\theta_t) := \\theta_t^{b_t} \\cdot (1-\\theta_t)^{1-b_t}$$"
   ]
  },
  {
   "cell_type": "markdown",
   "metadata": {},
   "source": [
    "## Build toy data"
   ]
  },
  {
   "cell_type": "markdown",
   "metadata": {},
   "source": [
    "Let's build a synthetic dataset where we can run tests agains. "
   ]
  },
  {
   "cell_type": "code",
   "execution_count": 9,
   "metadata": {},
   "outputs": [],
   "source": [
    "# Makes binary features more likely towards the end of the series\n",
    "def linear_increase_binomial_prob(x, scale=1):\n",
    "    return np.random.binomial(1, x/(len(x)*scale), len(x))"
   ]
  },
  {
   "cell_type": "code",
   "execution_count": 10,
   "metadata": {},
   "outputs": [
    {
     "data": {
      "text/plain": [
       "<matplotlib.image.AxesImage at 0x2721ee36b00>"
      ]
     },
     "execution_count": 10,
     "metadata": {},
     "output_type": "execute_result"
    },
    {
     "data": {
      "image/png": "[encoded data removed]",
      "text/plain": [
       "<Figure size 432x288 with 1 Axes>"
      ]
     },
     "metadata": {},
     "output_type": "display_data"
    }
   ],
   "source": [
    "plt.imshow(linear_increase_binomial_prob(np.arange(100), scale=1.5).reshape(1,-1))"
   ]
  },
  {
   "cell_type": "code",
   "execution_count": 11,
   "metadata": {},
   "outputs": [],
   "source": [
    "# Generate an artificial target vector\n",
    "def make_y(m, p=0.08):\n",
    "    return np.random.binomial(1,p,m).reshape(1,-1)"
   ]
  },
  {
   "cell_type": "code",
   "execution_count": 12,
   "metadata": {},
   "outputs": [],
   "source": [
    "# Generate artificial feature vector of time series\n",
    "def make_X(m, scales):\n",
    "    x = np.arange(m)\n",
    "    X = []\n",
    "    for scale in scales:\n",
    "        X.append(linear_increase_binomial_prob(x, scale))\n",
    "        \n",
    "    return np.array(X)"
   ]
  },
  {
   "cell_type": "code",
   "execution_count": 13,
   "metadata": {},
   "outputs": [],
   "source": [
    "# Make the data"
   ]
  },
  {
   "cell_type": "code",
   "execution_count": 14,
   "metadata": {},
   "outputs": [
    {
     "name": "stdout",
     "output_type": "stream",
     "text": [
      "(6, 20)\n",
      "(1, 20)\n"
     ]
    }
   ],
   "source": [
    "m = 20\n",
    "scales = [10,15,1,20, 10, 5]        # vary feature distribution\n",
    "    \n",
    "X = make_X(m, scales)\n",
    "y = make_y(m, p=0.08)\n",
    "\n",
    "print(X.shape)\n",
    "print(y.shape)"
   ]
  },
  {
   "cell_type": "code",
   "execution_count": 15,
   "metadata": {},
   "outputs": [],
   "source": [
    "from src import helper"
   ]
  },
  {
   "cell_type": "code",
   "execution_count": 16,
   "metadata": {},
   "outputs": [],
   "source": [
    "filename = \"sliding_box\"\n",
    "\n",
    "helper.dump_animation(X, y, 3, filename, fps=2)"
   ]
  },
  {
   "cell_type": "markdown",
   "metadata": {},
   "source": [
    "<img src=\"sliding_box.gif\"/>"
   ]
  },
  {
   "cell_type": "code",
   "execution_count": 17,
   "metadata": {},
   "outputs": [],
   "source": [
    "# Disassembles series and it's targets to separate window slices\n",
    "def convert_series_to_Xy(X, y, window):\n",
    "    \n",
    "    Xs = []\n",
    "    Ys = []\n",
    "    n = X.shape[0]\n",
    "    \n",
    "    for i in range(len(X.T)-window+1):\n",
    "\n",
    "        X_window = X.T[i:i+window].T\n",
    "        y_window = y.T[i:i+window].T\n",
    "\n",
    "        indicator = 1 if np.sum(y_window) > 0 else 0\n",
    "        \n",
    "        Xs.append(X_window.T)\n",
    "        Ys.append(indicator)\n",
    "        \n",
    "    return np.array(Xs), np.array(Ys).reshape(1,-1).T\n"
   ]
  },
  {
   "cell_type": "code",
   "execution_count": 18,
   "metadata": {},
   "outputs": [],
   "source": [
    "# input shapes are\n",
    "# Samples (one sequence)\n",
    "# Time Steps (one point of observation)\n",
    "# Features\n",
    "# --> data.shape(samples, timesteps, numfeatures) "
   ]
  },
  {
   "cell_type": "code",
   "execution_count": 19,
   "metadata": {},
   "outputs": [
    {
     "name": "stdout",
     "output_type": "stream",
     "text": [
      "##############################\n",
      "X [[0 0 0 0]\n",
      " [0 0 0 0]\n",
      " [0 0 0 0]\n",
      " [0 0 0 0]\n",
      " [0 0 0 0]\n",
      " [0 0 0 0]] y [[0 0 0 1]] I 1\n"
     ]
    },
    {
     "data": {
      "image/png": "[encoded data removed]",
      "text/plain": [
       "<Figure size 432x288 with 2 Axes>"
      ]
     },
     "metadata": {},
     "output_type": "display_data"
    },
    {
     "name": "stdout",
     "output_type": "stream",
     "text": [
      "##############################\n",
      "X [[0 0 0 0]\n",
      " [0 0 0 0]\n",
      " [0 0 0 0]\n",
      " [0 0 0 0]\n",
      " [0 0 0 0]\n",
      " [0 0 0 0]] y [[0 0 1 0]] I 1\n"
     ]
    },
    {
     "data": {
      "image/png": "[encoded data removed]",
      "text/plain": [
       "<Figure size 432x288 with 2 Axes>"
      ]
     },
     "metadata": {},
     "output_type": "display_data"
    },
    {
     "name": "stdout",
     "output_type": "stream",
     "text": [
      "##############################\n",
      "X [[0 0 0 0]\n",
      " [0 0 0 0]\n",
      " [0 0 0 0]\n",
      " [0 0 0 0]\n",
      " [0 0 0 0]\n",
      " [0 0 0 0]] y [[0 1 0 1]] I 1\n"
     ]
    },
    {
     "data": {
      "image/png": "[encoded data removed]",
      "text/plain": [
       "<Figure size 432x288 with 2 Axes>"
      ]
     },
     "metadata": {},
     "output_type": "display_data"
    },
    {
     "name": "stdout",
     "output_type": "stream",
     "text": [
      "##############################\n",
      "X [[0 0 0 0]\n",
      " [0 0 0 0]\n",
      " [0 0 0 0]\n",
      " [0 0 0 0]\n",
      " [0 0 0 0]\n",
      " [0 0 0 0]] y [[1 0 1 0]] I 1\n"
     ]
    },
    {
     "data": {
      "image/png": "[encoded data removed]",
      "text/plain": [
       "<Figure size 432x288 with 2 Axes>"
      ]
     },
     "metadata": {},
     "output_type": "display_data"
    },
    {
     "name": "stdout",
     "output_type": "stream",
     "text": [
      "##############################\n",
      "X [[0 0 0 0]\n",
      " [0 0 0 0]\n",
      " [0 0 0 0]\n",
      " [0 0 0 0]\n",
      " [0 0 0 0]\n",
      " [0 0 0 0]] y [[0 1 0 0]] I 1\n"
     ]
    },
    {
     "data": {
      "image/png": "[encoded data removed]",
      "text/plain": [
       "<Figure size 432x288 with 2 Axes>"
      ]
     },
     "metadata": {},
     "output_type": "display_data"
    },
    {
     "name": "stdout",
     "output_type": "stream",
     "text": [
      "##############################\n",
      "X [[0 0 0 0]\n",
      " [0 0 0 0]\n",
      " [0 0 0 0]\n",
      " [0 0 0 0]\n",
      " [0 0 0 0]\n",
      " [0 0 0 0]] y [[1 0 0 0]] I 1\n"
     ]
    },
    {
     "data": {
      "image/png": "[encoded data removed]",
      "text/plain": [
       "<Figure size 432x288 with 2 Axes>"
      ]
     },
     "metadata": {},
     "output_type": "display_data"
    },
    {
     "name": "stdout",
     "output_type": "stream",
     "text": [
      "##############################\n",
      "X [[0 0 0 1]\n",
      " [0 0 0 0]\n",
      " [0 0 0 1]\n",
      " [0 0 0 0]\n",
      " [0 0 0 0]\n",
      " [0 0 0 0]] y [[0 0 0 0]] I 0\n"
     ]
    },
    {
     "data": {
      "image/png": "[encoded data removed]",
      "text/plain": [
       "<Figure size 432x288 with 2 Axes>"
      ]
     },
     "metadata": {},
     "output_type": "display_data"
    },
    {
     "name": "stdout",
     "output_type": "stream",
     "text": [
      "##############################\n",
      "X [[0 0 1 1]\n",
      " [0 0 0 0]\n",
      " [0 0 1 1]\n",
      " [0 0 0 0]\n",
      " [0 0 0 0]\n",
      " [0 0 0 0]] y [[0 0 0 0]] I 0\n"
     ]
    },
    {
     "data": {
      "image/png": "[encoded data removed]",
      "text/plain": [
       "<Figure size 432x288 with 2 Axes>"
      ]
     },
     "metadata": {},
     "output_type": "display_data"
    },
    {
     "name": "stdout",
     "output_type": "stream",
     "text": [
      "##############################\n",
      "X [[0 1 1 0]\n",
      " [0 0 0 0]\n",
      " [0 1 1 1]\n",
      " [0 0 0 0]\n",
      " [0 0 0 0]\n",
      " [0 0 0 1]] y [[0 0 0 1]] I 1\n"
     ]
    },
    {
     "data": {
      "image/png": "[encoded data removed]",
      "text/plain": [
       "<Figure size 432x288 with 2 Axes>"
      ]
     },
     "metadata": {},
     "output_type": "display_data"
    },
    {
     "name": "stdout",
     "output_type": "stream",
     "text": [
      "##############################\n",
      "X [[1 1 0 1]\n",
      " [0 0 0 0]\n",
      " [1 1 1 1]\n",
      " [0 0 0 0]\n",
      " [0 0 0 0]\n",
      " [0 0 1 0]] y [[0 0 1 0]] I 1\n"
     ]
    },
    {
     "data": {
      "image/png": "[encoded data removed]",
      "text/plain": [
       "<Figure size 432x288 with 2 Axes>"
      ]
     },
     "metadata": {},
     "output_type": "display_data"
    },
    {
     "name": "stdout",
     "output_type": "stream",
     "text": [
      "##############################\n",
      "X [[1 0 1 0]\n",
      " [0 0 0 0]\n",
      " [1 1 1 1]\n",
      " [0 0 0 0]\n",
      " [0 0 0 0]\n",
      " [0 1 0 0]] y [[0 1 0 0]] I 1\n"
     ]
    },
    {
     "data": {
      "image/png": "[encoded data removed]",
      "text/plain": [
       "<Figure size 432x288 with 2 Axes>"
      ]
     },
     "metadata": {},
     "output_type": "display_data"
    },
    {
     "name": "stdout",
     "output_type": "stream",
     "text": [
      "##############################\n",
      "X [[0 1 0 0]\n",
      " [0 0 0 0]\n",
      " [1 1 1 0]\n",
      " [0 0 0 0]\n",
      " [0 0 0 0]\n",
      " [1 0 0 1]] y [[1 0 0 0]] I 1\n"
     ]
    },
    {
     "data": {
      "image/png": "[encoded data removed]",
      "text/plain": [
       "<Figure size 432x288 with 2 Axes>"
      ]
     },
     "metadata": {},
     "output_type": "display_data"
    },
    {
     "name": "stdout",
     "output_type": "stream",
     "text": [
      "##############################\n",
      "X [[1 0 0 0]\n",
      " [0 0 0 0]\n",
      " [1 1 0 1]\n",
      " [0 0 0 0]\n",
      " [0 0 0 0]\n",
      " [0 0 1 0]] y [[0 0 0 0]] I 0\n"
     ]
    },
    {
     "data": {
      "image/png": "[encoded data removed]",
      "text/plain": [
       "<Figure size 432x288 with 2 Axes>"
      ]
     },
     "metadata": {},
     "output_type": "display_data"
    },
    {
     "name": "stdout",
     "output_type": "stream",
     "text": [
      "##############################\n",
      "X [[0 0 0 0]\n",
      " [0 0 0 0]\n",
      " [1 0 1 0]\n",
      " [0 0 0 0]\n",
      " [0 0 0 0]\n",
      " [0 1 0 0]] y [[0 0 0 0]] I 0\n"
     ]
    },
    {
     "data": {
      "image/png": "[encoded data removed]",
      "text/plain": [
       "<Figure size 432x288 with 2 Axes>"
      ]
     },
     "metadata": {},
     "output_type": "display_data"
    },
    {
     "name": "stdout",
     "output_type": "stream",
     "text": [
      "##############################\n",
      "X [[0 0 0 0]\n",
      " [0 0 0 0]\n",
      " [0 1 0 1]\n",
      " [0 0 0 0]\n",
      " [0 0 0 0]\n",
      " [1 0 0 1]] y [[0 0 0 0]] I 0\n"
     ]
    },
    {
     "data": {
      "image/png": "[encoded data removed]",
      "text/plain": [
       "<Figure size 432x288 with 2 Axes>"
      ]
     },
     "metadata": {},
     "output_type": "display_data"
    },
    {
     "name": "stdout",
     "output_type": "stream",
     "text": [
      "##############################\n",
      "X [[0 0 0 0]\n",
      " [0 0 0 0]\n",
      " [1 0 1 1]\n",
      " [0 0 0 0]\n",
      " [0 0 0 1]\n",
      " [0 0 1 0]] y [[0 0 0 0]] I 0\n"
     ]
    },
    {
     "data": {
      "image/png": "[encoded data removed]",
      "text/plain": [
       "<Figure size 432x288 with 2 Axes>"
      ]
     },
     "metadata": {},
     "output_type": "display_data"
    },
    {
     "name": "stdout",
     "output_type": "stream",
     "text": [
      "##############################\n",
      "X [[0 0 0 0]\n",
      " [0 0 0 0]\n",
      " [0 1 1 1]\n",
      " [0 0 0 0]\n",
      " [0 0 1 0]\n",
      " [0 1 0 0]] y [[0 0 0 0]] I 0\n"
     ]
    },
    {
     "data": {
      "image/png": "[encoded data removed]",
      "text/plain": [
       "<Figure size 432x288 with 2 Axes>"
      ]
     },
     "metadata": {},
     "output_type": "display_data"
    },
    {
     "name": "stdout",
     "output_type": "stream",
     "text": [
      "##############################\n",
      "X [[0 0 0]\n",
      " [0 0 0]\n",
      " [1 1 1]\n",
      " [0 0 0]\n",
      " [0 1 0]\n",
      " [1 0 0]] y [[0 0 0]] I 0\n"
     ]
    },
    {
     "data": {
      "image/png": "[encoded data removed]",
      "text/plain": [
       "<Figure size 432x288 with 2 Axes>"
      ]
     },
     "metadata": {},
     "output_type": "display_data"
    },
    {
     "name": "stdout",
     "output_type": "stream",
     "text": [
      "##############################\n",
      "X [[0 0]\n",
      " [0 0]\n",
      " [1 1]\n",
      " [0 0]\n",
      " [1 0]\n",
      " [0 0]] y [[0 0]] I 0\n"
     ]
    },
    {
     "data": {
      "image/png": "[encoded data removed]",
      "text/plain": [
       "<Figure size 432x288 with 2 Axes>"
      ]
     },
     "metadata": {},
     "output_type": "display_data"
    },
    {
     "name": "stdout",
     "output_type": "stream",
     "text": [
      "##############################\n",
      "X [[0]\n",
      " [0]\n",
      " [1]\n",
      " [0]\n",
      " [0]\n",
      " [0]] y [[0]] I 0\n"
     ]
    },
    {
     "data": {
      "image/png": "[encoded data removed]",
      "text/plain": [
       "<Figure size 432x288 with 2 Axes>"
      ]
     },
     "metadata": {},
     "output_type": "display_data"
    }
   ],
   "source": [
    "show_sliding(X, y, 4)"
   ]
  },
  {
   "cell_type": "code",
   "execution_count": 20,
   "metadata": {},
   "outputs": [
    {
     "name": "stdout",
     "output_type": "stream",
     "text": [
      "(6, 20)\n",
      "(1, 20)\n"
     ]
    }
   ],
   "source": [
    "print(X.shape)\n",
    "print(y.shape)"
   ]
  },
  {
   "cell_type": "code",
   "execution_count": 21,
   "metadata": {},
   "outputs": [
    {
     "name": "stdout",
     "output_type": "stream",
     "text": [
      "(17, 4, 6)\n",
      "(17, 1)\n"
     ]
    }
   ],
   "source": [
    "tau = 4\n",
    "n   = X.shape[0]\n",
    "\n",
    "Xs, Ys = convert_series_to_Xy(X, y, tau)\n",
    "print(Xs.shape)\n",
    "print(Ys.shape)"
   ]
  },
  {
   "cell_type": "code",
   "execution_count": 22,
   "metadata": {},
   "outputs": [],
   "source": [
    "def make_model(tau, n):\n",
    "    \n",
    "    model = Sequential()\n",
    "    model.add(LSTM(32, input_shape=(tau, n)))\n",
    "    model.add(Dense(1, activation=\"sigmoid\"))\n",
    "    \n",
    "    model.compile(optimizer=\"adam\", loss=\"binary_crossentropy\", metrics=[\"accuracy\"])    # Bernoulli Log-Likelihood\n",
    "    \n",
    "    return model"
   ]
  },
  {
   "cell_type": "code",
   "execution_count": 23,
   "metadata": {},
   "outputs": [],
   "source": [
    "model = make_model(tau, n)"
   ]
  },
  {
   "cell_type": "code",
   "execution_count": 24,
   "metadata": {},
   "outputs": [
    {
     "name": "stdout",
     "output_type": "stream",
     "text": [
      "Epoch 1/20\n",
      "17/17 [==============================] - 1s 31ms/sample - loss: 0.7005 - accuracy: 0.2353\n",
      "Epoch 2/20\n",
      "17/17 [==============================] - 0s 265us/sample - loss: 0.6992 - accuracy: 0.5882\n",
      "Epoch 3/20\n",
      "17/17 [==============================] - 0s 265us/sample - loss: 0.6980 - accuracy: 0.5882\n",
      "Epoch 4/20\n",
      "17/17 [==============================] - 0s 265us/sample - loss: 0.6968 - accuracy: 0.5882\n",
      "Epoch 5/20\n",
      "17/17 [==============================] - 0s 295us/sample - loss: 0.6955 - accuracy: 0.5882\n",
      "Epoch 6/20\n",
      "17/17 [==============================] - 0s 235us/sample - loss: 0.6943 - accuracy: 0.5882\n",
      "Epoch 7/20\n",
      "17/17 [==============================] - 0s 235us/sample - loss: 0.6931 - accuracy: 0.5882\n",
      "Epoch 8/20\n",
      "17/17 [==============================] - 0s 325us/sample - loss: 0.6919 - accuracy: 0.5882\n",
      "Epoch 9/20\n",
      "17/17 [==============================] - 0s 236us/sample - loss: 0.6907 - accuracy: 0.5882\n",
      "Epoch 10/20\n",
      "17/17 [==============================] - 0s 294us/sample - loss: 0.6895 - accuracy: 0.5882\n",
      "Epoch 11/20\n",
      "17/17 [==============================] - 0s 266us/sample - loss: 0.6882 - accuracy: 0.5882\n",
      "Epoch 12/20\n",
      "17/17 [==============================] - 0s 235us/sample - loss: 0.6870 - accuracy: 0.5882\n",
      "Epoch 13/20\n",
      "17/17 [==============================] - 0s 382us/sample - loss: 0.6858 - accuracy: 0.5882\n",
      "Epoch 14/20\n",
      "17/17 [==============================] - 0s 176us/sample - loss: 0.6846 - accuracy: 0.5882\n",
      "Epoch 15/20\n",
      "17/17 [==============================] - 0s 265us/sample - loss: 0.6834 - accuracy: 0.5882\n",
      "Epoch 16/20\n",
      "17/17 [==============================] - 0s 235us/sample - loss: 0.6822 - accuracy: 0.5882\n",
      "Epoch 17/20\n",
      "17/17 [==============================] - 0s 235us/sample - loss: 0.6809 - accuracy: 0.5882\n",
      "Epoch 18/20\n",
      "17/17 [==============================] - 0s 235us/sample - loss: 0.6797 - accuracy: 0.5882\n",
      "Epoch 19/20\n",
      "17/17 [==============================] - 0s 264us/sample - loss: 0.6784 - accuracy: 0.5882\n",
      "Epoch 20/20\n",
      "17/17 [==============================] - 0s 206us/sample - loss: 0.6772 - accuracy: 0.5882\n"
     ]
    }
   ],
   "source": [
    "result = model.fit(Xs, Ys, epochs=20, batch_size=32)"
   ]
  },
  {
   "cell_type": "code",
   "execution_count": 25,
   "metadata": {},
   "outputs": [],
   "source": [
    "predictions = model.predict(Xs)"
   ]
  },
  {
   "cell_type": "markdown",
   "metadata": {},
   "source": [
    "## Show Predictions"
   ]
  },
  {
   "cell_type": "code",
   "execution_count": 26,
   "metadata": {},
   "outputs": [
    {
     "name": "stdout",
     "output_type": "stream",
     "text": [
      "[[0 0 0 0 0 0]\n",
      " [0 0 0 0 0 0]\n",
      " [0 0 0 0 0 0]\n",
      " [0 0 0 0 0 0]] [1] [0.52800405]\n",
      "[[0 0 0 0 0 0]\n",
      " [0 0 0 0 0 0]\n",
      " [0 0 0 0 0 0]\n",
      " [0 0 0 0 0 0]] [1] [0.52800405]\n",
      "[[0 0 0 0 0 0]\n",
      " [0 0 0 0 0 0]\n",
      " [0 0 0 0 0 0]\n",
      " [0 0 0 0 0 0]] [1] [0.52800405]\n",
      "[[0 0 0 0 0 0]\n",
      " [0 0 0 0 0 0]\n",
      " [0 0 0 0 0 0]\n",
      " [0 0 0 0 0 0]] [1] [0.52800405]\n",
      "[[0 0 0 0 0 0]\n",
      " [0 0 0 0 0 0]\n",
      " [0 0 0 0 0 0]\n",
      " [0 0 0 0 0 0]] [1] [0.52800405]\n",
      "[[0 0 0 0 0 0]\n",
      " [0 0 0 0 0 0]\n",
      " [0 0 0 0 0 0]\n",
      " [0 0 0 0 0 0]] [1] [0.52800405]\n",
      "[[0 0 0 0 0 0]\n",
      " [0 0 0 0 0 0]\n",
      " [0 0 0 0 0 0]\n",
      " [1 0 1 0 0 0]] [0] [0.5334561]\n",
      "[[0 0 0 0 0 0]\n",
      " [0 0 0 0 0 0]\n",
      " [1 0 1 0 0 0]\n",
      " [1 0 1 0 0 0]] [0] [0.5406684]\n",
      "[[0 0 0 0 0 0]\n",
      " [1 0 1 0 0 0]\n",
      " [1 0 1 0 0 0]\n",
      " [0 0 1 0 0 1]] [1] [0.544345]\n",
      "[[1 0 1 0 0 0]\n",
      " [1 0 1 0 0 0]\n",
      " [0 0 1 0 0 1]\n",
      " [1 0 1 0 0 0]] [1] [0.53855133]\n",
      "[[1 0 1 0 0 0]\n",
      " [0 0 1 0 0 1]\n",
      " [1 0 1 0 0 0]\n",
      " [0 0 1 0 0 0]] [1] [0.53663534]\n",
      "[[0 0 1 0 0 1]\n",
      " [1 0 1 0 0 0]\n",
      " [0 0 1 0 0 0]\n",
      " [0 0 0 0 0 1]] [1] [0.51795393]\n",
      "[[1 0 1 0 0 0]\n",
      " [0 0 1 0 0 0]\n",
      " [0 0 0 0 0 1]\n",
      " [0 0 1 0 0 0]] [0] [0.5281153]\n",
      "[[0 0 1 0 0 0]\n",
      " [0 0 0 0 0 1]\n",
      " [0 0 1 0 0 0]\n",
      " [0 0 0 0 0 0]] [0] [0.51342726]\n",
      "[[0 0 0 0 0 1]\n",
      " [0 0 1 0 0 0]\n",
      " [0 0 0 0 0 0]\n",
      " [0 0 1 0 0 1]] [0] [0.5136259]\n",
      "[[0 0 1 0 0 0]\n",
      " [0 0 0 0 0 0]\n",
      " [0 0 1 0 0 1]\n",
      " [0 0 1 0 1 0]] [0] [0.50601935]\n",
      "[[0 0 0 0 0 0]\n",
      " [0 0 1 0 0 1]\n",
      " [0 0 1 0 1 0]\n",
      " [0 0 1 0 0 0]] [0] [0.5099062]\n"
     ]
    }
   ],
   "source": [
    "for i, j, pred in zip(Xs, Ys, predictions):\n",
    "    \n",
    "    print(i, j, pred)\n",
    "#     plt.imshow(i.T, cmap=\"binary\")\n",
    "    plt.show()"
   ]
  },
  {
   "cell_type": "markdown",
   "metadata": {},
   "source": [
    "# Make more realistic data"
   ]
  },
  {
   "cell_type": "code",
   "execution_count": 27,
   "metadata": {},
   "outputs": [],
   "source": [
    "m = 5                                     # number of time series to be generated\n",
    "ts_pool = [7,7,8,8,9,10,10,10,14,15,13]    #  simulate different lengths of time series\n",
    "n = 4                                      # number of features\n",
    "class_balance = 0.4                        # probability of label y==1\n",
    "\n",
    "ts_X, ts_Y = [], []\n",
    "\n",
    "for i in range(m):\n",
    "    \n",
    "    ts_len = np.random.choice(ts_pool)\n",
    "    \n",
    "    hasevent = np.random.binomial(1, class_balance, 1)\n",
    "    \n",
    "    if hasevent:\n",
    "        X = make_X(ts_len, [1,1,1.2,1.5])     # make appearance of features more likely\n",
    "        y = np.zeros((1,ts_len))\n",
    "        y[0,-1] = 1                           # put a one at the end\n",
    "        \n",
    "    else:\n",
    "        X = make_X(ts_len, [10,8,5,9])        # make appearance features less likely\n",
    "        y = np.zeros((1,ts_len))              # all labels are zero (no event)\n",
    "        \n",
    "    ts_X.append(X)\n",
    "    ts_Y.append(y)\n"
   ]
  },
  {
   "cell_type": "code",
   "execution_count": 28,
   "metadata": {},
   "outputs": [
    {
     "name": "stdout",
     "output_type": "stream",
     "text": [
      "11/11 [==============================] - 1s 48ms/sample - loss: 0.6952 - accuracy: 0.5455\n",
      "11/11 [==============================] - 0s 318us/sample - loss: 0.6856 - accuracy: 0.7273\n",
      "12/12 [==============================] - 0s 333us/sample - loss: 0.6900 - accuracy: 0.8333\n",
      "6/6 [==============================] - 0s 583us/sample - loss: 0.6644 - accuracy: 1.0000\n",
      "8/8 [==============================] - 0s 437us/sample - loss: 0.6774 - accuracy: 1.0000\n"
     ]
    }
   ],
   "source": [
    "tau = 3    # time window\n",
    "\n",
    "model = make_model(tau, n)\n",
    "\n",
    "for ts_x, ts_y in zip(ts_X, ts_Y):\n",
    "        \n",
    "    ts_x_windows, ts_y_windows = convert_series_to_Xy(ts_x, ts_y, tau)\n",
    "\n",
    "    model.fit(ts_x_windows, ts_y_windows)\n",
    "    "
   ]
  },
  {
   "cell_type": "code",
   "execution_count": 29,
   "metadata": {},
   "outputs": [],
   "source": [
    "def stack_ts(ts_X, ts_Y, tau):\n",
    "    \n",
    "    K, L = [],[]\n",
    "\n",
    "    for i, j in zip(ts_X, ts_Y):\n",
    "\n",
    "        k, l = convert_series_to_Xy(i, j, tau)\n",
    "\n",
    "        K.append(k)\n",
    "        L.append(l)\n",
    "\n",
    "\n",
    "    ts_X_stacked = np.vstack([i for i in K])\n",
    "    ts_Y_stacked = np.vstack([i for i in L])\n",
    "    \n",
    "    return ts_X_stacked, ts_Y_stacked"
   ]
  },
  {
   "cell_type": "code",
   "execution_count": 30,
   "metadata": {},
   "outputs": [],
   "source": [
    "ts_X_stacked, ts_Y_stacked = stack_ts(ts_X, ts_Y, tau)"
   ]
  },
  {
   "cell_type": "code",
   "execution_count": 31,
   "metadata": {},
   "outputs": [
    {
     "name": "stdout",
     "output_type": "stream",
     "text": [
      "(48, 3, 4)\n",
      "(48, 1)\n"
     ]
    }
   ],
   "source": [
    "print(ts_X_stacked.shape)\n",
    "print(ts_Y_stacked.shape)"
   ]
  },
  {
   "cell_type": "code",
   "execution_count": 32,
   "metadata": {},
   "outputs": [],
   "source": [
    "model = make_model(tau, ts_X_stacked.shape[2])"
   ]
  },
  {
   "cell_type": "code",
   "execution_count": 33,
   "metadata": {},
   "outputs": [
    {
     "name": "stdout",
     "output_type": "stream",
     "text": [
      "Model: \"sequential_2\"\n",
      "_________________________________________________________________\n",
      "Layer (type)                 Output Shape              Param #   \n",
      "=================================================================\n",
      "unified_lstm_2 (UnifiedLSTM) (None, 32)                4736      \n",
      "_________________________________________________________________\n",
      "dense_2 (Dense)              (None, 1)                 33        \n",
      "=================================================================\n",
      "Total params: 4,769\n",
      "Trainable params: 4,769\n",
      "Non-trainable params: 0\n",
      "_________________________________________________________________\n"
     ]
    }
   ],
   "source": [
    "model.summary()"
   ]
  },
  {
   "cell_type": "code",
   "execution_count": null,
   "metadata": {},
   "outputs": [],
   "source": []
  },
  {
   "cell_type": "code",
   "execution_count": null,
   "metadata": {},
   "outputs": [],
   "source": []
  },
  {
   "cell_type": "code",
   "execution_count": null,
   "metadata": {},
   "outputs": [],
   "source": []
  }
 ],
 "metadata": {
  "kernelspec": {
   "display_name": "Python 3",
   "language": "python",
   "name": "python3"
  },
  "language_info": {
   "codemirror_mode": {
    "name": "ipython",
    "version": 3
   },
   "file_extension": ".py",
   "mimetype": "text/x-python",
   "name": "python",
   "nbconvert_exporter": "python",
   "pygments_lexer": "ipython3",
   "version": "3.6.5"
  }
 },
 "nbformat": 4,
 "nbformat_minor": 2
}
