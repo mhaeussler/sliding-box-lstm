{
 "cells": [
  {
   "cell_type": "code",
   "execution_count": 1,
   "metadata": {},
   "outputs": [],
   "source": [
    "import numpy as np\n",
    "import matplotlib.pyplot as plt"
   ]
  },
  {
   "cell_type": "code",
   "execution_count": 2,
   "metadata": {},
   "outputs": [],
   "source": [
    "n_x = 5       # num features\n",
    "T_x = None    # input sequence len\n",
    "n_y = 2       # num classes \n",
    "T_y = 1       # output sequence len"
   ]
  },
  {
   "cell_type": "code",
   "execution_count": 3,
   "metadata": {},
   "outputs": [],
   "source": [
    "x1 = np.array([\n",
    "0,0,0,0.2,1.6,\n",
    "0,0,0,0.2,1.6,\n",
    "0,1,0,0.3,1.6,\n",
    "0,0,0,0.3,4.1,\n",
    "1,1,0,0.3,3.8,\n",
    "0,1,0,0.3,3.8,\n",
    "1,1,1,0.5,4.7,\n",
    "1,1,1,0.6,4.9,\n",
    "]).reshape(-1, n_x)"
   ]
  },
  {
   "cell_type": "code",
   "execution_count": 4,
   "metadata": {},
   "outputs": [],
   "source": [
    "# dmg_A, dmg_B\n",
    "\n",
    "y1 = np.array([\n",
    "0,0,\n",
    "0,0,\n",
    "0,0,\n",
    "0,0,\n",
    "0,0,\n",
    "0,0,\n",
    "0,0,\n",
    "1,0,\n",
    "]).reshape(-1, n_y)"
   ]
  },
  {
   "cell_type": "code",
   "execution_count": 5,
   "metadata": {},
   "outputs": [],
   "source": [
    "x2 = np.array([\n",
    "0,0,0,0.01,0.05,\n",
    "0,0,0,0.01,0.05,\n",
    "0,0,1,0.04,0.05,\n",
    "0,0,1,0.01,0.04,\n",
    "0,0,1,0.01,0.05,\n",
    "1,0,0,0.01,0.05,\n",
    "0,1,0,0.04,0.04,\n",
    "0,0,0,0.01,0.05,\n",
    "0,0,1,0.01,0.05,\n",
    "1,0,0,0.01,0.15,\n",
    "0,0,0,0.01,0.05,\n",
    "0,0,0,0.01,0.05,\n",
    "]).reshape(-1, n_x)"
   ]
  },
  {
   "cell_type": "code",
   "execution_count": 6,
   "metadata": {},
   "outputs": [],
   "source": [
    "# dmg_A, dmg_B\n",
    "\n",
    "y2 = np.array([\n",
    "0,0,\n",
    "0,0,\n",
    "0,0,\n",
    "0,0,\n",
    "0,0,\n",
    "0,0,\n",
    "0,0,\n",
    "0,0,\n",
    "0,0,\n",
    "0,0,\n",
    "0,0,\n",
    "0,1,\n",
    "]).reshape(-1, n_y)"
   ]
  },
  {
   "cell_type": "code",
   "execution_count": 7,
   "metadata": {},
   "outputs": [
    {
     "data": {
      "image/png": "[encoded data removed]",
      "text/plain": [
       "<Figure size 432x288 with 1 Axes>"
      ]
     },
     "metadata": {},
     "output_type": "display_data"
    },
    {
     "data": {
      "text/plain": [
       "<matplotlib.image.AxesImage at 0x1bb6c4b2b00>"
      ]
     },
     "execution_count": 7,
     "metadata": {},
     "output_type": "execute_result"
    },
    {
     "data": {
      "image/png": "[encoded data removed]",
      "text/plain": [
       "<Figure size 432x288 with 1 Axes>"
      ]
     },
     "metadata": {},
     "output_type": "display_data"
    }
   ],
   "source": [
    "plt.imshow(x1)\n",
    "plt.show()\n",
    "plt.imshow(y1)"
   ]
  },
  {
   "cell_type": "code",
   "execution_count": 8,
   "metadata": {},
   "outputs": [],
   "source": [
    "import tensorflow as tf\n",
    "from tensorflow.keras.models import Sequential\n",
    "from tensorflow.keras.layers import GRU, Dense"
   ]
  },
  {
   "cell_type": "code",
   "execution_count": 9,
   "metadata": {},
   "outputs": [
    {
     "data": {
      "text/plain": [
       "(5, None, 2, 1)"
      ]
     },
     "execution_count": 9,
     "metadata": {},
     "output_type": "execute_result"
    }
   ],
   "source": [
    "n_x, T_x, n_y, T_y"
   ]
  },
  {
   "cell_type": "code",
   "execution_count": 10,
   "metadata": {},
   "outputs": [],
   "source": [
    "def make_model(n_x, T_x, n_y, T_y):\n",
    "    \n",
    "    tf.keras.backend.clear_session()    \n",
    "    \n",
    "    model = Sequential()\n",
    "    model.add(GRU(32, input_shape=(T_x, n_x)))\n",
    "    model.add(Dense(n_y, activation=\"softmax\"))\n",
    "\n",
    "    model.compile(optimizer=\"adam\", loss=\"categorical_crossentropy\", metrics=[\"accuracy\"])\n",
    "    \n",
    "    return model"
   ]
  },
  {
   "cell_type": "code",
   "execution_count": 11,
   "metadata": {},
   "outputs": [],
   "source": [
    "model = make_model(n_x, T_x, n_y, T_y)"
   ]
  },
  {
   "cell_type": "code",
   "execution_count": 12,
   "metadata": {},
   "outputs": [],
   "source": [
    "def transform_sample(x, y):\n",
    "    \n",
    "    t = x.shape[0]\n",
    "    n = x.shape[1]\n",
    "    \n",
    "    x_ = x.reshape((1, t, n))\n",
    "    y_ = y[-1].reshape((1,2))\n",
    "\n",
    "    return x_, y_\n"
   ]
  },
  {
   "cell_type": "code",
   "execution_count": 13,
   "metadata": {},
   "outputs": [
    {
     "name": "stdout",
     "output_type": "stream",
     "text": [
      "(1, 8, 5) (1, 2)\n"
     ]
    }
   ],
   "source": [
    "x1_, y1_ = transform_sample(x1, y1)\n",
    "print(x1_.shape, y1_.shape)"
   ]
  },
  {
   "cell_type": "code",
   "execution_count": 14,
   "metadata": {},
   "outputs": [
    {
     "name": "stdout",
     "output_type": "stream",
     "text": [
      "(1, 8, 5) (1, 2)\n"
     ]
    }
   ],
   "source": [
    "x2_, y2_ = transform_sample(x2, y2)\n",
    "print(x1_.shape, y1_.shape)"
   ]
  },
  {
   "cell_type": "code",
   "execution_count": 15,
   "metadata": {},
   "outputs": [
    {
     "name": "stdout",
     "output_type": "stream",
     "text": [
      "\r",
      "1/1 [==============================] - 0s 443ms/sample - loss: 0.3110 - accuracy: 1.0000\n"
     ]
    },
    {
     "data": {
      "text/plain": [
       "<tensorflow.python.keras.callbacks.History at 0x1bb6e6d8b70>"
      ]
     },
     "execution_count": 15,
     "metadata": {},
     "output_type": "execute_result"
    }
   ],
   "source": [
    "model.fit(x1_, y1_)"
   ]
  },
  {
   "cell_type": "code",
   "execution_count": 16,
   "metadata": {},
   "outputs": [
    {
     "name": "stdout",
     "output_type": "stream",
     "text": [
      "\r",
      "1/1 [==============================] - 0s 7ms/sample - loss: 0.7252 - accuracy: 0.0000e+00\n"
     ]
    },
    {
     "data": {
      "text/plain": [
       "<tensorflow.python.keras.callbacks.History at 0x1bb741b5dd8>"
      ]
     },
     "execution_count": 16,
     "metadata": {},
     "output_type": "execute_result"
    }
   ],
   "source": [
    "model.fit(x2_, y2_)"
   ]
  },
  {
   "cell_type": "code",
   "execution_count": 17,
   "metadata": {},
   "outputs": [
    {
     "data": {
      "text/plain": [
       "array([[0.76819944, 0.23180054]], dtype=float32)"
      ]
     },
     "execution_count": 17,
     "metadata": {},
     "output_type": "execute_result"
    }
   ],
   "source": [
    "model.predict(x1_)"
   ]
  },
  {
   "cell_type": "markdown",
   "metadata": {},
   "source": [
    "# Proper Input Structure"
   ]
  },
  {
   "cell_type": "code",
   "execution_count": 18,
   "metadata": {},
   "outputs": [
    {
     "data": {
      "text/plain": [
       "<tf.Tensor: id=1726, shape=(4, 7), dtype=int32, numpy=\n",
       "array([[0, 0, 0, 0, 0, 0, 0],\n",
       "       [0, 0, 1, 2, 3, 0, 0],\n",
       "       [0, 0, 4, 5, 6, 0, 0],\n",
       "       [0, 0, 0, 0, 0, 0, 0]])>"
      ]
     },
     "execution_count": 18,
     "metadata": {},
     "output_type": "execute_result"
    }
   ],
   "source": [
    "t = tf.constant([[1, 2, 3], [4, 5, 6]])\n",
    "paddings = tf.constant([[1, 1,], [2, 2]])\n",
    "tf.pad(t, paddings)"
   ]
  },
  {
   "cell_type": "code",
   "execution_count": 19,
   "metadata": {},
   "outputs": [
    {
     "data": {
      "text/plain": [
       "<tf.Tensor: id=1730, shape=(2, 5), dtype=int32, numpy=\n",
       "array([[0, 0, 1, 2, 3],\n",
       "       [0, 0, 4, 5, 6]])>"
      ]
     },
     "execution_count": 19,
     "metadata": {},
     "output_type": "execute_result"
    }
   ],
   "source": [
    "t = tf.constant([[1, 2, 3], [4, 5, 6]])\n",
    "paddings = tf.constant([[0, 0,], [2, 0]])\n",
    "tf.pad(t, paddings)"
   ]
  },
  {
   "cell_type": "code",
   "execution_count": 20,
   "metadata": {},
   "outputs": [],
   "source": [
    "# KERAS generators for batch training:\n",
    "# https://www.kaggle.com/c/talkingdata-mobile-user-demographics/discussion/22567"
   ]
  },
  {
   "cell_type": "code",
   "execution_count": null,
   "metadata": {},
   "outputs": [],
   "source": [
    "# TODO"
   ]
  },
  {
   "cell_type": "code",
   "execution_count": null,
   "metadata": {},
   "outputs": [],
   "source": []
  },
  {
   "cell_type": "code",
   "execution_count": null,
   "metadata": {},
   "outputs": [],
   "source": []
  }
 ],
 "metadata": {
  "kernelspec": {
   "display_name": "Python 3",
   "language": "python",
   "name": "python3"
  },
  "language_info": {
   "codemirror_mode": {
    "name": "ipython",
    "version": 3
   },
   "file_extension": ".py",
   "mimetype": "text/x-python",
   "name": "python",
   "nbconvert_exporter": "python",
   "pygments_lexer": "ipython3",
   "version": "3.6.5"
  }
 },
 "nbformat": 4,
 "nbformat_minor": 2
}
